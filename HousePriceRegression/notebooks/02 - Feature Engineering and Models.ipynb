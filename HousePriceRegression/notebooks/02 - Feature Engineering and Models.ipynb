{
 "cells": [
  {
   "cell_type": "code",
   "execution_count": 124,
   "id": "43ac8606-35bf-455b-89d8-e8d349a3a7ab",
   "metadata": {},
   "outputs": [],
   "source": [
    "import itertools\n",
    "import pandas\n",
    "import numpy\n",
    "\n",
    "from sklearn.pipeline import Pipeline\n",
    "from sklearn.preprocessing import StandardScaler, PowerTransformer, OrdinalEncoder, FunctionTransformer\n",
    "from sklearn.impute import SimpleImputer\n",
    "from sklearn.compose import ColumnTransformer, TransformedTargetRegressor\n",
    "\n",
    "from sklearn.ensemble import RandomForestRegressor, GradientBoostingRegressor, StackingRegressor\n",
    "from sklearn.linear_model import LinearRegression, Lasso, Ridge, ElasticNet\n",
    "from sklearn.kernel_ridge import KernelRidge\n",
    "from sklearn.svm import SVR\n",
    "\n",
    "from sklearn.model_selection import train_test_split, cross_val_score, GridSearchCV\n",
    "from sklearn.inspection import permutation_importance\n",
    "from sklearn.metrics import mean_squared_log_error, mean_squared_error, make_scorer\n",
    "\n",
    "from joblib import dump, load\n",
    "\n",
    "import seaborn\n",
    "import matplotlib\n",
    "import matplotlib.pyplot as plt"
   ]
  },
  {
   "cell_type": "markdown",
   "id": "af8883a7-9eeb-4997-a8b8-957d0592ba0a",
   "metadata": {},
   "source": [
    "### Context\n",
    "\n",
    "In this notebook we construct a feature preprocessing pipeline and evaluate a few different regression models."
   ]
  },
  {
   "cell_type": "markdown",
   "id": "cf455708-a244-4528-bd6c-b580c486a311",
   "metadata": {},
   "source": [
    "### Load data and split"
   ]
  },
  {
   "cell_type": "code",
   "execution_count": 93,
   "id": "cea906a4-821c-4561-8f55-bc825cae1cae",
   "metadata": {},
   "outputs": [],
   "source": [
    "df = (\n",
    "    pandas.read_csv(\"../data/raw/train.csv\")\n",
    "    .set_index(keys=[\"Id\"])\n",
    ")"
   ]
  },
  {
   "cell_type": "code",
   "execution_count": 94,
   "id": "e515f5a8-8042-453e-9831-8209cb4c857f",
   "metadata": {},
   "outputs": [],
   "source": [
    "target = \"SalePrice\"\n",
    "features = [col for col in df.columns if col != target]"
   ]
  },
  {
   "cell_type": "markdown",
   "id": "701e6547-7705-492b-a6e2-ec05143194fd",
   "metadata": {},
   "source": [
    "Let's split into train/test so we have a hold out set for later"
   ]
  },
  {
   "cell_type": "code",
   "execution_count": 95,
   "id": "c47d5908-21b4-4c76-9f04-3fa8f5fded21",
   "metadata": {},
   "outputs": [],
   "source": [
    "X = df[features]\n",
    "y = df[target]\n",
    "\n",
    "X_train, X_test, y_train, y_test = train_test_split(X, y, test_size=0.2, random_state=12345)"
   ]
  },
  {
   "cell_type": "code",
   "execution_count": 96,
   "id": "ec382cba-0f90-4d7a-a4b5-fadf414550a4",
   "metadata": {},
   "outputs": [],
   "source": [
    "X_train.to_csv(\"../data/split/X_train.csv\")\n",
    "X_test.to_csv(\"../data/split/X_test.csv\")\n",
    "y_train.to_csv(\"../data/split/y_train.csv\")\n",
    "y_test.to_csv(\"../data/split/y_test.csv\")"
   ]
  },
  {
   "cell_type": "markdown",
   "id": "ece3e85b-48ce-4f39-8352-4bd95d068acb",
   "metadata": {},
   "source": [
    "### Feature preprocessing\n",
    "\n",
    "Create transformations for feature preprocessing and engineering, this boils down to:\n",
    "\n",
    "* Add some custom features\n",
    "* Impute missing values\n",
    "    * For some categoricals we impute with a new category\n",
    "    * For some categoricals we impute with the mode\n",
    "    * For some numericals we impute with zero\n",
    "    * For the column \"Functional\" we impute with \"Typ\"\n",
    "* Encode categoricals as ordinals\n",
    "    * I.e., create a mapping from categorical values to an integer\n",
    "* Perform power transformations on non-normally distributed continuous variables\n",
    "\n",
    "We define a number of pipelines to handle the different cases, then combine them using a `ColumnTransformer`"
   ]
  },
  {
   "cell_type": "markdown",
   "id": "2e8f2889-5434-4c28-8dce-3256347c4a84",
   "metadata": {},
   "source": [
    "\n",
    "#### Define some new features"
   ]
  },
  {
   "cell_type": "code",
   "execution_count": 6,
   "id": "836d73f2-0b63-436f-9817-7b3d53186921",
   "metadata": {},
   "outputs": [],
   "source": [
    "def add_boolean_features(df):\n",
    "    return (\n",
    "        df\n",
    "        .assign(\n",
    "            HasPool=lambda x: numpy.where(x[\"PoolArea\"] > 0, 1, 0),\n",
    "            Has2ndFloor=lambda x: numpy.where(x[\"2ndFlrSF\"] > 0, 1, 0),\n",
    "            HasGarage=lambda x: numpy.where(x[\"GarageArea\"] > 0, 1, 0),\n",
    "            HasBasement=lambda x: numpy.where(x[\"TotalBsmtSF\"] > 0, 1, 0),\n",
    "            HasFireplace=lambda x: numpy.where(x[\"Fireplaces\"] > 0, 1, 0),\n",
    "            HasBeenRemodelled=lambda x: numpy.where(x[\"YearBuilt\"] == x[\"YearRemodAdd\"], 1, 0),\n",
    "        )\n",
    "    )\n",
    "\n",
    "def add_boolean_feature_names(self, input_features):\n",
    "    return numpy.hstack([\n",
    "        input_features,\n",
    "        [\"HasPool\", \"Has2ndFloor\", \"HasGarage\", \"HasBasement\", \"HasFireplace\", \"HasBeenRemodelled\"]\n",
    "    ])"
   ]
  },
  {
   "cell_type": "code",
   "execution_count": 7,
   "id": "aa526283-e7e5-405d-968d-3e71a2957d78",
   "metadata": {},
   "outputs": [],
   "source": [
    "transformer_add_boolean_features = FunctionTransformer(\n",
    "    add_boolean_features,\n",
    "    feature_names_out=add_boolean_feature_names,\n",
    ")"
   ]
  },
  {
   "cell_type": "code",
   "execution_count": 8,
   "id": "30b78a95-9a13-4585-bc16-0b20ded19729",
   "metadata": {},
   "outputs": [
    {
     "data": {
      "text/html": [
       "<div>\n",
       "<style scoped>\n",
       "    .dataframe tbody tr th:only-of-type {\n",
       "        vertical-align: middle;\n",
       "    }\n",
       "\n",
       "    .dataframe tbody tr th {\n",
       "        vertical-align: top;\n",
       "    }\n",
       "\n",
       "    .dataframe thead th {\n",
       "        text-align: right;\n",
       "    }\n",
       "</style>\n",
       "<table border=\"1\" class=\"dataframe\">\n",
       "  <thead>\n",
       "    <tr style=\"text-align: right;\">\n",
       "      <th></th>\n",
       "      <th>MSSubClass</th>\n",
       "      <th>MSZoning</th>\n",
       "      <th>LotFrontage</th>\n",
       "      <th>LotArea</th>\n",
       "      <th>Street</th>\n",
       "      <th>Alley</th>\n",
       "      <th>LotShape</th>\n",
       "      <th>LandContour</th>\n",
       "      <th>Utilities</th>\n",
       "      <th>LotConfig</th>\n",
       "      <th>...</th>\n",
       "      <th>MoSold</th>\n",
       "      <th>YrSold</th>\n",
       "      <th>SaleType</th>\n",
       "      <th>SaleCondition</th>\n",
       "      <th>HasPool</th>\n",
       "      <th>Has2ndFloor</th>\n",
       "      <th>HasGarage</th>\n",
       "      <th>HasBasement</th>\n",
       "      <th>HasFireplace</th>\n",
       "      <th>HasBeenRemodelled</th>\n",
       "    </tr>\n",
       "    <tr>\n",
       "      <th>Id</th>\n",
       "      <th></th>\n",
       "      <th></th>\n",
       "      <th></th>\n",
       "      <th></th>\n",
       "      <th></th>\n",
       "      <th></th>\n",
       "      <th></th>\n",
       "      <th></th>\n",
       "      <th></th>\n",
       "      <th></th>\n",
       "      <th></th>\n",
       "      <th></th>\n",
       "      <th></th>\n",
       "      <th></th>\n",
       "      <th></th>\n",
       "      <th></th>\n",
       "      <th></th>\n",
       "      <th></th>\n",
       "      <th></th>\n",
       "      <th></th>\n",
       "      <th></th>\n",
       "    </tr>\n",
       "  </thead>\n",
       "  <tbody>\n",
       "    <tr>\n",
       "      <th>198</th>\n",
       "      <td>75</td>\n",
       "      <td>RL</td>\n",
       "      <td>174.0</td>\n",
       "      <td>25419</td>\n",
       "      <td>Pave</td>\n",
       "      <td>NaN</td>\n",
       "      <td>Reg</td>\n",
       "      <td>Lvl</td>\n",
       "      <td>AllPub</td>\n",
       "      <td>Corner</td>\n",
       "      <td>...</td>\n",
       "      <td>3</td>\n",
       "      <td>2006</td>\n",
       "      <td>WD</td>\n",
       "      <td>Abnorml</td>\n",
       "      <td>1</td>\n",
       "      <td>1</td>\n",
       "      <td>1</td>\n",
       "      <td>1</td>\n",
       "      <td>1</td>\n",
       "      <td>0</td>\n",
       "    </tr>\n",
       "    <tr>\n",
       "      <th>811</th>\n",
       "      <td>20</td>\n",
       "      <td>RL</td>\n",
       "      <td>78.0</td>\n",
       "      <td>10140</td>\n",
       "      <td>Pave</td>\n",
       "      <td>NaN</td>\n",
       "      <td>Reg</td>\n",
       "      <td>Lvl</td>\n",
       "      <td>AllPub</td>\n",
       "      <td>Inside</td>\n",
       "      <td>...</td>\n",
       "      <td>1</td>\n",
       "      <td>2006</td>\n",
       "      <td>WD</td>\n",
       "      <td>Normal</td>\n",
       "      <td>1</td>\n",
       "      <td>0</td>\n",
       "      <td>1</td>\n",
       "      <td>1</td>\n",
       "      <td>1</td>\n",
       "      <td>0</td>\n",
       "    </tr>\n",
       "    <tr>\n",
       "      <th>1171</th>\n",
       "      <td>80</td>\n",
       "      <td>RL</td>\n",
       "      <td>76.0</td>\n",
       "      <td>9880</td>\n",
       "      <td>Pave</td>\n",
       "      <td>NaN</td>\n",
       "      <td>Reg</td>\n",
       "      <td>Lvl</td>\n",
       "      <td>AllPub</td>\n",
       "      <td>Inside</td>\n",
       "      <td>...</td>\n",
       "      <td>7</td>\n",
       "      <td>2008</td>\n",
       "      <td>WD</td>\n",
       "      <td>Normal</td>\n",
       "      <td>1</td>\n",
       "      <td>0</td>\n",
       "      <td>1</td>\n",
       "      <td>1</td>\n",
       "      <td>1</td>\n",
       "      <td>1</td>\n",
       "    </tr>\n",
       "    <tr>\n",
       "      <th>1183</th>\n",
       "      <td>60</td>\n",
       "      <td>RL</td>\n",
       "      <td>160.0</td>\n",
       "      <td>15623</td>\n",
       "      <td>Pave</td>\n",
       "      <td>NaN</td>\n",
       "      <td>IR1</td>\n",
       "      <td>Lvl</td>\n",
       "      <td>AllPub</td>\n",
       "      <td>Corner</td>\n",
       "      <td>...</td>\n",
       "      <td>7</td>\n",
       "      <td>2007</td>\n",
       "      <td>WD</td>\n",
       "      <td>Abnorml</td>\n",
       "      <td>1</td>\n",
       "      <td>1</td>\n",
       "      <td>1</td>\n",
       "      <td>1</td>\n",
       "      <td>1</td>\n",
       "      <td>1</td>\n",
       "    </tr>\n",
       "    <tr>\n",
       "      <th>1299</th>\n",
       "      <td>60</td>\n",
       "      <td>RL</td>\n",
       "      <td>313.0</td>\n",
       "      <td>63887</td>\n",
       "      <td>Pave</td>\n",
       "      <td>NaN</td>\n",
       "      <td>IR3</td>\n",
       "      <td>Bnk</td>\n",
       "      <td>AllPub</td>\n",
       "      <td>Corner</td>\n",
       "      <td>...</td>\n",
       "      <td>1</td>\n",
       "      <td>2008</td>\n",
       "      <td>New</td>\n",
       "      <td>Partial</td>\n",
       "      <td>1</td>\n",
       "      <td>1</td>\n",
       "      <td>1</td>\n",
       "      <td>1</td>\n",
       "      <td>1</td>\n",
       "      <td>1</td>\n",
       "    </tr>\n",
       "    <tr>\n",
       "      <th>1387</th>\n",
       "      <td>60</td>\n",
       "      <td>RL</td>\n",
       "      <td>80.0</td>\n",
       "      <td>16692</td>\n",
       "      <td>Pave</td>\n",
       "      <td>NaN</td>\n",
       "      <td>IR1</td>\n",
       "      <td>Lvl</td>\n",
       "      <td>AllPub</td>\n",
       "      <td>Inside</td>\n",
       "      <td>...</td>\n",
       "      <td>7</td>\n",
       "      <td>2006</td>\n",
       "      <td>WD</td>\n",
       "      <td>Normal</td>\n",
       "      <td>1</td>\n",
       "      <td>1</td>\n",
       "      <td>1</td>\n",
       "      <td>1</td>\n",
       "      <td>1</td>\n",
       "      <td>1</td>\n",
       "    </tr>\n",
       "    <tr>\n",
       "      <th>1424</th>\n",
       "      <td>80</td>\n",
       "      <td>RL</td>\n",
       "      <td>NaN</td>\n",
       "      <td>19690</td>\n",
       "      <td>Pave</td>\n",
       "      <td>NaN</td>\n",
       "      <td>IR1</td>\n",
       "      <td>Lvl</td>\n",
       "      <td>AllPub</td>\n",
       "      <td>CulDSac</td>\n",
       "      <td>...</td>\n",
       "      <td>8</td>\n",
       "      <td>2006</td>\n",
       "      <td>WD</td>\n",
       "      <td>Alloca</td>\n",
       "      <td>1</td>\n",
       "      <td>1</td>\n",
       "      <td>1</td>\n",
       "      <td>1</td>\n",
       "      <td>1</td>\n",
       "      <td>1</td>\n",
       "    </tr>\n",
       "  </tbody>\n",
       "</table>\n",
       "<p>7 rows × 85 columns</p>\n",
       "</div>"
      ],
      "text/plain": [
       "      MSSubClass MSZoning  LotFrontage  LotArea Street Alley LotShape  \\\n",
       "Id                                                                      \n",
       "198           75       RL        174.0    25419   Pave   NaN      Reg   \n",
       "811           20       RL         78.0    10140   Pave   NaN      Reg   \n",
       "1171          80       RL         76.0     9880   Pave   NaN      Reg   \n",
       "1183          60       RL        160.0    15623   Pave   NaN      IR1   \n",
       "1299          60       RL        313.0    63887   Pave   NaN      IR3   \n",
       "1387          60       RL         80.0    16692   Pave   NaN      IR1   \n",
       "1424          80       RL          NaN    19690   Pave   NaN      IR1   \n",
       "\n",
       "     LandContour Utilities LotConfig  ... MoSold YrSold SaleType  \\\n",
       "Id                                    ...                          \n",
       "198          Lvl    AllPub    Corner  ...      3   2006       WD   \n",
       "811          Lvl    AllPub    Inside  ...      1   2006       WD   \n",
       "1171         Lvl    AllPub    Inside  ...      7   2008       WD   \n",
       "1183         Lvl    AllPub    Corner  ...      7   2007       WD   \n",
       "1299         Bnk    AllPub    Corner  ...      1   2008      New   \n",
       "1387         Lvl    AllPub    Inside  ...      7   2006       WD   \n",
       "1424         Lvl    AllPub   CulDSac  ...      8   2006       WD   \n",
       "\n",
       "     SaleCondition HasPool Has2ndFloor  HasGarage  HasBasement  HasFireplace  \\\n",
       "Id                                                                             \n",
       "198        Abnorml       1           1          1            1             1   \n",
       "811         Normal       1           0          1            1             1   \n",
       "1171        Normal       1           0          1            1             1   \n",
       "1183       Abnorml       1           1          1            1             1   \n",
       "1299       Partial       1           1          1            1             1   \n",
       "1387        Normal       1           1          1            1             1   \n",
       "1424        Alloca       1           1          1            1             1   \n",
       "\n",
       "      HasBeenRemodelled  \n",
       "Id                       \n",
       "198                   0  \n",
       "811                   0  \n",
       "1171                  1  \n",
       "1183                  1  \n",
       "1299                  1  \n",
       "1387                  1  \n",
       "1424                  1  \n",
       "\n",
       "[7 rows x 85 columns]"
      ]
     },
     "execution_count": 8,
     "metadata": {},
     "output_type": "execute_result"
    }
   ],
   "source": [
    "transformer_add_boolean_features.fit_transform(X).loc[lambda x: x[\"HasPool\"] == 1]"
   ]
  },
  {
   "cell_type": "code",
   "execution_count": 9,
   "id": "cae861dc-3ba4-42d1-8d7b-4e7b6559e6ca",
   "metadata": {},
   "outputs": [],
   "source": [
    "def add_total_sf_features(df):\n",
    "    return (\n",
    "        df\n",
    "        .assign(\n",
    "            TotalSF=lambda x: x[\"TotalBsmtSF\"] + x[\"1stFlrSF\"] + x[\"2ndFlrSF\"],\n",
    "            TotalBathrooms=lambda x: x[\"FullBath\"] + 0.5 * x[\"HalfBath\"] + x[\"BsmtFullBath\"] + 0.5 * x[\"BsmtHalfBath\"],\n",
    "            TotalPorchSF=lambda x: x[\"OpenPorchSF\"] + x[\"3SsnPorch\"] + x[\"EnclosedPorch\"] + x[\"ScreenPorch\"] + x[\"WoodDeckSF\"],\n",
    "            BuildingAge=lambda x: x[\"YrSold\"] - x[\"YearRemodAdd\"],\n",
    "        )\n",
    "    )\n",
    "\n",
    "def add_total_sf_feature_names(self, input_features):\n",
    "    return numpy.hstack([\n",
    "        input_features,\n",
    "        [\"TotalSF\", \"TotalBathrooms\", \"TotalPorchSF\", \"BuildingAge\"]\n",
    "    ])"
   ]
  },
  {
   "cell_type": "code",
   "execution_count": 10,
   "id": "cb5031bc-1fea-46c5-9d60-6465df1c7ecf",
   "metadata": {},
   "outputs": [],
   "source": [
    "transformer_add_total_features = FunctionTransformer(\n",
    "    add_total_sf_features,\n",
    "    feature_names_out=add_total_sf_feature_names\n",
    ")"
   ]
  },
  {
   "cell_type": "code",
   "execution_count": 11,
   "id": "1c3f6e68-662f-4a78-8538-3a9f489a389a",
   "metadata": {},
   "outputs": [
    {
     "data": {
      "text/html": [
       "<div>\n",
       "<style scoped>\n",
       "    .dataframe tbody tr th:only-of-type {\n",
       "        vertical-align: middle;\n",
       "    }\n",
       "\n",
       "    .dataframe tbody tr th {\n",
       "        vertical-align: top;\n",
       "    }\n",
       "\n",
       "    .dataframe thead th {\n",
       "        text-align: right;\n",
       "    }\n",
       "</style>\n",
       "<table border=\"1\" class=\"dataframe\">\n",
       "  <thead>\n",
       "    <tr style=\"text-align: right;\">\n",
       "      <th></th>\n",
       "      <th>MSSubClass</th>\n",
       "      <th>MSZoning</th>\n",
       "      <th>LotFrontage</th>\n",
       "      <th>LotArea</th>\n",
       "      <th>Street</th>\n",
       "      <th>Alley</th>\n",
       "      <th>LotShape</th>\n",
       "      <th>LandContour</th>\n",
       "      <th>Utilities</th>\n",
       "      <th>LotConfig</th>\n",
       "      <th>...</th>\n",
       "      <th>MiscFeature</th>\n",
       "      <th>MiscVal</th>\n",
       "      <th>MoSold</th>\n",
       "      <th>YrSold</th>\n",
       "      <th>SaleType</th>\n",
       "      <th>SaleCondition</th>\n",
       "      <th>TotalSF</th>\n",
       "      <th>TotalBathrooms</th>\n",
       "      <th>TotalPorchSF</th>\n",
       "      <th>BuildingAge</th>\n",
       "    </tr>\n",
       "    <tr>\n",
       "      <th>Id</th>\n",
       "      <th></th>\n",
       "      <th></th>\n",
       "      <th></th>\n",
       "      <th></th>\n",
       "      <th></th>\n",
       "      <th></th>\n",
       "      <th></th>\n",
       "      <th></th>\n",
       "      <th></th>\n",
       "      <th></th>\n",
       "      <th></th>\n",
       "      <th></th>\n",
       "      <th></th>\n",
       "      <th></th>\n",
       "      <th></th>\n",
       "      <th></th>\n",
       "      <th></th>\n",
       "      <th></th>\n",
       "      <th></th>\n",
       "      <th></th>\n",
       "      <th></th>\n",
       "    </tr>\n",
       "  </thead>\n",
       "  <tbody>\n",
       "    <tr>\n",
       "      <th>784</th>\n",
       "      <td>85</td>\n",
       "      <td>RL</td>\n",
       "      <td>NaN</td>\n",
       "      <td>9101</td>\n",
       "      <td>Pave</td>\n",
       "      <td>NaN</td>\n",
       "      <td>IR1</td>\n",
       "      <td>Lvl</td>\n",
       "      <td>AllPub</td>\n",
       "      <td>Corner</td>\n",
       "      <td>...</td>\n",
       "      <td>NaN</td>\n",
       "      <td>0</td>\n",
       "      <td>7</td>\n",
       "      <td>2009</td>\n",
       "      <td>WD</td>\n",
       "      <td>Normal</td>\n",
       "      <td>2207</td>\n",
       "      <td>2.0</td>\n",
       "      <td>333</td>\n",
       "      <td>31</td>\n",
       "    </tr>\n",
       "    <tr>\n",
       "      <th>512</th>\n",
       "      <td>120</td>\n",
       "      <td>RL</td>\n",
       "      <td>40.0</td>\n",
       "      <td>6792</td>\n",
       "      <td>Pave</td>\n",
       "      <td>NaN</td>\n",
       "      <td>IR1</td>\n",
       "      <td>Lvl</td>\n",
       "      <td>AllPub</td>\n",
       "      <td>Inside</td>\n",
       "      <td>...</td>\n",
       "      <td>NaN</td>\n",
       "      <td>0</td>\n",
       "      <td>3</td>\n",
       "      <td>2006</td>\n",
       "      <td>New</td>\n",
       "      <td>Partial</td>\n",
       "      <td>2736</td>\n",
       "      <td>2.0</td>\n",
       "      <td>167</td>\n",
       "      <td>0</td>\n",
       "    </tr>\n",
       "    <tr>\n",
       "      <th>1072</th>\n",
       "      <td>60</td>\n",
       "      <td>RL</td>\n",
       "      <td>78.0</td>\n",
       "      <td>11700</td>\n",
       "      <td>Pave</td>\n",
       "      <td>NaN</td>\n",
       "      <td>Reg</td>\n",
       "      <td>Lvl</td>\n",
       "      <td>AllPub</td>\n",
       "      <td>Inside</td>\n",
       "      <td>...</td>\n",
       "      <td>NaN</td>\n",
       "      <td>0</td>\n",
       "      <td>5</td>\n",
       "      <td>2009</td>\n",
       "      <td>WD</td>\n",
       "      <td>Normal</td>\n",
       "      <td>2283</td>\n",
       "      <td>1.5</td>\n",
       "      <td>0</td>\n",
       "      <td>41</td>\n",
       "    </tr>\n",
       "    <tr>\n",
       "      <th>1139</th>\n",
       "      <td>20</td>\n",
       "      <td>RL</td>\n",
       "      <td>NaN</td>\n",
       "      <td>9819</td>\n",
       "      <td>Pave</td>\n",
       "      <td>NaN</td>\n",
       "      <td>IR1</td>\n",
       "      <td>Lvl</td>\n",
       "      <td>AllPub</td>\n",
       "      <td>Inside</td>\n",
       "      <td>...</td>\n",
       "      <td>NaN</td>\n",
       "      <td>0</td>\n",
       "      <td>5</td>\n",
       "      <td>2009</td>\n",
       "      <td>WD</td>\n",
       "      <td>Normal</td>\n",
       "      <td>3134</td>\n",
       "      <td>3.0</td>\n",
       "      <td>296</td>\n",
       "      <td>32</td>\n",
       "    </tr>\n",
       "    <tr>\n",
       "      <th>384</th>\n",
       "      <td>45</td>\n",
       "      <td>RH</td>\n",
       "      <td>60.0</td>\n",
       "      <td>9000</td>\n",
       "      <td>Pave</td>\n",
       "      <td>NaN</td>\n",
       "      <td>Reg</td>\n",
       "      <td>Lvl</td>\n",
       "      <td>AllPub</td>\n",
       "      <td>Corner</td>\n",
       "      <td>...</td>\n",
       "      <td>NaN</td>\n",
       "      <td>0</td>\n",
       "      <td>10</td>\n",
       "      <td>2009</td>\n",
       "      <td>WD</td>\n",
       "      <td>Normal</td>\n",
       "      <td>1568</td>\n",
       "      <td>1.0</td>\n",
       "      <td>91</td>\n",
       "      <td>59</td>\n",
       "    </tr>\n",
       "  </tbody>\n",
       "</table>\n",
       "<p>5 rows × 83 columns</p>\n",
       "</div>"
      ],
      "text/plain": [
       "      MSSubClass MSZoning  LotFrontage  LotArea Street Alley LotShape  \\\n",
       "Id                                                                      \n",
       "784           85       RL          NaN     9101   Pave   NaN      IR1   \n",
       "512          120       RL         40.0     6792   Pave   NaN      IR1   \n",
       "1072          60       RL         78.0    11700   Pave   NaN      Reg   \n",
       "1139          20       RL          NaN     9819   Pave   NaN      IR1   \n",
       "384           45       RH         60.0     9000   Pave   NaN      Reg   \n",
       "\n",
       "     LandContour Utilities LotConfig  ... MiscFeature MiscVal MoSold YrSold  \\\n",
       "Id                                    ...                                     \n",
       "784          Lvl    AllPub    Corner  ...         NaN       0      7   2009   \n",
       "512          Lvl    AllPub    Inside  ...         NaN       0      3   2006   \n",
       "1072         Lvl    AllPub    Inside  ...         NaN       0      5   2009   \n",
       "1139         Lvl    AllPub    Inside  ...         NaN       0      5   2009   \n",
       "384          Lvl    AllPub    Corner  ...         NaN       0     10   2009   \n",
       "\n",
       "     SaleType SaleCondition  TotalSF  TotalBathrooms  TotalPorchSF  \\\n",
       "Id                                                                   \n",
       "784        WD        Normal     2207             2.0           333   \n",
       "512       New       Partial     2736             2.0           167   \n",
       "1072       WD        Normal     2283             1.5             0   \n",
       "1139       WD        Normal     3134             3.0           296   \n",
       "384        WD        Normal     1568             1.0            91   \n",
       "\n",
       "      BuildingAge  \n",
       "Id                 \n",
       "784            31  \n",
       "512             0  \n",
       "1072           41  \n",
       "1139           32  \n",
       "384            59  \n",
       "\n",
       "[5 rows x 83 columns]"
      ]
     },
     "execution_count": 11,
     "metadata": {},
     "output_type": "execute_result"
    }
   ],
   "source": [
    "transformer_add_total_features.fit_transform(X_train).head()"
   ]
  },
  {
   "cell_type": "code",
   "execution_count": 12,
   "id": "034d4339-0420-4ef9-bbbd-40d74ae874d2",
   "metadata": {},
   "outputs": [],
   "source": [
    "def add_neighborhood_features(df):\n",
    "\n",
    "    nghd_scores = (\n",
    "        df\n",
    "        .groupby(by=[\"Neighborhood\"])\n",
    "        .agg({\"OverallQual\": \"mean\"})\n",
    "        .sort_values(by=[\"OverallQual\"], ascending=False)\n",
    "    )\n",
    "\n",
    "    return (\n",
    "        df\n",
    "        .assign(\n",
    "            NeighborhoodQual=lambda x: numpy.select(\n",
    "                [x[\"Neighborhood\"].isin(nghd_scores.head(3).index), x[\"Neighborhood\"].isin(nghd_scores.tail(3).index)],\n",
    "                [\"High\", \"Low\"],\n",
    "                default=\"Mid\"\n",
    "            )\n",
    "        )\n",
    "    )\n",
    "\n",
    "def add_neighborhood_feature_names(self, input_features):\n",
    "    return numpy.hstack([\n",
    "        input_features,\n",
    "        [\"NeighborhoodQual\"]\n",
    "    ])"
   ]
  },
  {
   "cell_type": "code",
   "execution_count": 13,
   "id": "cc909f76-00da-4b08-a1f5-ce37bfda0eef",
   "metadata": {},
   "outputs": [],
   "source": [
    "transformer_add_neighborhood_features = FunctionTransformer(\n",
    "    add_neighborhood_features,\n",
    "    feature_names_out=add_neighborhood_feature_names\n",
    ")"
   ]
  },
  {
   "cell_type": "markdown",
   "id": "0e42e9ac-ad8f-44ff-b6b0-33c5d97233c9",
   "metadata": {},
   "source": [
    "#### Handle Ordinal Categoricals\n",
    "\n",
    "A large number of features are categoricals that we encode as ordinals. We impute missing values as a new \"None\" category."
   ]
  },
  {
   "cell_type": "code",
   "execution_count": 14,
   "id": "4c85d476-652c-4c20-8793-5f0ae0e7c59e",
   "metadata": {},
   "outputs": [],
   "source": [
    "ordinal_categorical_pipe = Pipeline(steps=[\n",
    "    (\"impute_missing_categoricals\", SimpleImputer(strategy=\"constant\", fill_value=\"None\")),\n",
    "    (\"encode_ordinal_values\", OrdinalEncoder(handle_unknown=\"use_encoded_value\", unknown_value=-1))\n",
    "])"
   ]
  },
  {
   "cell_type": "code",
   "execution_count": 15,
   "id": "3c98bda7-59b4-4869-ae7a-e26da528817c",
   "metadata": {},
   "outputs": [],
   "source": [
    "ordinal_categorical_features = [\n",
    "    \"PoolQC\",\n",
    "    \"MiscFeature\",\n",
    "    \"Alley\",\n",
    "    \"Fence\",\n",
    "    \"FireplaceQu\",\n",
    "    \"GarageType\",\n",
    "    \"GarageFinish\",\n",
    "    \"GarageCond\",\n",
    "    \"BsmtCond\",\n",
    "    \"BsmtExposure\",\n",
    "    \"BsmtFinType1\",\n",
    "    \"BsmtFinType2\",\n",
    "    \"MasVnrType\",\n",
    "    \"MSSubClass\",\n",
    "    \"Functional\",\n",
    "    \"CentralAir\",\n",
    "    \"ExterCond\",\n",
    "    \"HeatingQC\",\n",
    "    \"LandSlope\",\n",
    "    \"LotShape\",\n",
    "    \"OverallCond\",\n",
    "    \"PavedDrive\",\n",
    "    \"Street\",\n",
    "    \"KitchenAbvGr\",\n",
    "    \"Foundation\",\n",
    "    \"SaleCondition\",\n",
    "    \"RoofStyle\",\n",
    "    \"HouseStyle\",\n",
    "    \"Neighborhood\",\n",
    "    \"RoofMatl\",\n",
    "    \"LotConfig\",\n",
    "    \"Condition1\",\n",
    "    \"Condition2\",\n",
    "    \"BldgType\",\n",
    "    \"LandContour\",\n",
    "    \"NeighborhoodQual\",\n",
    "]"
   ]
  },
  {
   "cell_type": "markdown",
   "id": "d8d396ad-ce7c-4143-9384-0925f8ad91ad",
   "metadata": {},
   "source": [
    "For some categoricals, it makes more sense to impute with the most common value (mode)."
   ]
  },
  {
   "cell_type": "code",
   "execution_count": 16,
   "id": "06713694-980d-44f0-84e8-676abd1cc1b0",
   "metadata": {},
   "outputs": [],
   "source": [
    "ordinal_categorical_with_mode_imputed_pipe = Pipeline(steps=[\n",
    "    (\"impute_missing_categoricals_as_mode\", SimpleImputer(strategy=\"most_frequent\")),\n",
    "    (\"encode_ordinal_values\", OrdinalEncoder(handle_unknown=\"use_encoded_value\", unknown_value=-1))\n",
    "])"
   ]
  },
  {
   "cell_type": "code",
   "execution_count": 17,
   "id": "c627da30-7273-4c67-9711-f2ee480dd0a4",
   "metadata": {},
   "outputs": [],
   "source": [
    "ordinal_categorical_with_mode_imputed_features = [\n",
    "    \"MSZoning\",\n",
    "    \"Utilities\",\n",
    "    \"Electrical\",\n",
    "    \"Heating\",\n",
    "    \"KitchenQual\",\n",
    "    \"GarageQual\",\n",
    "    \"BsmtQual\",\n",
    "    \"ExterQual\",\n",
    "    \"Exterior1st\",\n",
    "    \"Exterior2nd\",\n",
    "    \"SaleType\"\n",
    "]"
   ]
  },
  {
   "cell_type": "markdown",
   "id": "97e44ad9-7e93-4614-a917-248a6ce9e046",
   "metadata": {},
   "source": [
    "#### Handle date-related features\n",
    "\n",
    "We cast these dates as ordinals."
   ]
  },
  {
   "cell_type": "code",
   "execution_count": 18,
   "id": "02c4e323-0003-41c9-b529-cec973ab4462",
   "metadata": {},
   "outputs": [],
   "source": [
    "date_transformation_pipe = Pipeline(steps=[\n",
    "    (\"impute_missing_categoricals\", SimpleImputer(strategy=\"constant\", fill_value=-1)),\n",
    "    (\"encode_ordinal_values\", OrdinalEncoder(handle_unknown=\"use_encoded_value\", unknown_value=-1))\n",
    "])"
   ]
  },
  {
   "cell_type": "code",
   "execution_count": 19,
   "id": "6bb852cb-4c18-45fd-a6c8-d4b701d6b734",
   "metadata": {},
   "outputs": [],
   "source": [
    "date_features = [\n",
    "    \"YrSold\",\n",
    "    \"MoSold\",\n",
    "    \"YearBuilt\",\n",
    "    \"YearRemodAdd\",\n",
    "    \"GarageYrBlt\",\n",
    "    \"BuildingAge\",\n",
    "]"
   ]
  },
  {
   "cell_type": "markdown",
   "id": "7b2022f9-bccd-42db-be26-71dfed909600",
   "metadata": {},
   "source": [
    "#### Handle Numerical Values with Zero Imputed"
   ]
  },
  {
   "cell_type": "code",
   "execution_count": 20,
   "id": "b6d52060-ba11-4b73-8690-4690ae5eb28e",
   "metadata": {},
   "outputs": [],
   "source": [
    "numerical_values_cast_as_ordinals_pipe = Pipeline(steps=[\n",
    "    (\"impute_zero\", SimpleImputer(strategy=\"constant\", fill_value=0)),\n",
    "    (\"encode_ordinal_values\", OrdinalEncoder(handle_unknown=\"use_encoded_value\", unknown_value=-1))\n",
    "])"
   ]
  },
  {
   "cell_type": "code",
   "execution_count": 21,
   "id": "92967810-957d-4af2-a18b-aa439da751b4",
   "metadata": {},
   "outputs": [],
   "source": [
    "numerical_ordinals_features = [\n",
    "    \"GarageCars\",\n",
    "    \"BsmtFullBath\",\n",
    "    \"BsmtHalfBath\",\n",
    "    \"BedroomAbvGr\",\n",
    "    \"Fireplaces\",\n",
    "    \"FullBath\",\n",
    "    \"HalfBath\",\n",
    "    \"OverallQual\",\n",
    "    \"TotRmsAbvGrd\",\n",
    "    \"TotalBathrooms\",\n",
    "    # Booleans\n",
    "    \"HasPool\",\n",
    "    \"Has2ndFloor\",\n",
    "    \"HasGarage\",\n",
    "    \"HasBasement\",\n",
    "    \"HasFireplace\",\n",
    "    \"HasBeenRemodelled\",\n",
    "]"
   ]
  },
  {
   "cell_type": "markdown",
   "id": "fb8478f5-d4a8-447e-a068-9fbbbf59e239",
   "metadata": {},
   "source": [
    "#### Handle Power Transformations\n",
    "\n",
    "Some continuous variables are not normally distributed, we can apply a power transformation to help."
   ]
  },
  {
   "cell_type": "code",
   "execution_count": 22,
   "id": "f4455554-a1eb-4961-8278-b643d60c4a0f",
   "metadata": {},
   "outputs": [],
   "source": [
    "power_transformation_pipe = Pipeline(steps=[\n",
    "    (\"impute_zero\", SimpleImputer(strategy=\"constant\", fill_value=0)),\n",
    "    (\"power_transform\", PowerTransformer()),\n",
    "])"
   ]
  },
  {
   "cell_type": "code",
   "execution_count": 23,
   "id": "98d5b4d4-2d2e-4301-b9d0-3fed4286167c",
   "metadata": {},
   "outputs": [],
   "source": [
    "power_transform_features = [\n",
    "    \"MiscVal\",\n",
    "    \"PoolArea\",\n",
    "    \"LotArea\",\n",
    "    \"LowQualFinSF\",\n",
    "    \"3SsnPorch\",\n",
    "    \"BsmtFinSF1\",\n",
    "    \"BsmtFinSF2\",\n",
    "    \"BsmtUnfSF\",\n",
    "    \"TotalBsmtSF\",\n",
    "    \"EnclosedPorch\",\n",
    "    \"ScreenPorch\",\n",
    "    \"MasVnrArea\",\n",
    "    \"1stFlrSF\",\n",
    "    \"2ndFlrSF\",\n",
    "    \"GrLivArea\",\n",
    "    \"OpenPorchSF\",\n",
    "    \"WoodDeckSF\",\n",
    "    \"LotFrontage\",\n",
    "    \"GarageArea\",\n",
    "    \"TotalSF\",\n",
    "    \"TotalPorchSF\",\n",
    "]"
   ]
  },
  {
   "cell_type": "markdown",
   "id": "21134e08-f948-4d1c-b9fe-a5b3a0e2bc87",
   "metadata": {},
   "source": [
    "#### Check for overlap in lists"
   ]
  },
  {
   "cell_type": "code",
   "execution_count": 24,
   "id": "8b1b11c6-50cb-4b0b-861c-9643e88ebda8",
   "metadata": {},
   "outputs": [],
   "source": [
    "lists = [\n",
    "    ordinal_categorical_features,\n",
    "    ordinal_categorical_with_mode_imputed_features,\n",
    "    numerical_ordinals_features,\n",
    "    date_features,\n",
    "    power_transform_features,\n",
    "]"
   ]
  },
  {
   "cell_type": "code",
   "execution_count": 25,
   "id": "25eb1a5d-9fc2-4e25-90f8-4da4a970d586",
   "metadata": {},
   "outputs": [
    {
     "name": "stdout",
     "output_type": "stream",
     "text": [
      "set()\n",
      "set()\n",
      "set()\n",
      "set()\n",
      "set()\n",
      "set()\n",
      "set()\n",
      "set()\n",
      "set()\n",
      "set()\n"
     ]
    }
   ],
   "source": [
    "\n",
    "for a, b in itertools.combinations(lists, 2):\n",
    "    print(set(a).intersection(set(b)))"
   ]
  },
  {
   "cell_type": "markdown",
   "id": "cdb31403-aa9b-4392-9f25-0dc7cd2ad7ad",
   "metadata": {},
   "source": [
    "## Estimators\n",
    "\n",
    "Create helper method to insert estimator within model pipeline"
   ]
  },
  {
   "cell_type": "code",
   "execution_count": 26,
   "id": "98a13b64-99db-4b49-8ee0-406d80f34ece",
   "metadata": {},
   "outputs": [],
   "source": [
    "def make_pipeline(estimator):\n",
    "\n",
    "    return Pipeline(steps=[\n",
    "        (\"add_boolean_features\", transformer_add_boolean_features),\n",
    "        (\"add_total_features\", transformer_add_total_features),\n",
    "        (\"add_neighborhood_features\", transformer_add_neighborhood_features),\n",
    "        (\n",
    "            \"preprocess_features\",\n",
    "            ColumnTransformer([\n",
    "                (\n",
    "                    \"ordinal_categoricals_with_category_imputed\",\n",
    "                    ordinal_categorical_pipe,\n",
    "                    ordinal_categorical_features\n",
    "                ),\n",
    "                (\n",
    "                    \"ordinal_categoricals_with_mode_imputed\",\n",
    "                    ordinal_categorical_with_mode_imputed_pipe,\n",
    "                    ordinal_categorical_with_mode_imputed_features\n",
    "                ),\n",
    "                (\n",
    "                    \"numericals_as_ordinals\",\n",
    "                    numerical_values_cast_as_ordinals_pipe,\n",
    "                    numerical_ordinals_features\n",
    "                ),\n",
    "                (\n",
    "                    \"date_transformations\",\n",
    "                    date_transformation_pipe,\n",
    "                    date_features,\n",
    "                ),\n",
    "                (\n",
    "                    \"non_normal_continuous_variables\",\n",
    "                    power_transformation_pipe,\n",
    "                    power_transform_features\n",
    "                ),\n",
    "            ], remainder=\"drop\")\n",
    "        ),\n",
    "        (\"regressor\", TransformedTargetRegressor(\n",
    "            regressor=estimator,\n",
    "            transformer=PowerTransformer())\n",
    "        )\n",
    "    ])   "
   ]
  },
  {
   "cell_type": "markdown",
   "id": "16768fa2-08e4-4e57-a1c3-02db322d26fd",
   "metadata": {},
   "source": [
    "#### Random Forest Regressor\n",
    "\n",
    "Let's use a random forest regressor as a starting point"
   ]
  },
  {
   "cell_type": "code",
   "execution_count": 27,
   "id": "7cdf318a-7808-4475-aeba-a451e04d6f0a",
   "metadata": {},
   "outputs": [],
   "source": [
    "pipe_rfr = make_pipeline(RandomForestRegressor(n_estimators=100))"
   ]
  },
  {
   "cell_type": "code",
   "execution_count": 28,
   "id": "959a28c7-3fc8-4176-b91c-642dd1b7bd3b",
   "metadata": {},
   "outputs": [
    {
     "data": {
      "text/html": [
       "<style>#sk-container-id-1 {color: black;}#sk-container-id-1 pre{padding: 0;}#sk-container-id-1 div.sk-toggleable {background-color: white;}#sk-container-id-1 label.sk-toggleable__label {cursor: pointer;display: block;width: 100%;margin-bottom: 0;padding: 0.3em;box-sizing: border-box;text-align: center;}#sk-container-id-1 label.sk-toggleable__label-arrow:before {content: \"▸\";float: left;margin-right: 0.25em;color: #696969;}#sk-container-id-1 label.sk-toggleable__label-arrow:hover:before {color: black;}#sk-container-id-1 div.sk-estimator:hover label.sk-toggleable__label-arrow:before {color: black;}#sk-container-id-1 div.sk-toggleable__content {max-height: 0;max-width: 0;overflow: hidden;text-align: left;background-color: #f0f8ff;}#sk-container-id-1 div.sk-toggleable__content pre {margin: 0.2em;color: black;border-radius: 0.25em;background-color: #f0f8ff;}#sk-container-id-1 input.sk-toggleable__control:checked~div.sk-toggleable__content {max-height: 200px;max-width: 100%;overflow: auto;}#sk-container-id-1 input.sk-toggleable__control:checked~label.sk-toggleable__label-arrow:before {content: \"▾\";}#sk-container-id-1 div.sk-estimator input.sk-toggleable__control:checked~label.sk-toggleable__label {background-color: #d4ebff;}#sk-container-id-1 div.sk-label input.sk-toggleable__control:checked~label.sk-toggleable__label {background-color: #d4ebff;}#sk-container-id-1 input.sk-hidden--visually {border: 0;clip: rect(1px 1px 1px 1px);clip: rect(1px, 1px, 1px, 1px);height: 1px;margin: -1px;overflow: hidden;padding: 0;position: absolute;width: 1px;}#sk-container-id-1 div.sk-estimator {font-family: monospace;background-color: #f0f8ff;border: 1px dotted black;border-radius: 0.25em;box-sizing: border-box;margin-bottom: 0.5em;}#sk-container-id-1 div.sk-estimator:hover {background-color: #d4ebff;}#sk-container-id-1 div.sk-parallel-item::after {content: \"\";width: 100%;border-bottom: 1px solid gray;flex-grow: 1;}#sk-container-id-1 div.sk-label:hover label.sk-toggleable__label {background-color: #d4ebff;}#sk-container-id-1 div.sk-serial::before {content: \"\";position: absolute;border-left: 1px solid gray;box-sizing: border-box;top: 0;bottom: 0;left: 50%;z-index: 0;}#sk-container-id-1 div.sk-serial {display: flex;flex-direction: column;align-items: center;background-color: white;padding-right: 0.2em;padding-left: 0.2em;position: relative;}#sk-container-id-1 div.sk-item {position: relative;z-index: 1;}#sk-container-id-1 div.sk-parallel {display: flex;align-items: stretch;justify-content: center;background-color: white;position: relative;}#sk-container-id-1 div.sk-item::before, #sk-container-id-1 div.sk-parallel-item::before {content: \"\";position: absolute;border-left: 1px solid gray;box-sizing: border-box;top: 0;bottom: 0;left: 50%;z-index: -1;}#sk-container-id-1 div.sk-parallel-item {display: flex;flex-direction: column;z-index: 1;position: relative;background-color: white;}#sk-container-id-1 div.sk-parallel-item:first-child::after {align-self: flex-end;width: 50%;}#sk-container-id-1 div.sk-parallel-item:last-child::after {align-self: flex-start;width: 50%;}#sk-container-id-1 div.sk-parallel-item:only-child::after {width: 0;}#sk-container-id-1 div.sk-dashed-wrapped {border: 1px dashed gray;margin: 0 0.4em 0.5em 0.4em;box-sizing: border-box;padding-bottom: 0.4em;background-color: white;}#sk-container-id-1 div.sk-label label {font-family: monospace;font-weight: bold;display: inline-block;line-height: 1.2em;}#sk-container-id-1 div.sk-label-container {text-align: center;}#sk-container-id-1 div.sk-container {/* jupyter's `normalize.less` sets `[hidden] { display: none; }` but bootstrap.min.css set `[hidden] { display: none !important; }` so we also need the `!important` here to be able to override the default hidden behavior on the sphinx rendered scikit-learn.org. See: https://github.com/scikit-learn/scikit-learn/issues/21755 */display: inline-block !important;position: relative;}#sk-container-id-1 div.sk-text-repr-fallback {display: none;}</style><div id=\"sk-container-id-1\" class=\"sk-top-container\"><div class=\"sk-text-repr-fallback\"><pre>Pipeline(steps=[(&#x27;add_boolean_features&#x27;,\n",
       "                 FunctionTransformer(feature_names_out=&lt;function add_boolean_feature_names at 0x00000214E1C03240&gt;,\n",
       "                                     func=&lt;function add_boolean_features at 0x00000214E1C02DE0&gt;)),\n",
       "                (&#x27;add_total_features&#x27;,\n",
       "                 FunctionTransformer(feature_names_out=&lt;function add_total_sf_feature_names at 0x00000214E1C66980&gt;,\n",
       "                                     func=&lt;function add_total_sf_features at 0x00...\n",
       "                                                   &#x27;LotArea&#x27;, &#x27;LowQualFinSF&#x27;,\n",
       "                                                   &#x27;3SsnPorch&#x27;, &#x27;BsmtFinSF1&#x27;,\n",
       "                                                   &#x27;BsmtFinSF2&#x27;, &#x27;BsmtUnfSF&#x27;,\n",
       "                                                   &#x27;TotalBsmtSF&#x27;,\n",
       "                                                   &#x27;EnclosedPorch&#x27;,\n",
       "                                                   &#x27;ScreenPorch&#x27;, &#x27;MasVnrArea&#x27;,\n",
       "                                                   &#x27;1stFlrSF&#x27;, &#x27;2ndFlrSF&#x27;,\n",
       "                                                   &#x27;GrLivArea&#x27;, &#x27;OpenPorchSF&#x27;,\n",
       "                                                   &#x27;WoodDeckSF&#x27;, &#x27;LotFrontage&#x27;,\n",
       "                                                   &#x27;GarageArea&#x27;, &#x27;TotalSF&#x27;,\n",
       "                                                   &#x27;TotalPorchSF&#x27;])])),\n",
       "                (&#x27;regressor&#x27;,\n",
       "                 TransformedTargetRegressor(regressor=RandomForestRegressor(),\n",
       "                                            transformer=PowerTransformer()))])</pre><b>In a Jupyter environment, please rerun this cell to show the HTML representation or trust the notebook. <br />On GitHub, the HTML representation is unable to render, please try loading this page with nbviewer.org.</b></div><div class=\"sk-container\" hidden><div class=\"sk-item sk-dashed-wrapped\"><div class=\"sk-label-container\"><div class=\"sk-label sk-toggleable\"><input class=\"sk-toggleable__control sk-hidden--visually\" id=\"sk-estimator-id-1\" type=\"checkbox\" ><label for=\"sk-estimator-id-1\" class=\"sk-toggleable__label sk-toggleable__label-arrow\">Pipeline</label><div class=\"sk-toggleable__content\"><pre>Pipeline(steps=[(&#x27;add_boolean_features&#x27;,\n",
       "                 FunctionTransformer(feature_names_out=&lt;function add_boolean_feature_names at 0x00000214E1C03240&gt;,\n",
       "                                     func=&lt;function add_boolean_features at 0x00000214E1C02DE0&gt;)),\n",
       "                (&#x27;add_total_features&#x27;,\n",
       "                 FunctionTransformer(feature_names_out=&lt;function add_total_sf_feature_names at 0x00000214E1C66980&gt;,\n",
       "                                     func=&lt;function add_total_sf_features at 0x00...\n",
       "                                                   &#x27;LotArea&#x27;, &#x27;LowQualFinSF&#x27;,\n",
       "                                                   &#x27;3SsnPorch&#x27;, &#x27;BsmtFinSF1&#x27;,\n",
       "                                                   &#x27;BsmtFinSF2&#x27;, &#x27;BsmtUnfSF&#x27;,\n",
       "                                                   &#x27;TotalBsmtSF&#x27;,\n",
       "                                                   &#x27;EnclosedPorch&#x27;,\n",
       "                                                   &#x27;ScreenPorch&#x27;, &#x27;MasVnrArea&#x27;,\n",
       "                                                   &#x27;1stFlrSF&#x27;, &#x27;2ndFlrSF&#x27;,\n",
       "                                                   &#x27;GrLivArea&#x27;, &#x27;OpenPorchSF&#x27;,\n",
       "                                                   &#x27;WoodDeckSF&#x27;, &#x27;LotFrontage&#x27;,\n",
       "                                                   &#x27;GarageArea&#x27;, &#x27;TotalSF&#x27;,\n",
       "                                                   &#x27;TotalPorchSF&#x27;])])),\n",
       "                (&#x27;regressor&#x27;,\n",
       "                 TransformedTargetRegressor(regressor=RandomForestRegressor(),\n",
       "                                            transformer=PowerTransformer()))])</pre></div></div></div><div class=\"sk-serial\"><div class=\"sk-item\"><div class=\"sk-estimator sk-toggleable\"><input class=\"sk-toggleable__control sk-hidden--visually\" id=\"sk-estimator-id-2\" type=\"checkbox\" ><label for=\"sk-estimator-id-2\" class=\"sk-toggleable__label sk-toggleable__label-arrow\">FunctionTransformer</label><div class=\"sk-toggleable__content\"><pre>FunctionTransformer(feature_names_out=&lt;function add_boolean_feature_names at 0x00000214E1C03240&gt;,\n",
       "                    func=&lt;function add_boolean_features at 0x00000214E1C02DE0&gt;)</pre></div></div></div><div class=\"sk-item\"><div class=\"sk-estimator sk-toggleable\"><input class=\"sk-toggleable__control sk-hidden--visually\" id=\"sk-estimator-id-3\" type=\"checkbox\" ><label for=\"sk-estimator-id-3\" class=\"sk-toggleable__label sk-toggleable__label-arrow\">FunctionTransformer</label><div class=\"sk-toggleable__content\"><pre>FunctionTransformer(feature_names_out=&lt;function add_total_sf_feature_names at 0x00000214E1C66980&gt;,\n",
       "                    func=&lt;function add_total_sf_features at 0x00000214E1C656C0&gt;)</pre></div></div></div><div class=\"sk-item\"><div class=\"sk-estimator sk-toggleable\"><input class=\"sk-toggleable__control sk-hidden--visually\" id=\"sk-estimator-id-4\" type=\"checkbox\" ><label for=\"sk-estimator-id-4\" class=\"sk-toggleable__label sk-toggleable__label-arrow\">FunctionTransformer</label><div class=\"sk-toggleable__content\"><pre>FunctionTransformer(feature_names_out=&lt;function add_neighborhood_feature_names at 0x00000214E1C66C00&gt;,\n",
       "                    func=&lt;function add_neighborhood_features at 0x00000214E1C66D40&gt;)</pre></div></div></div><div class=\"sk-item sk-dashed-wrapped\"><div class=\"sk-label-container\"><div class=\"sk-label sk-toggleable\"><input class=\"sk-toggleable__control sk-hidden--visually\" id=\"sk-estimator-id-5\" type=\"checkbox\" ><label for=\"sk-estimator-id-5\" class=\"sk-toggleable__label sk-toggleable__label-arrow\">preprocess_features: ColumnTransformer</label><div class=\"sk-toggleable__content\"><pre>ColumnTransformer(transformers=[(&#x27;ordinal_categoricals_with_category_imputed&#x27;,\n",
       "                                 Pipeline(steps=[(&#x27;impute_missing_categoricals&#x27;,\n",
       "                                                  SimpleImputer(fill_value=&#x27;None&#x27;,\n",
       "                                                                strategy=&#x27;constant&#x27;)),\n",
       "                                                 (&#x27;encode_ordinal_values&#x27;,\n",
       "                                                  OrdinalEncoder(handle_unknown=&#x27;use_encoded_value&#x27;,\n",
       "                                                                 unknown_value=-1))]),\n",
       "                                 [&#x27;PoolQC&#x27;, &#x27;MiscFeature&#x27;, &#x27;Alley&#x27;, &#x27;Fence&#x27;,\n",
       "                                  &#x27;FireplaceQu&#x27;, &#x27;GarageType&#x27;, &#x27;GarageF...\n",
       "                                                  SimpleImputer(fill_value=0,\n",
       "                                                                strategy=&#x27;constant&#x27;)),\n",
       "                                                 (&#x27;power_transform&#x27;,\n",
       "                                                  PowerTransformer())]),\n",
       "                                 [&#x27;MiscVal&#x27;, &#x27;PoolArea&#x27;, &#x27;LotArea&#x27;,\n",
       "                                  &#x27;LowQualFinSF&#x27;, &#x27;3SsnPorch&#x27;, &#x27;BsmtFinSF1&#x27;,\n",
       "                                  &#x27;BsmtFinSF2&#x27;, &#x27;BsmtUnfSF&#x27;, &#x27;TotalBsmtSF&#x27;,\n",
       "                                  &#x27;EnclosedPorch&#x27;, &#x27;ScreenPorch&#x27;, &#x27;MasVnrArea&#x27;,\n",
       "                                  &#x27;1stFlrSF&#x27;, &#x27;2ndFlrSF&#x27;, &#x27;GrLivArea&#x27;,\n",
       "                                  &#x27;OpenPorchSF&#x27;, &#x27;WoodDeckSF&#x27;, &#x27;LotFrontage&#x27;,\n",
       "                                  &#x27;GarageArea&#x27;, &#x27;TotalSF&#x27;, &#x27;TotalPorchSF&#x27;])])</pre></div></div></div><div class=\"sk-parallel\"><div class=\"sk-parallel-item\"><div class=\"sk-item\"><div class=\"sk-label-container\"><div class=\"sk-label sk-toggleable\"><input class=\"sk-toggleable__control sk-hidden--visually\" id=\"sk-estimator-id-6\" type=\"checkbox\" ><label for=\"sk-estimator-id-6\" class=\"sk-toggleable__label sk-toggleable__label-arrow\">ordinal_categoricals_with_category_imputed</label><div class=\"sk-toggleable__content\"><pre>[&#x27;PoolQC&#x27;, &#x27;MiscFeature&#x27;, &#x27;Alley&#x27;, &#x27;Fence&#x27;, &#x27;FireplaceQu&#x27;, &#x27;GarageType&#x27;, &#x27;GarageFinish&#x27;, &#x27;GarageCond&#x27;, &#x27;BsmtCond&#x27;, &#x27;BsmtExposure&#x27;, &#x27;BsmtFinType1&#x27;, &#x27;BsmtFinType2&#x27;, &#x27;MasVnrType&#x27;, &#x27;MSSubClass&#x27;, &#x27;Functional&#x27;, &#x27;CentralAir&#x27;, &#x27;ExterCond&#x27;, &#x27;HeatingQC&#x27;, &#x27;LandSlope&#x27;, &#x27;LotShape&#x27;, &#x27;OverallCond&#x27;, &#x27;PavedDrive&#x27;, &#x27;Street&#x27;, &#x27;KitchenAbvGr&#x27;, &#x27;Foundation&#x27;, &#x27;SaleCondition&#x27;, &#x27;RoofStyle&#x27;, &#x27;HouseStyle&#x27;, &#x27;Neighborhood&#x27;, &#x27;RoofMatl&#x27;, &#x27;LotConfig&#x27;, &#x27;Condition1&#x27;, &#x27;Condition2&#x27;, &#x27;BldgType&#x27;, &#x27;LandContour&#x27;, &#x27;NeighborhoodQual&#x27;]</pre></div></div></div><div class=\"sk-serial\"><div class=\"sk-item\"><div class=\"sk-serial\"><div class=\"sk-item\"><div class=\"sk-estimator sk-toggleable\"><input class=\"sk-toggleable__control sk-hidden--visually\" id=\"sk-estimator-id-7\" type=\"checkbox\" ><label for=\"sk-estimator-id-7\" class=\"sk-toggleable__label sk-toggleable__label-arrow\">SimpleImputer</label><div class=\"sk-toggleable__content\"><pre>SimpleImputer(fill_value=&#x27;None&#x27;, strategy=&#x27;constant&#x27;)</pre></div></div></div><div class=\"sk-item\"><div class=\"sk-estimator sk-toggleable\"><input class=\"sk-toggleable__control sk-hidden--visually\" id=\"sk-estimator-id-8\" type=\"checkbox\" ><label for=\"sk-estimator-id-8\" class=\"sk-toggleable__label sk-toggleable__label-arrow\">OrdinalEncoder</label><div class=\"sk-toggleable__content\"><pre>OrdinalEncoder(handle_unknown=&#x27;use_encoded_value&#x27;, unknown_value=-1)</pre></div></div></div></div></div></div></div></div><div class=\"sk-parallel-item\"><div class=\"sk-item\"><div class=\"sk-label-container\"><div class=\"sk-label sk-toggleable\"><input class=\"sk-toggleable__control sk-hidden--visually\" id=\"sk-estimator-id-9\" type=\"checkbox\" ><label for=\"sk-estimator-id-9\" class=\"sk-toggleable__label sk-toggleable__label-arrow\">ordinal_categoricals_with_mode_imputed</label><div class=\"sk-toggleable__content\"><pre>[&#x27;MSZoning&#x27;, &#x27;Utilities&#x27;, &#x27;Electrical&#x27;, &#x27;Heating&#x27;, &#x27;KitchenQual&#x27;, &#x27;GarageQual&#x27;, &#x27;BsmtQual&#x27;, &#x27;ExterQual&#x27;, &#x27;Exterior1st&#x27;, &#x27;Exterior2nd&#x27;, &#x27;SaleType&#x27;]</pre></div></div></div><div class=\"sk-serial\"><div class=\"sk-item\"><div class=\"sk-serial\"><div class=\"sk-item\"><div class=\"sk-estimator sk-toggleable\"><input class=\"sk-toggleable__control sk-hidden--visually\" id=\"sk-estimator-id-10\" type=\"checkbox\" ><label for=\"sk-estimator-id-10\" class=\"sk-toggleable__label sk-toggleable__label-arrow\">SimpleImputer</label><div class=\"sk-toggleable__content\"><pre>SimpleImputer(strategy=&#x27;most_frequent&#x27;)</pre></div></div></div><div class=\"sk-item\"><div class=\"sk-estimator sk-toggleable\"><input class=\"sk-toggleable__control sk-hidden--visually\" id=\"sk-estimator-id-11\" type=\"checkbox\" ><label for=\"sk-estimator-id-11\" class=\"sk-toggleable__label sk-toggleable__label-arrow\">OrdinalEncoder</label><div class=\"sk-toggleable__content\"><pre>OrdinalEncoder(handle_unknown=&#x27;use_encoded_value&#x27;, unknown_value=-1)</pre></div></div></div></div></div></div></div></div><div class=\"sk-parallel-item\"><div class=\"sk-item\"><div class=\"sk-label-container\"><div class=\"sk-label sk-toggleable\"><input class=\"sk-toggleable__control sk-hidden--visually\" id=\"sk-estimator-id-12\" type=\"checkbox\" ><label for=\"sk-estimator-id-12\" class=\"sk-toggleable__label sk-toggleable__label-arrow\">numericals_as_ordinals</label><div class=\"sk-toggleable__content\"><pre>[&#x27;GarageCars&#x27;, &#x27;BsmtFullBath&#x27;, &#x27;BsmtHalfBath&#x27;, &#x27;BedroomAbvGr&#x27;, &#x27;Fireplaces&#x27;, &#x27;FullBath&#x27;, &#x27;HalfBath&#x27;, &#x27;OverallQual&#x27;, &#x27;TotRmsAbvGrd&#x27;, &#x27;TotalBathrooms&#x27;, &#x27;HasPool&#x27;, &#x27;Has2ndFloor&#x27;, &#x27;HasGarage&#x27;, &#x27;HasBasement&#x27;, &#x27;HasFireplace&#x27;, &#x27;HasBeenRemodelled&#x27;]</pre></div></div></div><div class=\"sk-serial\"><div class=\"sk-item\"><div class=\"sk-serial\"><div class=\"sk-item\"><div class=\"sk-estimator sk-toggleable\"><input class=\"sk-toggleable__control sk-hidden--visually\" id=\"sk-estimator-id-13\" type=\"checkbox\" ><label for=\"sk-estimator-id-13\" class=\"sk-toggleable__label sk-toggleable__label-arrow\">SimpleImputer</label><div class=\"sk-toggleable__content\"><pre>SimpleImputer(fill_value=0, strategy=&#x27;constant&#x27;)</pre></div></div></div><div class=\"sk-item\"><div class=\"sk-estimator sk-toggleable\"><input class=\"sk-toggleable__control sk-hidden--visually\" id=\"sk-estimator-id-14\" type=\"checkbox\" ><label for=\"sk-estimator-id-14\" class=\"sk-toggleable__label sk-toggleable__label-arrow\">OrdinalEncoder</label><div class=\"sk-toggleable__content\"><pre>OrdinalEncoder(handle_unknown=&#x27;use_encoded_value&#x27;, unknown_value=-1)</pre></div></div></div></div></div></div></div></div><div class=\"sk-parallel-item\"><div class=\"sk-item\"><div class=\"sk-label-container\"><div class=\"sk-label sk-toggleable\"><input class=\"sk-toggleable__control sk-hidden--visually\" id=\"sk-estimator-id-15\" type=\"checkbox\" ><label for=\"sk-estimator-id-15\" class=\"sk-toggleable__label sk-toggleable__label-arrow\">date_transformations</label><div class=\"sk-toggleable__content\"><pre>[&#x27;YrSold&#x27;, &#x27;MoSold&#x27;, &#x27;YearBuilt&#x27;, &#x27;YearRemodAdd&#x27;, &#x27;GarageYrBlt&#x27;, &#x27;BuildingAge&#x27;]</pre></div></div></div><div class=\"sk-serial\"><div class=\"sk-item\"><div class=\"sk-serial\"><div class=\"sk-item\"><div class=\"sk-estimator sk-toggleable\"><input class=\"sk-toggleable__control sk-hidden--visually\" id=\"sk-estimator-id-16\" type=\"checkbox\" ><label for=\"sk-estimator-id-16\" class=\"sk-toggleable__label sk-toggleable__label-arrow\">SimpleImputer</label><div class=\"sk-toggleable__content\"><pre>SimpleImputer(fill_value=-1, strategy=&#x27;constant&#x27;)</pre></div></div></div><div class=\"sk-item\"><div class=\"sk-estimator sk-toggleable\"><input class=\"sk-toggleable__control sk-hidden--visually\" id=\"sk-estimator-id-17\" type=\"checkbox\" ><label for=\"sk-estimator-id-17\" class=\"sk-toggleable__label sk-toggleable__label-arrow\">OrdinalEncoder</label><div class=\"sk-toggleable__content\"><pre>OrdinalEncoder(handle_unknown=&#x27;use_encoded_value&#x27;, unknown_value=-1)</pre></div></div></div></div></div></div></div></div><div class=\"sk-parallel-item\"><div class=\"sk-item\"><div class=\"sk-label-container\"><div class=\"sk-label sk-toggleable\"><input class=\"sk-toggleable__control sk-hidden--visually\" id=\"sk-estimator-id-18\" type=\"checkbox\" ><label for=\"sk-estimator-id-18\" class=\"sk-toggleable__label sk-toggleable__label-arrow\">non_normal_continuous_variables</label><div class=\"sk-toggleable__content\"><pre>[&#x27;MiscVal&#x27;, &#x27;PoolArea&#x27;, &#x27;LotArea&#x27;, &#x27;LowQualFinSF&#x27;, &#x27;3SsnPorch&#x27;, &#x27;BsmtFinSF1&#x27;, &#x27;BsmtFinSF2&#x27;, &#x27;BsmtUnfSF&#x27;, &#x27;TotalBsmtSF&#x27;, &#x27;EnclosedPorch&#x27;, &#x27;ScreenPorch&#x27;, &#x27;MasVnrArea&#x27;, &#x27;1stFlrSF&#x27;, &#x27;2ndFlrSF&#x27;, &#x27;GrLivArea&#x27;, &#x27;OpenPorchSF&#x27;, &#x27;WoodDeckSF&#x27;, &#x27;LotFrontage&#x27;, &#x27;GarageArea&#x27;, &#x27;TotalSF&#x27;, &#x27;TotalPorchSF&#x27;]</pre></div></div></div><div class=\"sk-serial\"><div class=\"sk-item\"><div class=\"sk-serial\"><div class=\"sk-item\"><div class=\"sk-estimator sk-toggleable\"><input class=\"sk-toggleable__control sk-hidden--visually\" id=\"sk-estimator-id-19\" type=\"checkbox\" ><label for=\"sk-estimator-id-19\" class=\"sk-toggleable__label sk-toggleable__label-arrow\">SimpleImputer</label><div class=\"sk-toggleable__content\"><pre>SimpleImputer(fill_value=0, strategy=&#x27;constant&#x27;)</pre></div></div></div><div class=\"sk-item\"><div class=\"sk-estimator sk-toggleable\"><input class=\"sk-toggleable__control sk-hidden--visually\" id=\"sk-estimator-id-20\" type=\"checkbox\" ><label for=\"sk-estimator-id-20\" class=\"sk-toggleable__label sk-toggleable__label-arrow\">PowerTransformer</label><div class=\"sk-toggleable__content\"><pre>PowerTransformer()</pre></div></div></div></div></div></div></div></div></div></div><div class=\"sk-item sk-dashed-wrapped\"><div class=\"sk-label-container\"><div class=\"sk-label sk-toggleable\"><input class=\"sk-toggleable__control sk-hidden--visually\" id=\"sk-estimator-id-21\" type=\"checkbox\" ><label for=\"sk-estimator-id-21\" class=\"sk-toggleable__label sk-toggleable__label-arrow\">regressor: TransformedTargetRegressor</label><div class=\"sk-toggleable__content\"><pre>TransformedTargetRegressor(regressor=RandomForestRegressor(),\n",
       "                           transformer=PowerTransformer())</pre></div></div></div><div class=\"sk-parallel\"><div class=\"sk-parallel-item\"><div class=\"sk-item\"><div class=\"sk-label-container\"><div class=\"sk-label sk-toggleable\"><input class=\"sk-toggleable__control sk-hidden--visually\" id=\"sk-estimator-id-22\" type=\"checkbox\" ><label for=\"sk-estimator-id-22\" class=\"sk-toggleable__label sk-toggleable__label-arrow\">regressor: RandomForestRegressor</label><div class=\"sk-toggleable__content\"><pre>RandomForestRegressor()</pre></div></div></div><div class=\"sk-serial\"><div class=\"sk-item\"><div class=\"sk-estimator sk-toggleable\"><input class=\"sk-toggleable__control sk-hidden--visually\" id=\"sk-estimator-id-23\" type=\"checkbox\" ><label for=\"sk-estimator-id-23\" class=\"sk-toggleable__label sk-toggleable__label-arrow\">RandomForestRegressor</label><div class=\"sk-toggleable__content\"><pre>RandomForestRegressor()</pre></div></div></div></div></div></div><div class=\"sk-parallel-item\"><div class=\"sk-item\"><div class=\"sk-label-container\"><div class=\"sk-label sk-toggleable\"><input class=\"sk-toggleable__control sk-hidden--visually\" id=\"sk-estimator-id-24\" type=\"checkbox\" ><label for=\"sk-estimator-id-24\" class=\"sk-toggleable__label sk-toggleable__label-arrow\">transformer: PowerTransformer</label><div class=\"sk-toggleable__content\"><pre>PowerTransformer()</pre></div></div></div><div class=\"sk-serial\"><div class=\"sk-item\"><div class=\"sk-estimator sk-toggleable\"><input class=\"sk-toggleable__control sk-hidden--visually\" id=\"sk-estimator-id-25\" type=\"checkbox\" ><label for=\"sk-estimator-id-25\" class=\"sk-toggleable__label sk-toggleable__label-arrow\">PowerTransformer</label><div class=\"sk-toggleable__content\"><pre>PowerTransformer()</pre></div></div></div></div></div></div></div></div></div></div></div></div>"
      ],
      "text/plain": [
       "Pipeline(steps=[('add_boolean_features',\n",
       "                 FunctionTransformer(feature_names_out=<function add_boolean_feature_names at 0x00000214E1C03240>,\n",
       "                                     func=<function add_boolean_features at 0x00000214E1C02DE0>)),\n",
       "                ('add_total_features',\n",
       "                 FunctionTransformer(feature_names_out=<function add_total_sf_feature_names at 0x00000214E1C66980>,\n",
       "                                     func=<function add_total_sf_features at 0x00...\n",
       "                                                   'LotArea', 'LowQualFinSF',\n",
       "                                                   '3SsnPorch', 'BsmtFinSF1',\n",
       "                                                   'BsmtFinSF2', 'BsmtUnfSF',\n",
       "                                                   'TotalBsmtSF',\n",
       "                                                   'EnclosedPorch',\n",
       "                                                   'ScreenPorch', 'MasVnrArea',\n",
       "                                                   '1stFlrSF', '2ndFlrSF',\n",
       "                                                   'GrLivArea', 'OpenPorchSF',\n",
       "                                                   'WoodDeckSF', 'LotFrontage',\n",
       "                                                   'GarageArea', 'TotalSF',\n",
       "                                                   'TotalPorchSF'])])),\n",
       "                ('regressor',\n",
       "                 TransformedTargetRegressor(regressor=RandomForestRegressor(),\n",
       "                                            transformer=PowerTransformer()))])"
      ]
     },
     "execution_count": 28,
     "metadata": {},
     "output_type": "execute_result"
    }
   ],
   "source": [
    "pipe_rfr"
   ]
  },
  {
   "cell_type": "markdown",
   "id": "69922956-eb1b-44a5-b35b-68b88a1d4440",
   "metadata": {},
   "source": [
    "Evaluate model"
   ]
  },
  {
   "cell_type": "code",
   "execution_count": 29,
   "id": "ad307bd2-7e34-48f0-969c-78810c00a748",
   "metadata": {},
   "outputs": [],
   "source": [
    "score_function = make_scorer(mean_squared_log_error, greater_is_better=False)"
   ]
  },
  {
   "cell_type": "code",
   "execution_count": 30,
   "id": "23fd02be-1cb3-4b17-9aa4-208ab974b250",
   "metadata": {},
   "outputs": [],
   "source": [
    "scores = numpy.sqrt(-cross_val_score(pipe_rfr, X_train, y_train, cv=5, scoring=score_function))"
   ]
  },
  {
   "cell_type": "code",
   "execution_count": 31,
   "id": "e1f55c7e-1dde-4ea3-b15e-24ae108e9075",
   "metadata": {},
   "outputs": [
    {
     "data": {
      "text/plain": [
       "array([0.13635023, 0.12623034, 0.16129946, 0.14754986, 0.13430443])"
      ]
     },
     "execution_count": 31,
     "metadata": {},
     "output_type": "execute_result"
    }
   ],
   "source": [
    "scores"
   ]
  },
  {
   "cell_type": "markdown",
   "id": "474414ce-973b-4ec4-9655-c27858a4406e",
   "metadata": {},
   "source": [
    "Train on full training set to examine feature importances"
   ]
  },
  {
   "cell_type": "code",
   "execution_count": 32,
   "id": "0b766615-2848-414d-92e7-82e5ed6c34d4",
   "metadata": {},
   "outputs": [
    {
     "data": {
      "text/html": [
       "<style>#sk-container-id-2 {color: black;}#sk-container-id-2 pre{padding: 0;}#sk-container-id-2 div.sk-toggleable {background-color: white;}#sk-container-id-2 label.sk-toggleable__label {cursor: pointer;display: block;width: 100%;margin-bottom: 0;padding: 0.3em;box-sizing: border-box;text-align: center;}#sk-container-id-2 label.sk-toggleable__label-arrow:before {content: \"▸\";float: left;margin-right: 0.25em;color: #696969;}#sk-container-id-2 label.sk-toggleable__label-arrow:hover:before {color: black;}#sk-container-id-2 div.sk-estimator:hover label.sk-toggleable__label-arrow:before {color: black;}#sk-container-id-2 div.sk-toggleable__content {max-height: 0;max-width: 0;overflow: hidden;text-align: left;background-color: #f0f8ff;}#sk-container-id-2 div.sk-toggleable__content pre {margin: 0.2em;color: black;border-radius: 0.25em;background-color: #f0f8ff;}#sk-container-id-2 input.sk-toggleable__control:checked~div.sk-toggleable__content {max-height: 200px;max-width: 100%;overflow: auto;}#sk-container-id-2 input.sk-toggleable__control:checked~label.sk-toggleable__label-arrow:before {content: \"▾\";}#sk-container-id-2 div.sk-estimator input.sk-toggleable__control:checked~label.sk-toggleable__label {background-color: #d4ebff;}#sk-container-id-2 div.sk-label input.sk-toggleable__control:checked~label.sk-toggleable__label {background-color: #d4ebff;}#sk-container-id-2 input.sk-hidden--visually {border: 0;clip: rect(1px 1px 1px 1px);clip: rect(1px, 1px, 1px, 1px);height: 1px;margin: -1px;overflow: hidden;padding: 0;position: absolute;width: 1px;}#sk-container-id-2 div.sk-estimator {font-family: monospace;background-color: #f0f8ff;border: 1px dotted black;border-radius: 0.25em;box-sizing: border-box;margin-bottom: 0.5em;}#sk-container-id-2 div.sk-estimator:hover {background-color: #d4ebff;}#sk-container-id-2 div.sk-parallel-item::after {content: \"\";width: 100%;border-bottom: 1px solid gray;flex-grow: 1;}#sk-container-id-2 div.sk-label:hover label.sk-toggleable__label {background-color: #d4ebff;}#sk-container-id-2 div.sk-serial::before {content: \"\";position: absolute;border-left: 1px solid gray;box-sizing: border-box;top: 0;bottom: 0;left: 50%;z-index: 0;}#sk-container-id-2 div.sk-serial {display: flex;flex-direction: column;align-items: center;background-color: white;padding-right: 0.2em;padding-left: 0.2em;position: relative;}#sk-container-id-2 div.sk-item {position: relative;z-index: 1;}#sk-container-id-2 div.sk-parallel {display: flex;align-items: stretch;justify-content: center;background-color: white;position: relative;}#sk-container-id-2 div.sk-item::before, #sk-container-id-2 div.sk-parallel-item::before {content: \"\";position: absolute;border-left: 1px solid gray;box-sizing: border-box;top: 0;bottom: 0;left: 50%;z-index: -1;}#sk-container-id-2 div.sk-parallel-item {display: flex;flex-direction: column;z-index: 1;position: relative;background-color: white;}#sk-container-id-2 div.sk-parallel-item:first-child::after {align-self: flex-end;width: 50%;}#sk-container-id-2 div.sk-parallel-item:last-child::after {align-self: flex-start;width: 50%;}#sk-container-id-2 div.sk-parallel-item:only-child::after {width: 0;}#sk-container-id-2 div.sk-dashed-wrapped {border: 1px dashed gray;margin: 0 0.4em 0.5em 0.4em;box-sizing: border-box;padding-bottom: 0.4em;background-color: white;}#sk-container-id-2 div.sk-label label {font-family: monospace;font-weight: bold;display: inline-block;line-height: 1.2em;}#sk-container-id-2 div.sk-label-container {text-align: center;}#sk-container-id-2 div.sk-container {/* jupyter's `normalize.less` sets `[hidden] { display: none; }` but bootstrap.min.css set `[hidden] { display: none !important; }` so we also need the `!important` here to be able to override the default hidden behavior on the sphinx rendered scikit-learn.org. See: https://github.com/scikit-learn/scikit-learn/issues/21755 */display: inline-block !important;position: relative;}#sk-container-id-2 div.sk-text-repr-fallback {display: none;}</style><div id=\"sk-container-id-2\" class=\"sk-top-container\"><div class=\"sk-text-repr-fallback\"><pre>Pipeline(steps=[(&#x27;add_boolean_features&#x27;,\n",
       "                 FunctionTransformer(feature_names_out=&lt;function add_boolean_feature_names at 0x00000214E1C03240&gt;,\n",
       "                                     func=&lt;function add_boolean_features at 0x00000214E1C02DE0&gt;)),\n",
       "                (&#x27;add_total_features&#x27;,\n",
       "                 FunctionTransformer(feature_names_out=&lt;function add_total_sf_feature_names at 0x00000214E1C66980&gt;,\n",
       "                                     func=&lt;function add_total_sf_features at 0x00...\n",
       "                                                   &#x27;LotArea&#x27;, &#x27;LowQualFinSF&#x27;,\n",
       "                                                   &#x27;3SsnPorch&#x27;, &#x27;BsmtFinSF1&#x27;,\n",
       "                                                   &#x27;BsmtFinSF2&#x27;, &#x27;BsmtUnfSF&#x27;,\n",
       "                                                   &#x27;TotalBsmtSF&#x27;,\n",
       "                                                   &#x27;EnclosedPorch&#x27;,\n",
       "                                                   &#x27;ScreenPorch&#x27;, &#x27;MasVnrArea&#x27;,\n",
       "                                                   &#x27;1stFlrSF&#x27;, &#x27;2ndFlrSF&#x27;,\n",
       "                                                   &#x27;GrLivArea&#x27;, &#x27;OpenPorchSF&#x27;,\n",
       "                                                   &#x27;WoodDeckSF&#x27;, &#x27;LotFrontage&#x27;,\n",
       "                                                   &#x27;GarageArea&#x27;, &#x27;TotalSF&#x27;,\n",
       "                                                   &#x27;TotalPorchSF&#x27;])])),\n",
       "                (&#x27;regressor&#x27;,\n",
       "                 TransformedTargetRegressor(regressor=RandomForestRegressor(),\n",
       "                                            transformer=PowerTransformer()))])</pre><b>In a Jupyter environment, please rerun this cell to show the HTML representation or trust the notebook. <br />On GitHub, the HTML representation is unable to render, please try loading this page with nbviewer.org.</b></div><div class=\"sk-container\" hidden><div class=\"sk-item sk-dashed-wrapped\"><div class=\"sk-label-container\"><div class=\"sk-label sk-toggleable\"><input class=\"sk-toggleable__control sk-hidden--visually\" id=\"sk-estimator-id-26\" type=\"checkbox\" ><label for=\"sk-estimator-id-26\" class=\"sk-toggleable__label sk-toggleable__label-arrow\">Pipeline</label><div class=\"sk-toggleable__content\"><pre>Pipeline(steps=[(&#x27;add_boolean_features&#x27;,\n",
       "                 FunctionTransformer(feature_names_out=&lt;function add_boolean_feature_names at 0x00000214E1C03240&gt;,\n",
       "                                     func=&lt;function add_boolean_features at 0x00000214E1C02DE0&gt;)),\n",
       "                (&#x27;add_total_features&#x27;,\n",
       "                 FunctionTransformer(feature_names_out=&lt;function add_total_sf_feature_names at 0x00000214E1C66980&gt;,\n",
       "                                     func=&lt;function add_total_sf_features at 0x00...\n",
       "                                                   &#x27;LotArea&#x27;, &#x27;LowQualFinSF&#x27;,\n",
       "                                                   &#x27;3SsnPorch&#x27;, &#x27;BsmtFinSF1&#x27;,\n",
       "                                                   &#x27;BsmtFinSF2&#x27;, &#x27;BsmtUnfSF&#x27;,\n",
       "                                                   &#x27;TotalBsmtSF&#x27;,\n",
       "                                                   &#x27;EnclosedPorch&#x27;,\n",
       "                                                   &#x27;ScreenPorch&#x27;, &#x27;MasVnrArea&#x27;,\n",
       "                                                   &#x27;1stFlrSF&#x27;, &#x27;2ndFlrSF&#x27;,\n",
       "                                                   &#x27;GrLivArea&#x27;, &#x27;OpenPorchSF&#x27;,\n",
       "                                                   &#x27;WoodDeckSF&#x27;, &#x27;LotFrontage&#x27;,\n",
       "                                                   &#x27;GarageArea&#x27;, &#x27;TotalSF&#x27;,\n",
       "                                                   &#x27;TotalPorchSF&#x27;])])),\n",
       "                (&#x27;regressor&#x27;,\n",
       "                 TransformedTargetRegressor(regressor=RandomForestRegressor(),\n",
       "                                            transformer=PowerTransformer()))])</pre></div></div></div><div class=\"sk-serial\"><div class=\"sk-item\"><div class=\"sk-estimator sk-toggleable\"><input class=\"sk-toggleable__control sk-hidden--visually\" id=\"sk-estimator-id-27\" type=\"checkbox\" ><label for=\"sk-estimator-id-27\" class=\"sk-toggleable__label sk-toggleable__label-arrow\">FunctionTransformer</label><div class=\"sk-toggleable__content\"><pre>FunctionTransformer(feature_names_out=&lt;function add_boolean_feature_names at 0x00000214E1C03240&gt;,\n",
       "                    func=&lt;function add_boolean_features at 0x00000214E1C02DE0&gt;)</pre></div></div></div><div class=\"sk-item\"><div class=\"sk-estimator sk-toggleable\"><input class=\"sk-toggleable__control sk-hidden--visually\" id=\"sk-estimator-id-28\" type=\"checkbox\" ><label for=\"sk-estimator-id-28\" class=\"sk-toggleable__label sk-toggleable__label-arrow\">FunctionTransformer</label><div class=\"sk-toggleable__content\"><pre>FunctionTransformer(feature_names_out=&lt;function add_total_sf_feature_names at 0x00000214E1C66980&gt;,\n",
       "                    func=&lt;function add_total_sf_features at 0x00000214E1C656C0&gt;)</pre></div></div></div><div class=\"sk-item\"><div class=\"sk-estimator sk-toggleable\"><input class=\"sk-toggleable__control sk-hidden--visually\" id=\"sk-estimator-id-29\" type=\"checkbox\" ><label for=\"sk-estimator-id-29\" class=\"sk-toggleable__label sk-toggleable__label-arrow\">FunctionTransformer</label><div class=\"sk-toggleable__content\"><pre>FunctionTransformer(feature_names_out=&lt;function add_neighborhood_feature_names at 0x00000214E1C66C00&gt;,\n",
       "                    func=&lt;function add_neighborhood_features at 0x00000214E1C66D40&gt;)</pre></div></div></div><div class=\"sk-item sk-dashed-wrapped\"><div class=\"sk-label-container\"><div class=\"sk-label sk-toggleable\"><input class=\"sk-toggleable__control sk-hidden--visually\" id=\"sk-estimator-id-30\" type=\"checkbox\" ><label for=\"sk-estimator-id-30\" class=\"sk-toggleable__label sk-toggleable__label-arrow\">preprocess_features: ColumnTransformer</label><div class=\"sk-toggleable__content\"><pre>ColumnTransformer(transformers=[(&#x27;ordinal_categoricals_with_category_imputed&#x27;,\n",
       "                                 Pipeline(steps=[(&#x27;impute_missing_categoricals&#x27;,\n",
       "                                                  SimpleImputer(fill_value=&#x27;None&#x27;,\n",
       "                                                                strategy=&#x27;constant&#x27;)),\n",
       "                                                 (&#x27;encode_ordinal_values&#x27;,\n",
       "                                                  OrdinalEncoder(handle_unknown=&#x27;use_encoded_value&#x27;,\n",
       "                                                                 unknown_value=-1))]),\n",
       "                                 [&#x27;PoolQC&#x27;, &#x27;MiscFeature&#x27;, &#x27;Alley&#x27;, &#x27;Fence&#x27;,\n",
       "                                  &#x27;FireplaceQu&#x27;, &#x27;GarageType&#x27;, &#x27;GarageF...\n",
       "                                                  SimpleImputer(fill_value=0,\n",
       "                                                                strategy=&#x27;constant&#x27;)),\n",
       "                                                 (&#x27;power_transform&#x27;,\n",
       "                                                  PowerTransformer())]),\n",
       "                                 [&#x27;MiscVal&#x27;, &#x27;PoolArea&#x27;, &#x27;LotArea&#x27;,\n",
       "                                  &#x27;LowQualFinSF&#x27;, &#x27;3SsnPorch&#x27;, &#x27;BsmtFinSF1&#x27;,\n",
       "                                  &#x27;BsmtFinSF2&#x27;, &#x27;BsmtUnfSF&#x27;, &#x27;TotalBsmtSF&#x27;,\n",
       "                                  &#x27;EnclosedPorch&#x27;, &#x27;ScreenPorch&#x27;, &#x27;MasVnrArea&#x27;,\n",
       "                                  &#x27;1stFlrSF&#x27;, &#x27;2ndFlrSF&#x27;, &#x27;GrLivArea&#x27;,\n",
       "                                  &#x27;OpenPorchSF&#x27;, &#x27;WoodDeckSF&#x27;, &#x27;LotFrontage&#x27;,\n",
       "                                  &#x27;GarageArea&#x27;, &#x27;TotalSF&#x27;, &#x27;TotalPorchSF&#x27;])])</pre></div></div></div><div class=\"sk-parallel\"><div class=\"sk-parallel-item\"><div class=\"sk-item\"><div class=\"sk-label-container\"><div class=\"sk-label sk-toggleable\"><input class=\"sk-toggleable__control sk-hidden--visually\" id=\"sk-estimator-id-31\" type=\"checkbox\" ><label for=\"sk-estimator-id-31\" class=\"sk-toggleable__label sk-toggleable__label-arrow\">ordinal_categoricals_with_category_imputed</label><div class=\"sk-toggleable__content\"><pre>[&#x27;PoolQC&#x27;, &#x27;MiscFeature&#x27;, &#x27;Alley&#x27;, &#x27;Fence&#x27;, &#x27;FireplaceQu&#x27;, &#x27;GarageType&#x27;, &#x27;GarageFinish&#x27;, &#x27;GarageCond&#x27;, &#x27;BsmtCond&#x27;, &#x27;BsmtExposure&#x27;, &#x27;BsmtFinType1&#x27;, &#x27;BsmtFinType2&#x27;, &#x27;MasVnrType&#x27;, &#x27;MSSubClass&#x27;, &#x27;Functional&#x27;, &#x27;CentralAir&#x27;, &#x27;ExterCond&#x27;, &#x27;HeatingQC&#x27;, &#x27;LandSlope&#x27;, &#x27;LotShape&#x27;, &#x27;OverallCond&#x27;, &#x27;PavedDrive&#x27;, &#x27;Street&#x27;, &#x27;KitchenAbvGr&#x27;, &#x27;Foundation&#x27;, &#x27;SaleCondition&#x27;, &#x27;RoofStyle&#x27;, &#x27;HouseStyle&#x27;, &#x27;Neighborhood&#x27;, &#x27;RoofMatl&#x27;, &#x27;LotConfig&#x27;, &#x27;Condition1&#x27;, &#x27;Condition2&#x27;, &#x27;BldgType&#x27;, &#x27;LandContour&#x27;, &#x27;NeighborhoodQual&#x27;]</pre></div></div></div><div class=\"sk-serial\"><div class=\"sk-item\"><div class=\"sk-serial\"><div class=\"sk-item\"><div class=\"sk-estimator sk-toggleable\"><input class=\"sk-toggleable__control sk-hidden--visually\" id=\"sk-estimator-id-32\" type=\"checkbox\" ><label for=\"sk-estimator-id-32\" class=\"sk-toggleable__label sk-toggleable__label-arrow\">SimpleImputer</label><div class=\"sk-toggleable__content\"><pre>SimpleImputer(fill_value=&#x27;None&#x27;, strategy=&#x27;constant&#x27;)</pre></div></div></div><div class=\"sk-item\"><div class=\"sk-estimator sk-toggleable\"><input class=\"sk-toggleable__control sk-hidden--visually\" id=\"sk-estimator-id-33\" type=\"checkbox\" ><label for=\"sk-estimator-id-33\" class=\"sk-toggleable__label sk-toggleable__label-arrow\">OrdinalEncoder</label><div class=\"sk-toggleable__content\"><pre>OrdinalEncoder(handle_unknown=&#x27;use_encoded_value&#x27;, unknown_value=-1)</pre></div></div></div></div></div></div></div></div><div class=\"sk-parallel-item\"><div class=\"sk-item\"><div class=\"sk-label-container\"><div class=\"sk-label sk-toggleable\"><input class=\"sk-toggleable__control sk-hidden--visually\" id=\"sk-estimator-id-34\" type=\"checkbox\" ><label for=\"sk-estimator-id-34\" class=\"sk-toggleable__label sk-toggleable__label-arrow\">ordinal_categoricals_with_mode_imputed</label><div class=\"sk-toggleable__content\"><pre>[&#x27;MSZoning&#x27;, &#x27;Utilities&#x27;, &#x27;Electrical&#x27;, &#x27;Heating&#x27;, &#x27;KitchenQual&#x27;, &#x27;GarageQual&#x27;, &#x27;BsmtQual&#x27;, &#x27;ExterQual&#x27;, &#x27;Exterior1st&#x27;, &#x27;Exterior2nd&#x27;, &#x27;SaleType&#x27;]</pre></div></div></div><div class=\"sk-serial\"><div class=\"sk-item\"><div class=\"sk-serial\"><div class=\"sk-item\"><div class=\"sk-estimator sk-toggleable\"><input class=\"sk-toggleable__control sk-hidden--visually\" id=\"sk-estimator-id-35\" type=\"checkbox\" ><label for=\"sk-estimator-id-35\" class=\"sk-toggleable__label sk-toggleable__label-arrow\">SimpleImputer</label><div class=\"sk-toggleable__content\"><pre>SimpleImputer(strategy=&#x27;most_frequent&#x27;)</pre></div></div></div><div class=\"sk-item\"><div class=\"sk-estimator sk-toggleable\"><input class=\"sk-toggleable__control sk-hidden--visually\" id=\"sk-estimator-id-36\" type=\"checkbox\" ><label for=\"sk-estimator-id-36\" class=\"sk-toggleable__label sk-toggleable__label-arrow\">OrdinalEncoder</label><div class=\"sk-toggleable__content\"><pre>OrdinalEncoder(handle_unknown=&#x27;use_encoded_value&#x27;, unknown_value=-1)</pre></div></div></div></div></div></div></div></div><div class=\"sk-parallel-item\"><div class=\"sk-item\"><div class=\"sk-label-container\"><div class=\"sk-label sk-toggleable\"><input class=\"sk-toggleable__control sk-hidden--visually\" id=\"sk-estimator-id-37\" type=\"checkbox\" ><label for=\"sk-estimator-id-37\" class=\"sk-toggleable__label sk-toggleable__label-arrow\">numericals_as_ordinals</label><div class=\"sk-toggleable__content\"><pre>[&#x27;GarageCars&#x27;, &#x27;BsmtFullBath&#x27;, &#x27;BsmtHalfBath&#x27;, &#x27;BedroomAbvGr&#x27;, &#x27;Fireplaces&#x27;, &#x27;FullBath&#x27;, &#x27;HalfBath&#x27;, &#x27;OverallQual&#x27;, &#x27;TotRmsAbvGrd&#x27;, &#x27;TotalBathrooms&#x27;, &#x27;HasPool&#x27;, &#x27;Has2ndFloor&#x27;, &#x27;HasGarage&#x27;, &#x27;HasBasement&#x27;, &#x27;HasFireplace&#x27;, &#x27;HasBeenRemodelled&#x27;]</pre></div></div></div><div class=\"sk-serial\"><div class=\"sk-item\"><div class=\"sk-serial\"><div class=\"sk-item\"><div class=\"sk-estimator sk-toggleable\"><input class=\"sk-toggleable__control sk-hidden--visually\" id=\"sk-estimator-id-38\" type=\"checkbox\" ><label for=\"sk-estimator-id-38\" class=\"sk-toggleable__label sk-toggleable__label-arrow\">SimpleImputer</label><div class=\"sk-toggleable__content\"><pre>SimpleImputer(fill_value=0, strategy=&#x27;constant&#x27;)</pre></div></div></div><div class=\"sk-item\"><div class=\"sk-estimator sk-toggleable\"><input class=\"sk-toggleable__control sk-hidden--visually\" id=\"sk-estimator-id-39\" type=\"checkbox\" ><label for=\"sk-estimator-id-39\" class=\"sk-toggleable__label sk-toggleable__label-arrow\">OrdinalEncoder</label><div class=\"sk-toggleable__content\"><pre>OrdinalEncoder(handle_unknown=&#x27;use_encoded_value&#x27;, unknown_value=-1)</pre></div></div></div></div></div></div></div></div><div class=\"sk-parallel-item\"><div class=\"sk-item\"><div class=\"sk-label-container\"><div class=\"sk-label sk-toggleable\"><input class=\"sk-toggleable__control sk-hidden--visually\" id=\"sk-estimator-id-40\" type=\"checkbox\" ><label for=\"sk-estimator-id-40\" class=\"sk-toggleable__label sk-toggleable__label-arrow\">date_transformations</label><div class=\"sk-toggleable__content\"><pre>[&#x27;YrSold&#x27;, &#x27;MoSold&#x27;, &#x27;YearBuilt&#x27;, &#x27;YearRemodAdd&#x27;, &#x27;GarageYrBlt&#x27;, &#x27;BuildingAge&#x27;]</pre></div></div></div><div class=\"sk-serial\"><div class=\"sk-item\"><div class=\"sk-serial\"><div class=\"sk-item\"><div class=\"sk-estimator sk-toggleable\"><input class=\"sk-toggleable__control sk-hidden--visually\" id=\"sk-estimator-id-41\" type=\"checkbox\" ><label for=\"sk-estimator-id-41\" class=\"sk-toggleable__label sk-toggleable__label-arrow\">SimpleImputer</label><div class=\"sk-toggleable__content\"><pre>SimpleImputer(fill_value=-1, strategy=&#x27;constant&#x27;)</pre></div></div></div><div class=\"sk-item\"><div class=\"sk-estimator sk-toggleable\"><input class=\"sk-toggleable__control sk-hidden--visually\" id=\"sk-estimator-id-42\" type=\"checkbox\" ><label for=\"sk-estimator-id-42\" class=\"sk-toggleable__label sk-toggleable__label-arrow\">OrdinalEncoder</label><div class=\"sk-toggleable__content\"><pre>OrdinalEncoder(handle_unknown=&#x27;use_encoded_value&#x27;, unknown_value=-1)</pre></div></div></div></div></div></div></div></div><div class=\"sk-parallel-item\"><div class=\"sk-item\"><div class=\"sk-label-container\"><div class=\"sk-label sk-toggleable\"><input class=\"sk-toggleable__control sk-hidden--visually\" id=\"sk-estimator-id-43\" type=\"checkbox\" ><label for=\"sk-estimator-id-43\" class=\"sk-toggleable__label sk-toggleable__label-arrow\">non_normal_continuous_variables</label><div class=\"sk-toggleable__content\"><pre>[&#x27;MiscVal&#x27;, &#x27;PoolArea&#x27;, &#x27;LotArea&#x27;, &#x27;LowQualFinSF&#x27;, &#x27;3SsnPorch&#x27;, &#x27;BsmtFinSF1&#x27;, &#x27;BsmtFinSF2&#x27;, &#x27;BsmtUnfSF&#x27;, &#x27;TotalBsmtSF&#x27;, &#x27;EnclosedPorch&#x27;, &#x27;ScreenPorch&#x27;, &#x27;MasVnrArea&#x27;, &#x27;1stFlrSF&#x27;, &#x27;2ndFlrSF&#x27;, &#x27;GrLivArea&#x27;, &#x27;OpenPorchSF&#x27;, &#x27;WoodDeckSF&#x27;, &#x27;LotFrontage&#x27;, &#x27;GarageArea&#x27;, &#x27;TotalSF&#x27;, &#x27;TotalPorchSF&#x27;]</pre></div></div></div><div class=\"sk-serial\"><div class=\"sk-item\"><div class=\"sk-serial\"><div class=\"sk-item\"><div class=\"sk-estimator sk-toggleable\"><input class=\"sk-toggleable__control sk-hidden--visually\" id=\"sk-estimator-id-44\" type=\"checkbox\" ><label for=\"sk-estimator-id-44\" class=\"sk-toggleable__label sk-toggleable__label-arrow\">SimpleImputer</label><div class=\"sk-toggleable__content\"><pre>SimpleImputer(fill_value=0, strategy=&#x27;constant&#x27;)</pre></div></div></div><div class=\"sk-item\"><div class=\"sk-estimator sk-toggleable\"><input class=\"sk-toggleable__control sk-hidden--visually\" id=\"sk-estimator-id-45\" type=\"checkbox\" ><label for=\"sk-estimator-id-45\" class=\"sk-toggleable__label sk-toggleable__label-arrow\">PowerTransformer</label><div class=\"sk-toggleable__content\"><pre>PowerTransformer()</pre></div></div></div></div></div></div></div></div></div></div><div class=\"sk-item sk-dashed-wrapped\"><div class=\"sk-label-container\"><div class=\"sk-label sk-toggleable\"><input class=\"sk-toggleable__control sk-hidden--visually\" id=\"sk-estimator-id-46\" type=\"checkbox\" ><label for=\"sk-estimator-id-46\" class=\"sk-toggleable__label sk-toggleable__label-arrow\">regressor: TransformedTargetRegressor</label><div class=\"sk-toggleable__content\"><pre>TransformedTargetRegressor(regressor=RandomForestRegressor(),\n",
       "                           transformer=PowerTransformer())</pre></div></div></div><div class=\"sk-parallel\"><div class=\"sk-parallel-item\"><div class=\"sk-item\"><div class=\"sk-label-container\"><div class=\"sk-label sk-toggleable\"><input class=\"sk-toggleable__control sk-hidden--visually\" id=\"sk-estimator-id-47\" type=\"checkbox\" ><label for=\"sk-estimator-id-47\" class=\"sk-toggleable__label sk-toggleable__label-arrow\">regressor: RandomForestRegressor</label><div class=\"sk-toggleable__content\"><pre>RandomForestRegressor()</pre></div></div></div><div class=\"sk-serial\"><div class=\"sk-item\"><div class=\"sk-estimator sk-toggleable\"><input class=\"sk-toggleable__control sk-hidden--visually\" id=\"sk-estimator-id-48\" type=\"checkbox\" ><label for=\"sk-estimator-id-48\" class=\"sk-toggleable__label sk-toggleable__label-arrow\">RandomForestRegressor</label><div class=\"sk-toggleable__content\"><pre>RandomForestRegressor()</pre></div></div></div></div></div></div><div class=\"sk-parallel-item\"><div class=\"sk-item\"><div class=\"sk-label-container\"><div class=\"sk-label sk-toggleable\"><input class=\"sk-toggleable__control sk-hidden--visually\" id=\"sk-estimator-id-49\" type=\"checkbox\" ><label for=\"sk-estimator-id-49\" class=\"sk-toggleable__label sk-toggleable__label-arrow\">transformer: PowerTransformer</label><div class=\"sk-toggleable__content\"><pre>PowerTransformer()</pre></div></div></div><div class=\"sk-serial\"><div class=\"sk-item\"><div class=\"sk-estimator sk-toggleable\"><input class=\"sk-toggleable__control sk-hidden--visually\" id=\"sk-estimator-id-50\" type=\"checkbox\" ><label for=\"sk-estimator-id-50\" class=\"sk-toggleable__label sk-toggleable__label-arrow\">PowerTransformer</label><div class=\"sk-toggleable__content\"><pre>PowerTransformer()</pre></div></div></div></div></div></div></div></div></div></div></div></div>"
      ],
      "text/plain": [
       "Pipeline(steps=[('add_boolean_features',\n",
       "                 FunctionTransformer(feature_names_out=<function add_boolean_feature_names at 0x00000214E1C03240>,\n",
       "                                     func=<function add_boolean_features at 0x00000214E1C02DE0>)),\n",
       "                ('add_total_features',\n",
       "                 FunctionTransformer(feature_names_out=<function add_total_sf_feature_names at 0x00000214E1C66980>,\n",
       "                                     func=<function add_total_sf_features at 0x00...\n",
       "                                                   'LotArea', 'LowQualFinSF',\n",
       "                                                   '3SsnPorch', 'BsmtFinSF1',\n",
       "                                                   'BsmtFinSF2', 'BsmtUnfSF',\n",
       "                                                   'TotalBsmtSF',\n",
       "                                                   'EnclosedPorch',\n",
       "                                                   'ScreenPorch', 'MasVnrArea',\n",
       "                                                   '1stFlrSF', '2ndFlrSF',\n",
       "                                                   'GrLivArea', 'OpenPorchSF',\n",
       "                                                   'WoodDeckSF', 'LotFrontage',\n",
       "                                                   'GarageArea', 'TotalSF',\n",
       "                                                   'TotalPorchSF'])])),\n",
       "                ('regressor',\n",
       "                 TransformedTargetRegressor(regressor=RandomForestRegressor(),\n",
       "                                            transformer=PowerTransformer()))])"
      ]
     },
     "execution_count": 32,
     "metadata": {},
     "output_type": "execute_result"
    }
   ],
   "source": [
    "pipe_rfr.fit(X_train, y_train)"
   ]
  },
  {
   "cell_type": "markdown",
   "id": "40e49ecb-1e8d-4b4f-abf6-9b93e28012f6",
   "metadata": {},
   "source": [
    "### Feature Importance - Impurity"
   ]
  },
  {
   "cell_type": "code",
   "execution_count": 33,
   "id": "5d7c0d41-1acc-40c7-b4cc-8835e89d35cb",
   "metadata": {},
   "outputs": [],
   "source": [
    "df_feature_importances_i = pandas.Series(\n",
    "    data=pipe_rfr.steps[-1][-1].regressor_.feature_importances_,\n",
    "    index=pipe_rfr.steps[-2][1].get_feature_names_out(),\n",
    ")"
   ]
  },
  {
   "cell_type": "code",
   "execution_count": 34,
   "id": "751f9e2e-ccba-4848-907b-1c2dfe86e1e7",
   "metadata": {},
   "outputs": [
    {
     "data": {
      "text/plain": [
       "<Axes: >"
      ]
     },
     "execution_count": 34,
     "metadata": {},
     "output_type": "execute_result"
    },
    {
     "data": {
      "image/png": "[encoded data removed]",
      "text/plain": [
       "<Figure size 1000x400 with 1 Axes>"
      ]
     },
     "metadata": {},
     "output_type": "display_data"
    }
   ],
   "source": [
    "f, ax = plt.subplots(1, 1, figsize=(10, 4))\n",
    "\n",
    "df_feature_importances_i.sort_values(ascending=False).head(20).plot(kind='bar', ax=ax)"
   ]
  },
  {
   "cell_type": "markdown",
   "id": "ad69dc0b-ed68-4c2f-93e0-0664711f0616",
   "metadata": {},
   "source": [
    "### Feature importance - Permutation"
   ]
  },
  {
   "cell_type": "code",
   "execution_count": 35,
   "id": "a3e85e09-fa4d-4123-afcd-8951287ea28c",
   "metadata": {},
   "outputs": [],
   "source": [
    "r = permutation_importance(pipe_rfr, X_train, y_train, n_repeats=8, random_state=123)"
   ]
  },
  {
   "cell_type": "code",
   "execution_count": 36,
   "id": "bdeba7a4-20ce-438a-94e7-7106265a276c",
   "metadata": {},
   "outputs": [
    {
     "data": {
      "text/plain": [
       "(79,)"
      ]
     },
     "execution_count": 36,
     "metadata": {},
     "output_type": "execute_result"
    }
   ],
   "source": [
    "r[\"importances_mean\"].shape"
   ]
  },
  {
   "cell_type": "code",
   "execution_count": 37,
   "id": "e1fd3f9f-ce51-4879-b540-fc2a117ebe2b",
   "metadata": {},
   "outputs": [],
   "source": [
    "df_feature_importances_p = pandas.Series(\n",
    "    data=r[\"importances_mean\"],\n",
    "    index=pipe_rfr.steps[0][1].feature_names_in_\n",
    ")"
   ]
  },
  {
   "cell_type": "code",
   "execution_count": 38,
   "id": "de767193-4a16-4f9d-8bc8-c2535fc9e036",
   "metadata": {},
   "outputs": [
    {
     "data": {
      "text/plain": [
       "<Axes: >"
      ]
     },
     "execution_count": 38,
     "metadata": {},
     "output_type": "execute_result"
    },
    {
     "data": {
      "image/png": "[encoded data removed]",
      "text/plain": [
       "<Figure size 1000x400 with 1 Axes>"
      ]
     },
     "metadata": {},
     "output_type": "display_data"
    }
   ],
   "source": [
    "f, ax = plt.subplots(1, 1, figsize=(10, 4))\n",
    "\n",
    "df_feature_importances_p.sort_values(ascending=False).head(20).plot(kind='bar', ax=ax)"
   ]
  },
  {
   "cell_type": "markdown",
   "id": "97b0374f-90e5-4de6-9096-dab1fec04f43",
   "metadata": {},
   "source": [
    "## Grid Searches"
   ]
  },
  {
   "cell_type": "markdown",
   "id": "bcaa0471-fcac-4cbe-a31c-ea138b2d942b",
   "metadata": {},
   "source": [
    "#### ElasticNet - Grid Search"
   ]
  },
  {
   "cell_type": "code",
   "execution_count": 39,
   "id": "c1d63896-d84a-4eff-8aac-ebe30d2594d2",
   "metadata": {},
   "outputs": [
    {
     "name": "stdout",
     "output_type": "stream",
     "text": [
      "Fitting 5 folds for each of 231 candidates, totalling 1155 fits\n"
     ]
    }
   ],
   "source": [
    "pipe_el = make_pipeline(ElasticNet())\n",
    "\n",
    "params = {\n",
    "    \"regressor__regressor__alpha\": numpy.logspace(-3, 0, 21),\n",
    "    \"regressor__regressor__l1_ratio\": numpy.linspace(0.5, 0.99, 11),\n",
    "}\n",
    "\n",
    "gs = GridSearchCV(pipe_el, param_grid=params, scoring=score_function, n_jobs=4, verbose=2).fit(X_train, y_train)"
   ]
  },
  {
   "cell_type": "code",
   "execution_count": 40,
   "id": "fcb56c21-efa5-4b3d-8de7-f55a89187a64",
   "metadata": {},
   "outputs": [
    {
     "data": {
      "text/plain": [
       "{'regressor__regressor__alpha': 0.003981071705534973,\n",
       " 'regressor__regressor__l1_ratio': 0.9410000000000001}"
      ]
     },
     "execution_count": 40,
     "metadata": {},
     "output_type": "execute_result"
    }
   ],
   "source": [
    "gs.best_params_"
   ]
  },
  {
   "cell_type": "code",
   "execution_count": 41,
   "id": "8ea20dd6-01e1-48da-b792-7ca50e928821",
   "metadata": {},
   "outputs": [
    {
     "data": {
      "text/html": [
       "<div>\n",
       "<style scoped>\n",
       "    .dataframe tbody tr th:only-of-type {\n",
       "        vertical-align: middle;\n",
       "    }\n",
       "\n",
       "    .dataframe tbody tr th {\n",
       "        vertical-align: top;\n",
       "    }\n",
       "\n",
       "    .dataframe thead th {\n",
       "        text-align: right;\n",
       "    }\n",
       "</style>\n",
       "<table border=\"1\" class=\"dataframe\">\n",
       "  <thead>\n",
       "    <tr style=\"text-align: right;\">\n",
       "      <th></th>\n",
       "      <th></th>\n",
       "      <th>Score</th>\n",
       "    </tr>\n",
       "    <tr>\n",
       "      <th>regressor__regressor__alpha</th>\n",
       "      <th>regressor__regressor__l1_ratio</th>\n",
       "      <th></th>\n",
       "    </tr>\n",
       "  </thead>\n",
       "  <tbody>\n",
       "    <tr>\n",
       "      <th rowspan=\"4\" valign=\"top\">0.003981</th>\n",
       "      <th>0.941</th>\n",
       "      <td>-0.019052</td>\n",
       "    </tr>\n",
       "    <tr>\n",
       "      <th>0.892</th>\n",
       "      <td>-0.019055</td>\n",
       "    </tr>\n",
       "    <tr>\n",
       "      <th>0.990</th>\n",
       "      <td>-0.019057</td>\n",
       "    </tr>\n",
       "    <tr>\n",
       "      <th>0.843</th>\n",
       "      <td>-0.019070</td>\n",
       "    </tr>\n",
       "    <tr>\n",
       "      <th>0.005623</th>\n",
       "      <th>0.794</th>\n",
       "      <td>-0.019073</td>\n",
       "    </tr>\n",
       "    <tr>\n",
       "      <th>0.007943</th>\n",
       "      <th>0.696</th>\n",
       "      <td>-0.019075</td>\n",
       "    </tr>\n",
       "    <tr>\n",
       "      <th>0.011220</th>\n",
       "      <th>0.598</th>\n",
       "      <td>-0.019078</td>\n",
       "    </tr>\n",
       "    <tr>\n",
       "      <th>0.005623</th>\n",
       "      <th>0.843</th>\n",
       "      <td>-0.019082</td>\n",
       "    </tr>\n",
       "    <tr>\n",
       "      <th>0.011220</th>\n",
       "      <th>0.647</th>\n",
       "      <td>-0.019084</td>\n",
       "    </tr>\n",
       "    <tr>\n",
       "      <th>0.005623</th>\n",
       "      <th>0.745</th>\n",
       "      <td>-0.019085</td>\n",
       "    </tr>\n",
       "  </tbody>\n",
       "</table>\n",
       "</div>"
      ],
      "text/plain": [
       "                                                               Score\n",
       "regressor__regressor__alpha regressor__regressor__l1_ratio          \n",
       "0.003981                    0.941                          -0.019052\n",
       "                            0.892                          -0.019055\n",
       "                            0.990                          -0.019057\n",
       "                            0.843                          -0.019070\n",
       "0.005623                    0.794                          -0.019073\n",
       "0.007943                    0.696                          -0.019075\n",
       "0.011220                    0.598                          -0.019078\n",
       "0.005623                    0.843                          -0.019082\n",
       "0.011220                    0.647                          -0.019084\n",
       "0.005623                    0.745                          -0.019085"
      ]
     },
     "execution_count": 41,
     "metadata": {},
     "output_type": "execute_result"
    }
   ],
   "source": [
    "(\n",
    "    pandas.DataFrame(gs.cv_results_[\"params\"]).assign(Score=gs.cv_results_[\"mean_test_score\"])\n",
    "    .set_index(keys=[\"regressor__regressor__alpha\", \"regressor__regressor__l1_ratio\"])\n",
    "    .sort_values(by=\"Score\", ascending=False)\n",
    "    .head(10)\n",
    ")"
   ]
  },
  {
   "cell_type": "markdown",
   "id": "7c136ccc-3fce-4e52-ba68-3b639aadc1b7",
   "metadata": {},
   "source": [
    "#### Gradient Boosting Regressor - Grid Search"
   ]
  },
  {
   "cell_type": "code",
   "execution_count": 42,
   "id": "42e35d01-0447-4731-ab63-90bda4dd93bf",
   "metadata": {},
   "outputs": [
    {
     "name": "stdout",
     "output_type": "stream",
     "text": [
      "Fitting 5 folds for each of 36 candidates, totalling 180 fits\n"
     ]
    }
   ],
   "source": [
    "pipe_gbr = make_pipeline(GradientBoostingRegressor(loss=\"huber\", max_features=\"sqrt\"))\n",
    "\n",
    "params = {\n",
    "    \"regressor__regressor__n_estimators\": [512, 1024, 2048, 4096],\n",
    "    \"regressor__regressor__min_samples_leaf\": [2, 4, 8],\n",
    "    \"regressor__regressor__min_samples_split\": [8, 16, 32],\n",
    "}\n",
    "\n",
    "gs = GridSearchCV(pipe_gbr, param_grid=params, scoring=score_function, n_jobs=4, verbose=2).fit(X_train, y_train)"
   ]
  },
  {
   "cell_type": "code",
   "execution_count": 43,
   "id": "d8299b61-5aa5-4124-9cce-3018cd0e75c5",
   "metadata": {},
   "outputs": [
    {
     "data": {
      "text/plain": [
       "{'regressor__regressor__min_samples_leaf': 2,\n",
       " 'regressor__regressor__min_samples_split': 16,\n",
       " 'regressor__regressor__n_estimators': 512}"
      ]
     },
     "execution_count": 43,
     "metadata": {},
     "output_type": "execute_result"
    }
   ],
   "source": [
    "gs.best_params_"
   ]
  },
  {
   "cell_type": "code",
   "execution_count": 44,
   "id": "0cf85ddb-ceb0-4b3c-9192-302208a82173",
   "metadata": {},
   "outputs": [
    {
     "data": {
      "text/html": [
       "<div>\n",
       "<style scoped>\n",
       "    .dataframe tbody tr th:only-of-type {\n",
       "        vertical-align: middle;\n",
       "    }\n",
       "\n",
       "    .dataframe tbody tr th {\n",
       "        vertical-align: top;\n",
       "    }\n",
       "\n",
       "    .dataframe thead th {\n",
       "        text-align: right;\n",
       "    }\n",
       "</style>\n",
       "<table border=\"1\" class=\"dataframe\">\n",
       "  <thead>\n",
       "    <tr style=\"text-align: right;\">\n",
       "      <th></th>\n",
       "      <th></th>\n",
       "      <th></th>\n",
       "      <th>Score</th>\n",
       "    </tr>\n",
       "    <tr>\n",
       "      <th>regressor__regressor__n_estimators</th>\n",
       "      <th>regressor__regressor__min_samples_leaf</th>\n",
       "      <th>regressor__regressor__min_samples_split</th>\n",
       "      <th></th>\n",
       "    </tr>\n",
       "  </thead>\n",
       "  <tbody>\n",
       "    <tr>\n",
       "      <th rowspan=\"3\" valign=\"top\">512</th>\n",
       "      <th>2</th>\n",
       "      <th>16</th>\n",
       "      <td>-0.014341</td>\n",
       "    </tr>\n",
       "    <tr>\n",
       "      <th>8</th>\n",
       "      <th>16</th>\n",
       "      <td>-0.014630</td>\n",
       "    </tr>\n",
       "    <tr>\n",
       "      <th>4</th>\n",
       "      <th>8</th>\n",
       "      <td>-0.014666</td>\n",
       "    </tr>\n",
       "    <tr>\n",
       "      <th rowspan=\"3\" valign=\"top\">1024</th>\n",
       "      <th>2</th>\n",
       "      <th>16</th>\n",
       "      <td>-0.014758</td>\n",
       "    </tr>\n",
       "    <tr>\n",
       "      <th>4</th>\n",
       "      <th>32</th>\n",
       "      <td>-0.014978</td>\n",
       "    </tr>\n",
       "    <tr>\n",
       "      <th>2</th>\n",
       "      <th>8</th>\n",
       "      <td>-0.014996</td>\n",
       "    </tr>\n",
       "    <tr>\n",
       "      <th>512</th>\n",
       "      <th>2</th>\n",
       "      <th>8</th>\n",
       "      <td>-0.015169</td>\n",
       "    </tr>\n",
       "    <tr>\n",
       "      <th>2048</th>\n",
       "      <th>2</th>\n",
       "      <th>8</th>\n",
       "      <td>-0.015171</td>\n",
       "    </tr>\n",
       "    <tr>\n",
       "      <th>1024</th>\n",
       "      <th>2</th>\n",
       "      <th>32</th>\n",
       "      <td>-0.015195</td>\n",
       "    </tr>\n",
       "    <tr>\n",
       "      <th>2048</th>\n",
       "      <th>2</th>\n",
       "      <th>32</th>\n",
       "      <td>-0.015271</td>\n",
       "    </tr>\n",
       "  </tbody>\n",
       "</table>\n",
       "</div>"
      ],
      "text/plain": [
       "                                                                                                                      Score\n",
       "regressor__regressor__n_estimators regressor__regressor__min_samples_leaf regressor__regressor__min_samples_split          \n",
       "512                                2                                      16                                      -0.014341\n",
       "                                   8                                      16                                      -0.014630\n",
       "                                   4                                      8                                       -0.014666\n",
       "1024                               2                                      16                                      -0.014758\n",
       "                                   4                                      32                                      -0.014978\n",
       "                                   2                                      8                                       -0.014996\n",
       "512                                2                                      8                                       -0.015169\n",
       "2048                               2                                      8                                       -0.015171\n",
       "1024                               2                                      32                                      -0.015195\n",
       "2048                               2                                      32                                      -0.015271"
      ]
     },
     "execution_count": 44,
     "metadata": {},
     "output_type": "execute_result"
    }
   ],
   "source": [
    "(\n",
    "    pandas.DataFrame(gs.cv_results_[\"params\"]).assign(Score=gs.cv_results_[\"mean_test_score\"])\n",
    "    .set_index(keys=[\"regressor__regressor__n_estimators\", \"regressor__regressor__min_samples_leaf\", \"regressor__regressor__min_samples_split\"])\n",
    "    .sort_values(by=\"Score\", ascending=False)\n",
    "    .head(10)\n",
    ")"
   ]
  },
  {
   "cell_type": "markdown",
   "id": "a389631b-42b8-44bd-a433-0aa6151f3d9f",
   "metadata": {},
   "source": [
    "#### Kernel Ridge - Grid Search"
   ]
  },
  {
   "cell_type": "code",
   "execution_count": 45,
   "id": "07c85600-d6ea-4d0e-ab9d-53a788485359",
   "metadata": {},
   "outputs": [
    {
     "name": "stdout",
     "output_type": "stream",
     "text": [
      "Fitting 5 folds for each of 63 candidates, totalling 315 fits\n"
     ]
    }
   ],
   "source": [
    "pipe_krr = make_pipeline(KernelRidge(kernel=\"polynomial\", coef0=0))\n",
    "\n",
    "params = {\n",
    "    \"regressor__regressor__alpha\": numpy.linspace(0.5, 2.5, 21),\n",
    "    \"regressor__regressor__degree\": [2, 3, 4],\n",
    "}\n",
    "\n",
    "gs = GridSearchCV(pipe_krr, param_grid=params, scoring=score_function, n_jobs=4, verbose=2).fit(X_train, y_train)"
   ]
  },
  {
   "cell_type": "code",
   "execution_count": 46,
   "id": "455749de-b92d-43e2-9826-d3b510b6a93b",
   "metadata": {},
   "outputs": [
    {
     "data": {
      "text/plain": [
       "{'regressor__regressor__alpha': 2.5, 'regressor__regressor__degree': 2}"
      ]
     },
     "execution_count": 46,
     "metadata": {},
     "output_type": "execute_result"
    }
   ],
   "source": [
    "gs.best_params_"
   ]
  },
  {
   "cell_type": "code",
   "execution_count": 47,
   "id": "02f7fcfe-ab45-4681-aed8-e068bbee415b",
   "metadata": {},
   "outputs": [
    {
     "data": {
      "text/html": [
       "<div>\n",
       "<style scoped>\n",
       "    .dataframe tbody tr th:only-of-type {\n",
       "        vertical-align: middle;\n",
       "    }\n",
       "\n",
       "    .dataframe tbody tr th {\n",
       "        vertical-align: top;\n",
       "    }\n",
       "\n",
       "    .dataframe thead th {\n",
       "        text-align: right;\n",
       "    }\n",
       "</style>\n",
       "<table border=\"1\" class=\"dataframe\">\n",
       "  <thead>\n",
       "    <tr style=\"text-align: right;\">\n",
       "      <th></th>\n",
       "      <th></th>\n",
       "      <th>Score</th>\n",
       "    </tr>\n",
       "    <tr>\n",
       "      <th>regressor__regressor__alpha</th>\n",
       "      <th>regressor__regressor__degree</th>\n",
       "      <th></th>\n",
       "    </tr>\n",
       "  </thead>\n",
       "  <tbody>\n",
       "    <tr>\n",
       "      <th>2.5</th>\n",
       "      <th>2</th>\n",
       "      <td>-0.024487</td>\n",
       "    </tr>\n",
       "    <tr>\n",
       "      <th>2.4</th>\n",
       "      <th>2</th>\n",
       "      <td>-0.024606</td>\n",
       "    </tr>\n",
       "    <tr>\n",
       "      <th>2.3</th>\n",
       "      <th>2</th>\n",
       "      <td>-0.024732</td>\n",
       "    </tr>\n",
       "    <tr>\n",
       "      <th>2.2</th>\n",
       "      <th>2</th>\n",
       "      <td>-0.024866</td>\n",
       "    </tr>\n",
       "    <tr>\n",
       "      <th>2.1</th>\n",
       "      <th>2</th>\n",
       "      <td>-0.025009</td>\n",
       "    </tr>\n",
       "    <tr>\n",
       "      <th>2.0</th>\n",
       "      <th>2</th>\n",
       "      <td>-0.025161</td>\n",
       "    </tr>\n",
       "    <tr>\n",
       "      <th>1.9</th>\n",
       "      <th>2</th>\n",
       "      <td>-0.025325</td>\n",
       "    </tr>\n",
       "    <tr>\n",
       "      <th>1.8</th>\n",
       "      <th>2</th>\n",
       "      <td>-0.025501</td>\n",
       "    </tr>\n",
       "    <tr>\n",
       "      <th>1.7</th>\n",
       "      <th>2</th>\n",
       "      <td>-0.025690</td>\n",
       "    </tr>\n",
       "    <tr>\n",
       "      <th>1.6</th>\n",
       "      <th>2</th>\n",
       "      <td>-0.025895</td>\n",
       "    </tr>\n",
       "  </tbody>\n",
       "</table>\n",
       "</div>"
      ],
      "text/plain": [
       "                                                             Score\n",
       "regressor__regressor__alpha regressor__regressor__degree          \n",
       "2.5                         2                            -0.024487\n",
       "2.4                         2                            -0.024606\n",
       "2.3                         2                            -0.024732\n",
       "2.2                         2                            -0.024866\n",
       "2.1                         2                            -0.025009\n",
       "2.0                         2                            -0.025161\n",
       "1.9                         2                            -0.025325\n",
       "1.8                         2                            -0.025501\n",
       "1.7                         2                            -0.025690\n",
       "1.6                         2                            -0.025895"
      ]
     },
     "execution_count": 47,
     "metadata": {},
     "output_type": "execute_result"
    }
   ],
   "source": [
    "(\n",
    "    pandas.DataFrame(gs.cv_results_[\"params\"]).assign(Score=gs.cv_results_[\"mean_test_score\"])\n",
    "    .set_index(keys=[\"regressor__regressor__alpha\", \"regressor__regressor__degree\"])\n",
    "    .sort_values(by=\"Score\", ascending=False)\n",
    "    .head(10)\n",
    ")"
   ]
  },
  {
   "cell_type": "code",
   "execution_count": 48,
   "id": "fa6fafc2-1109-49a0-970e-3ca8bbb505d7",
   "metadata": {},
   "outputs": [
    {
     "data": {
      "text/html": [
       "<div>\n",
       "<style scoped>\n",
       "    .dataframe tbody tr th:only-of-type {\n",
       "        vertical-align: middle;\n",
       "    }\n",
       "\n",
       "    .dataframe tbody tr th {\n",
       "        vertical-align: top;\n",
       "    }\n",
       "\n",
       "    .dataframe thead tr th {\n",
       "        text-align: left;\n",
       "    }\n",
       "\n",
       "    .dataframe thead tr:last-of-type th {\n",
       "        text-align: right;\n",
       "    }\n",
       "</style>\n",
       "<table border=\"1\" class=\"dataframe\">\n",
       "  <thead>\n",
       "    <tr>\n",
       "      <th></th>\n",
       "      <th colspan=\"3\" halign=\"left\">Score</th>\n",
       "    </tr>\n",
       "    <tr>\n",
       "      <th>regressor__regressor__degree</th>\n",
       "      <th>2</th>\n",
       "      <th>3</th>\n",
       "      <th>4</th>\n",
       "    </tr>\n",
       "    <tr>\n",
       "      <th>regressor__regressor__alpha</th>\n",
       "      <th></th>\n",
       "      <th></th>\n",
       "      <th></th>\n",
       "    </tr>\n",
       "  </thead>\n",
       "  <tbody>\n",
       "    <tr>\n",
       "      <th>0.5</th>\n",
       "      <td>-0.030527</td>\n",
       "      <td>-0.050769</td>\n",
       "      <td>-0.047558</td>\n",
       "    </tr>\n",
       "    <tr>\n",
       "      <th>0.6</th>\n",
       "      <td>-0.029722</td>\n",
       "      <td>-0.050591</td>\n",
       "      <td>-0.047557</td>\n",
       "    </tr>\n",
       "    <tr>\n",
       "      <th>0.7</th>\n",
       "      <td>-0.029063</td>\n",
       "      <td>-0.050423</td>\n",
       "      <td>-0.047557</td>\n",
       "    </tr>\n",
       "    <tr>\n",
       "      <th>0.8</th>\n",
       "      <td>-0.028508</td>\n",
       "      <td>-0.050262</td>\n",
       "      <td>-0.047557</td>\n",
       "    </tr>\n",
       "    <tr>\n",
       "      <th>0.9</th>\n",
       "      <td>-0.028032</td>\n",
       "      <td>-0.050108</td>\n",
       "      <td>-0.047556</td>\n",
       "    </tr>\n",
       "    <tr>\n",
       "      <th>1.0</th>\n",
       "      <td>-0.027616</td>\n",
       "      <td>-0.049960</td>\n",
       "      <td>-0.047556</td>\n",
       "    </tr>\n",
       "    <tr>\n",
       "      <th>1.1</th>\n",
       "      <td>-0.027249</td>\n",
       "      <td>-0.049818</td>\n",
       "      <td>-0.047555</td>\n",
       "    </tr>\n",
       "    <tr>\n",
       "      <th>1.2</th>\n",
       "      <td>-0.026922</td>\n",
       "      <td>-0.049681</td>\n",
       "      <td>-0.047555</td>\n",
       "    </tr>\n",
       "    <tr>\n",
       "      <th>1.3</th>\n",
       "      <td>-0.026627</td>\n",
       "      <td>-0.049549</td>\n",
       "      <td>-0.047555</td>\n",
       "    </tr>\n",
       "    <tr>\n",
       "      <th>1.4</th>\n",
       "      <td>-0.026361</td>\n",
       "      <td>-0.049421</td>\n",
       "      <td>-0.047554</td>\n",
       "    </tr>\n",
       "    <tr>\n",
       "      <th>1.5</th>\n",
       "      <td>-0.026117</td>\n",
       "      <td>-0.049297</td>\n",
       "      <td>-0.047554</td>\n",
       "    </tr>\n",
       "    <tr>\n",
       "      <th>1.6</th>\n",
       "      <td>-0.025895</td>\n",
       "      <td>-0.049177</td>\n",
       "      <td>-0.047554</td>\n",
       "    </tr>\n",
       "    <tr>\n",
       "      <th>1.7</th>\n",
       "      <td>-0.025690</td>\n",
       "      <td>-0.049060</td>\n",
       "      <td>-0.047553</td>\n",
       "    </tr>\n",
       "    <tr>\n",
       "      <th>1.8</th>\n",
       "      <td>-0.025501</td>\n",
       "      <td>-0.048946</td>\n",
       "      <td>-0.047553</td>\n",
       "    </tr>\n",
       "    <tr>\n",
       "      <th>1.9</th>\n",
       "      <td>-0.025325</td>\n",
       "      <td>-0.048835</td>\n",
       "      <td>-0.047553</td>\n",
       "    </tr>\n",
       "    <tr>\n",
       "      <th>2.0</th>\n",
       "      <td>-0.025161</td>\n",
       "      <td>-0.048728</td>\n",
       "      <td>-0.047552</td>\n",
       "    </tr>\n",
       "    <tr>\n",
       "      <th>2.1</th>\n",
       "      <td>-0.025009</td>\n",
       "      <td>-0.048622</td>\n",
       "      <td>-0.047552</td>\n",
       "    </tr>\n",
       "    <tr>\n",
       "      <th>2.2</th>\n",
       "      <td>-0.024866</td>\n",
       "      <td>-0.048519</td>\n",
       "      <td>-0.047551</td>\n",
       "    </tr>\n",
       "    <tr>\n",
       "      <th>2.3</th>\n",
       "      <td>-0.024732</td>\n",
       "      <td>-0.048419</td>\n",
       "      <td>-0.047551</td>\n",
       "    </tr>\n",
       "    <tr>\n",
       "      <th>2.4</th>\n",
       "      <td>-0.024606</td>\n",
       "      <td>-0.048320</td>\n",
       "      <td>-0.047551</td>\n",
       "    </tr>\n",
       "    <tr>\n",
       "      <th>2.5</th>\n",
       "      <td>-0.024487</td>\n",
       "      <td>-0.048224</td>\n",
       "      <td>-0.047550</td>\n",
       "    </tr>\n",
       "  </tbody>\n",
       "</table>\n",
       "</div>"
      ],
      "text/plain": [
       "                                 Score                    \n",
       "regressor__regressor__degree         2         3         4\n",
       "regressor__regressor__alpha                               \n",
       "0.5                          -0.030527 -0.050769 -0.047558\n",
       "0.6                          -0.029722 -0.050591 -0.047557\n",
       "0.7                          -0.029063 -0.050423 -0.047557\n",
       "0.8                          -0.028508 -0.050262 -0.047557\n",
       "0.9                          -0.028032 -0.050108 -0.047556\n",
       "1.0                          -0.027616 -0.049960 -0.047556\n",
       "1.1                          -0.027249 -0.049818 -0.047555\n",
       "1.2                          -0.026922 -0.049681 -0.047555\n",
       "1.3                          -0.026627 -0.049549 -0.047555\n",
       "1.4                          -0.026361 -0.049421 -0.047554\n",
       "1.5                          -0.026117 -0.049297 -0.047554\n",
       "1.6                          -0.025895 -0.049177 -0.047554\n",
       "1.7                          -0.025690 -0.049060 -0.047553\n",
       "1.8                          -0.025501 -0.048946 -0.047553\n",
       "1.9                          -0.025325 -0.048835 -0.047553\n",
       "2.0                          -0.025161 -0.048728 -0.047552\n",
       "2.1                          -0.025009 -0.048622 -0.047552\n",
       "2.2                          -0.024866 -0.048519 -0.047551\n",
       "2.3                          -0.024732 -0.048419 -0.047551\n",
       "2.4                          -0.024606 -0.048320 -0.047551\n",
       "2.5                          -0.024487 -0.048224 -0.047550"
      ]
     },
     "execution_count": 48,
     "metadata": {},
     "output_type": "execute_result"
    }
   ],
   "source": [
    "(\n",
    "    pandas.DataFrame(gs.cv_results_[\"params\"]).assign(Score=gs.cv_results_[\"mean_test_score\"])\n",
    "    .set_index(keys=[\"regressor__regressor__alpha\", \"regressor__regressor__degree\"])\n",
    "    .unstack(1)\n",
    ")"
   ]
  },
  {
   "cell_type": "markdown",
   "id": "3e50188d-a2e8-4dc5-9bda-1d5122f102bb",
   "metadata": {},
   "source": [
    "#### Lasso - Grid Search"
   ]
  },
  {
   "cell_type": "code",
   "execution_count": 49,
   "id": "90f45663-9dc8-417a-8bf2-86c373e6990b",
   "metadata": {},
   "outputs": [
    {
     "name": "stdout",
     "output_type": "stream",
     "text": [
      "Fitting 5 folds for each of 9 candidates, totalling 45 fits\n"
     ]
    }
   ],
   "source": [
    "pipe_lasso = make_pipeline(Lasso())\n",
    "\n",
    "params = {\n",
    "    \"regressor__regressor__alpha\": numpy.logspace(-5, 3, 9, base=10),\n",
    "}\n",
    "\n",
    "gs = GridSearchCV(pipe_lasso, param_grid=params, scoring=score_function, n_jobs=4, verbose=2).fit(X_train, y_train)"
   ]
  },
  {
   "cell_type": "code",
   "execution_count": 50,
   "id": "a6ea7ca8-b706-406a-afe1-ecaa576870be",
   "metadata": {},
   "outputs": [
    {
     "data": {
      "text/plain": [
       "{'regressor__regressor__alpha': 0.01}"
      ]
     },
     "execution_count": 50,
     "metadata": {},
     "output_type": "execute_result"
    }
   ],
   "source": [
    "gs.best_params_"
   ]
  },
  {
   "cell_type": "code",
   "execution_count": 51,
   "id": "89ec6708-331b-4f6f-8899-ad8bb9cc62e5",
   "metadata": {},
   "outputs": [
    {
     "data": {
      "image/png": "[encoded data removed]",
      "text/plain": [
       "<Figure size 640x480 with 1 Axes>"
      ]
     },
     "metadata": {},
     "output_type": "display_data"
    }
   ],
   "source": [
    "f, ax = plt.subplots(1, 1)\n",
    "\n",
    "(\n",
    "    pandas.DataFrame(gs.cv_results_[\"params\"]).assign(Score=gs.cv_results_[\"mean_test_score\"])\n",
    "    .set_index(keys=[\"regressor__regressor__alpha\"])\n",
    "    .plot(ax=ax)\n",
    ")\n",
    "\n",
    "ax.set_xscale('log')"
   ]
  },
  {
   "cell_type": "markdown",
   "id": "a29e4054-1a27-4d39-8b90-574ba3a2e5f2",
   "metadata": {},
   "source": [
    "#### Support Vector Regression - Grid Search"
   ]
  },
  {
   "cell_type": "code",
   "execution_count": 52,
   "id": "62fe77ce-e063-49dd-a22a-f2ae26e8b002",
   "metadata": {},
   "outputs": [
    {
     "name": "stdout",
     "output_type": "stream",
     "text": [
      "Fitting 5 folds for each of 243 candidates, totalling 1215 fits\n"
     ]
    }
   ],
   "source": [
    "pipe_svr = make_pipeline(SVR())\n",
    "\n",
    "params = {\n",
    "    \"regressor__regressor__C\": [0.1, 1.0, 10.0],\n",
    "    \"regressor__regressor__epsilon\": numpy.logspace(-5, 3, 9, base=10),\n",
    "    \"regressor__regressor__gamma\": numpy.logspace(-5, 3, 9, base=10),\n",
    "}\n",
    "\n",
    "gs = GridSearchCV(pipe_svr, param_grid=params, scoring=score_function, n_jobs=4, verbose=2).fit(X_train, y_train)"
   ]
  },
  {
   "cell_type": "code",
   "execution_count": 53,
   "id": "27899e23-27f3-4f49-b01b-a6628d7832c5",
   "metadata": {},
   "outputs": [
    {
     "data": {
      "text/plain": [
       "{'regressor__regressor__C': 10.0,\n",
       " 'regressor__regressor__epsilon': 0.0001,\n",
       " 'regressor__regressor__gamma': 0.0001}"
      ]
     },
     "execution_count": 53,
     "metadata": {},
     "output_type": "execute_result"
    }
   ],
   "source": [
    "gs.best_params_"
   ]
  },
  {
   "cell_type": "code",
   "execution_count": 54,
   "id": "0f5c0242-0ddb-4d07-9134-997a813652cb",
   "metadata": {},
   "outputs": [
    {
     "data": {
      "text/html": [
       "<div>\n",
       "<style scoped>\n",
       "    .dataframe tbody tr th:only-of-type {\n",
       "        vertical-align: middle;\n",
       "    }\n",
       "\n",
       "    .dataframe tbody tr th {\n",
       "        vertical-align: top;\n",
       "    }\n",
       "\n",
       "    .dataframe thead th {\n",
       "        text-align: right;\n",
       "    }\n",
       "</style>\n",
       "<table border=\"1\" class=\"dataframe\">\n",
       "  <thead>\n",
       "    <tr style=\"text-align: right;\">\n",
       "      <th></th>\n",
       "      <th></th>\n",
       "      <th></th>\n",
       "      <th>Score</th>\n",
       "    </tr>\n",
       "    <tr>\n",
       "      <th>regressor__regressor__C</th>\n",
       "      <th>regressor__regressor__epsilon</th>\n",
       "      <th>regressor__regressor__gamma</th>\n",
       "      <th></th>\n",
       "    </tr>\n",
       "  </thead>\n",
       "  <tbody>\n",
       "    <tr>\n",
       "      <th rowspan=\"10\" valign=\"top\">10.0</th>\n",
       "      <th>0.00010</th>\n",
       "      <th>0.0001</th>\n",
       "      <td>-0.019385</td>\n",
       "    </tr>\n",
       "    <tr>\n",
       "      <th>0.00001</th>\n",
       "      <th>0.0001</th>\n",
       "      <td>-0.019385</td>\n",
       "    </tr>\n",
       "    <tr>\n",
       "      <th>0.00100</th>\n",
       "      <th>0.0001</th>\n",
       "      <td>-0.019390</td>\n",
       "    </tr>\n",
       "    <tr>\n",
       "      <th>0.01000</th>\n",
       "      <th>0.0001</th>\n",
       "      <td>-0.019417</td>\n",
       "    </tr>\n",
       "    <tr>\n",
       "      <th>0.10000</th>\n",
       "      <th>0.0001</th>\n",
       "      <td>-0.019701</td>\n",
       "    </tr>\n",
       "    <tr>\n",
       "      <th>0.01000</th>\n",
       "      <th>0.0010</th>\n",
       "      <td>-0.022895</td>\n",
       "    </tr>\n",
       "    <tr>\n",
       "      <th>0.00100</th>\n",
       "      <th>0.0010</th>\n",
       "      <td>-0.022914</td>\n",
       "    </tr>\n",
       "    <tr>\n",
       "      <th>0.00010</th>\n",
       "      <th>0.0010</th>\n",
       "      <td>-0.022917</td>\n",
       "    </tr>\n",
       "    <tr>\n",
       "      <th>0.00001</th>\n",
       "      <th>0.0010</th>\n",
       "      <td>-0.022918</td>\n",
       "    </tr>\n",
       "    <tr>\n",
       "      <th>0.10000</th>\n",
       "      <th>0.0010</th>\n",
       "      <td>-0.023343</td>\n",
       "    </tr>\n",
       "  </tbody>\n",
       "</table>\n",
       "</div>"
      ],
      "text/plain": [
       "                                                                                      Score\n",
       "regressor__regressor__C regressor__regressor__epsilon regressor__regressor__gamma          \n",
       "10.0                    0.00010                       0.0001                      -0.019385\n",
       "                        0.00001                       0.0001                      -0.019385\n",
       "                        0.00100                       0.0001                      -0.019390\n",
       "                        0.01000                       0.0001                      -0.019417\n",
       "                        0.10000                       0.0001                      -0.019701\n",
       "                        0.01000                       0.0010                      -0.022895\n",
       "                        0.00100                       0.0010                      -0.022914\n",
       "                        0.00010                       0.0010                      -0.022917\n",
       "                        0.00001                       0.0010                      -0.022918\n",
       "                        0.10000                       0.0010                      -0.023343"
      ]
     },
     "execution_count": 54,
     "metadata": {},
     "output_type": "execute_result"
    }
   ],
   "source": [
    "(\n",
    "    pandas.DataFrame(gs.cv_results_[\"params\"]).assign(Score=gs.cv_results_[\"mean_test_score\"])\n",
    "    .set_index(keys=[\"regressor__regressor__C\", \"regressor__regressor__epsilon\", \"regressor__regressor__gamma\"])\n",
    "    .sort_values(by=\"Score\", ascending=False)\n",
    "    .head(10)\n",
    ")"
   ]
  },
  {
   "cell_type": "markdown",
   "id": "35f0dd49-e745-48bf-b438-2913515d313c",
   "metadata": {},
   "source": [
    "### Compare Models"
   ]
  },
  {
   "cell_type": "code",
   "execution_count": 55,
   "id": "19d3b113-0d38-4338-87d6-56569ae71ad1",
   "metadata": {},
   "outputs": [],
   "source": [
    "models = {\n",
    "    \"GradientBoostingRegressor\": GradientBoostingRegressor(\n",
    "        n_estimators=2048,\n",
    "        learning_rate=0.05,\n",
    "        max_depth=4,\n",
    "        max_features='sqrt',\n",
    "        min_samples_leaf=2,\n",
    "        min_samples_split=32, \n",
    "        loss='huber'),\n",
    "    \"ElasticNet\": ElasticNet(alpha=0.004, l1_ratio=0.95),\n",
    "    \"KernelRidge\": KernelRidge(kernel=\"polynomial\", coef0=0, degree=2, alpha=2.5),\n",
    "    \"Lasso\": Lasso(alpha=0.01),\n",
    "    \"SVR\": SVR(C=10, epsilon=0.0001, gamma=0.001)\n",
    "}"
   ]
  },
  {
   "cell_type": "code",
   "execution_count": 56,
   "id": "509eb86d-93c1-4116-9bcf-62e96609b07b",
   "metadata": {},
   "outputs": [],
   "source": [
    "out = {}\n",
    "\n",
    "for model_name, model in models.items():\n",
    "    pipe = make_pipeline(model)\n",
    "    scores = numpy.sqrt(-cross_val_score(pipe, X_train, y_train, cv=5, scoring=score_function))\n",
    "\n",
    "    out[model_name] = {\"mean\": numpy.mean(scores), \"std\": numpy.std(scores)}"
   ]
  },
  {
   "cell_type": "code",
   "execution_count": 57,
   "id": "ac3aee59-ba3c-45e0-827f-a3ae9edaddfc",
   "metadata": {},
   "outputs": [
    {
     "data": {
      "text/html": [
       "<div>\n",
       "<style scoped>\n",
       "    .dataframe tbody tr th:only-of-type {\n",
       "        vertical-align: middle;\n",
       "    }\n",
       "\n",
       "    .dataframe tbody tr th {\n",
       "        vertical-align: top;\n",
       "    }\n",
       "\n",
       "    .dataframe thead th {\n",
       "        text-align: right;\n",
       "    }\n",
       "</style>\n",
       "<table border=\"1\" class=\"dataframe\">\n",
       "  <thead>\n",
       "    <tr style=\"text-align: right;\">\n",
       "      <th></th>\n",
       "      <th>mean</th>\n",
       "      <th>std</th>\n",
       "    </tr>\n",
       "  </thead>\n",
       "  <tbody>\n",
       "    <tr>\n",
       "      <th>GradientBoostingRegressor</th>\n",
       "      <td>0.121160</td>\n",
       "      <td>0.017323</td>\n",
       "    </tr>\n",
       "    <tr>\n",
       "      <th>ElasticNet</th>\n",
       "      <td>0.134526</td>\n",
       "      <td>0.030916</td>\n",
       "    </tr>\n",
       "    <tr>\n",
       "      <th>Lasso</th>\n",
       "      <td>0.135674</td>\n",
       "      <td>0.028831</td>\n",
       "    </tr>\n",
       "    <tr>\n",
       "      <th>SVR</th>\n",
       "      <td>0.150913</td>\n",
       "      <td>0.011939</td>\n",
       "    </tr>\n",
       "    <tr>\n",
       "      <th>KernelRidge</th>\n",
       "      <td>0.152252</td>\n",
       "      <td>0.036143</td>\n",
       "    </tr>\n",
       "  </tbody>\n",
       "</table>\n",
       "</div>"
      ],
      "text/plain": [
       "                               mean       std\n",
       "GradientBoostingRegressor  0.121160  0.017323\n",
       "ElasticNet                 0.134526  0.030916\n",
       "Lasso                      0.135674  0.028831\n",
       "SVR                        0.150913  0.011939\n",
       "KernelRidge                0.152252  0.036143"
      ]
     },
     "execution_count": 57,
     "metadata": {},
     "output_type": "execute_result"
    }
   ],
   "source": [
    "pandas.DataFrame.from_dict(out, orient=\"index\").sort_values(by=\"mean\")"
   ]
  },
  {
   "cell_type": "markdown",
   "id": "cbc2b966-c1a5-4b7b-9e03-60728d2eb756",
   "metadata": {},
   "source": [
    "### Model stacking\n",
    "\n",
    "Let's stack the models to combine predictions"
   ]
  },
  {
   "cell_type": "code",
   "execution_count": 97,
   "id": "cf0c37f1-2281-49c2-9ede-eb31cc995ae3",
   "metadata": {},
   "outputs": [],
   "source": [
    "stacked_regressor_estimator = StackingRegressor(\n",
    "    estimators=[(name, model) for name, model in models.items()],\n",
    "    final_estimator=ElasticNet(alpha=0.004, l1_ratio=0.95),\n",
    "    passthrough=True,\n",
    "    cv=5\n",
    ")"
   ]
  },
  {
   "cell_type": "code",
   "execution_count": 98,
   "id": "4cf60c74-6844-4f94-b0b5-ca755c48a1cb",
   "metadata": {},
   "outputs": [],
   "source": [
    "pipe = make_pipeline(stacked_regressor_estimator)"
   ]
  },
  {
   "cell_type": "code",
   "execution_count": 99,
   "id": "eae5f403-64c2-4fe5-92bf-f48619ef1b7f",
   "metadata": {},
   "outputs": [
    {
     "data": {
      "text/html": [
       "<style>#sk-container-id-5 {color: black;}#sk-container-id-5 pre{padding: 0;}#sk-container-id-5 div.sk-toggleable {background-color: white;}#sk-container-id-5 label.sk-toggleable__label {cursor: pointer;display: block;width: 100%;margin-bottom: 0;padding: 0.3em;box-sizing: border-box;text-align: center;}#sk-container-id-5 label.sk-toggleable__label-arrow:before {content: \"▸\";float: left;margin-right: 0.25em;color: #696969;}#sk-container-id-5 label.sk-toggleable__label-arrow:hover:before {color: black;}#sk-container-id-5 div.sk-estimator:hover label.sk-toggleable__label-arrow:before {color: black;}#sk-container-id-5 div.sk-toggleable__content {max-height: 0;max-width: 0;overflow: hidden;text-align: left;background-color: #f0f8ff;}#sk-container-id-5 div.sk-toggleable__content pre {margin: 0.2em;color: black;border-radius: 0.25em;background-color: #f0f8ff;}#sk-container-id-5 input.sk-toggleable__control:checked~div.sk-toggleable__content {max-height: 200px;max-width: 100%;overflow: auto;}#sk-container-id-5 input.sk-toggleable__control:checked~label.sk-toggleable__label-arrow:before {content: \"▾\";}#sk-container-id-5 div.sk-estimator input.sk-toggleable__control:checked~label.sk-toggleable__label {background-color: #d4ebff;}#sk-container-id-5 div.sk-label input.sk-toggleable__control:checked~label.sk-toggleable__label {background-color: #d4ebff;}#sk-container-id-5 input.sk-hidden--visually {border: 0;clip: rect(1px 1px 1px 1px);clip: rect(1px, 1px, 1px, 1px);height: 1px;margin: -1px;overflow: hidden;padding: 0;position: absolute;width: 1px;}#sk-container-id-5 div.sk-estimator {font-family: monospace;background-color: #f0f8ff;border: 1px dotted black;border-radius: 0.25em;box-sizing: border-box;margin-bottom: 0.5em;}#sk-container-id-5 div.sk-estimator:hover {background-color: #d4ebff;}#sk-container-id-5 div.sk-parallel-item::after {content: \"\";width: 100%;border-bottom: 1px solid gray;flex-grow: 1;}#sk-container-id-5 div.sk-label:hover label.sk-toggleable__label {background-color: #d4ebff;}#sk-container-id-5 div.sk-serial::before {content: \"\";position: absolute;border-left: 1px solid gray;box-sizing: border-box;top: 0;bottom: 0;left: 50%;z-index: 0;}#sk-container-id-5 div.sk-serial {display: flex;flex-direction: column;align-items: center;background-color: white;padding-right: 0.2em;padding-left: 0.2em;position: relative;}#sk-container-id-5 div.sk-item {position: relative;z-index: 1;}#sk-container-id-5 div.sk-parallel {display: flex;align-items: stretch;justify-content: center;background-color: white;position: relative;}#sk-container-id-5 div.sk-item::before, #sk-container-id-5 div.sk-parallel-item::before {content: \"\";position: absolute;border-left: 1px solid gray;box-sizing: border-box;top: 0;bottom: 0;left: 50%;z-index: -1;}#sk-container-id-5 div.sk-parallel-item {display: flex;flex-direction: column;z-index: 1;position: relative;background-color: white;}#sk-container-id-5 div.sk-parallel-item:first-child::after {align-self: flex-end;width: 50%;}#sk-container-id-5 div.sk-parallel-item:last-child::after {align-self: flex-start;width: 50%;}#sk-container-id-5 div.sk-parallel-item:only-child::after {width: 0;}#sk-container-id-5 div.sk-dashed-wrapped {border: 1px dashed gray;margin: 0 0.4em 0.5em 0.4em;box-sizing: border-box;padding-bottom: 0.4em;background-color: white;}#sk-container-id-5 div.sk-label label {font-family: monospace;font-weight: bold;display: inline-block;line-height: 1.2em;}#sk-container-id-5 div.sk-label-container {text-align: center;}#sk-container-id-5 div.sk-container {/* jupyter's `normalize.less` sets `[hidden] { display: none; }` but bootstrap.min.css set `[hidden] { display: none !important; }` so we also need the `!important` here to be able to override the default hidden behavior on the sphinx rendered scikit-learn.org. See: https://github.com/scikit-learn/scikit-learn/issues/21755 */display: inline-block !important;position: relative;}#sk-container-id-5 div.sk-text-repr-fallback {display: none;}</style><div id=\"sk-container-id-5\" class=\"sk-top-container\"><div class=\"sk-text-repr-fallback\"><pre>Pipeline(steps=[(&#x27;add_boolean_features&#x27;,\n",
       "                 FunctionTransformer(feature_names_out=&lt;function add_boolean_feature_names at 0x00000214E1C03240&gt;,\n",
       "                                     func=&lt;function add_boolean_features at 0x00000214E1C02DE0&gt;)),\n",
       "                (&#x27;add_total_features&#x27;,\n",
       "                 FunctionTransformer(feature_names_out=&lt;function add_total_sf_feature_names at 0x00000214E1C66980&gt;,\n",
       "                                     func=&lt;function add_total_sf_features at 0x00...\n",
       "                                                                                                               min_samples_split=32,\n",
       "                                                                                                               n_estimators=2048)),\n",
       "                                                                                    (&#x27;ElasticNet&#x27;,\n",
       "                                                                                     ElasticNet(alpha=0.004,\n",
       "                                                                                                l1_ratio=0.95)),\n",
       "                                                                                    (&#x27;KernelRidge&#x27;,\n",
       "                                                                                     KernelRidge(alpha=2.5,\n",
       "                                                                                                 coef0=0,\n",
       "                                                                                                 degree=2,\n",
       "                                                                                                 kernel=&#x27;polynomial&#x27;)),\n",
       "                                                                                    (&#x27;Lasso&#x27;,\n",
       "                                                                                     Lasso(alpha=0.01)),\n",
       "                                                                                    (&#x27;SVR&#x27;,\n",
       "                                                                                     SVR(C=10,\n",
       "                                                                                         epsilon=0.0001,\n",
       "                                                                                         gamma=0.001))],\n",
       "                                                                        final_estimator=ElasticNet(alpha=0.004,\n",
       "                                                                                                   l1_ratio=0.95),\n",
       "                                                                        passthrough=True),\n",
       "                                            transformer=PowerTransformer()))])</pre><b>In a Jupyter environment, please rerun this cell to show the HTML representation or trust the notebook. <br />On GitHub, the HTML representation is unable to render, please try loading this page with nbviewer.org.</b></div><div class=\"sk-container\" hidden><div class=\"sk-item sk-dashed-wrapped\"><div class=\"sk-label-container\"><div class=\"sk-label sk-toggleable\"><input class=\"sk-toggleable__control sk-hidden--visually\" id=\"sk-estimator-id-111\" type=\"checkbox\" ><label for=\"sk-estimator-id-111\" class=\"sk-toggleable__label sk-toggleable__label-arrow\">Pipeline</label><div class=\"sk-toggleable__content\"><pre>Pipeline(steps=[(&#x27;add_boolean_features&#x27;,\n",
       "                 FunctionTransformer(feature_names_out=&lt;function add_boolean_feature_names at 0x00000214E1C03240&gt;,\n",
       "                                     func=&lt;function add_boolean_features at 0x00000214E1C02DE0&gt;)),\n",
       "                (&#x27;add_total_features&#x27;,\n",
       "                 FunctionTransformer(feature_names_out=&lt;function add_total_sf_feature_names at 0x00000214E1C66980&gt;,\n",
       "                                     func=&lt;function add_total_sf_features at 0x00...\n",
       "                                                                                                               min_samples_split=32,\n",
       "                                                                                                               n_estimators=2048)),\n",
       "                                                                                    (&#x27;ElasticNet&#x27;,\n",
       "                                                                                     ElasticNet(alpha=0.004,\n",
       "                                                                                                l1_ratio=0.95)),\n",
       "                                                                                    (&#x27;KernelRidge&#x27;,\n",
       "                                                                                     KernelRidge(alpha=2.5,\n",
       "                                                                                                 coef0=0,\n",
       "                                                                                                 degree=2,\n",
       "                                                                                                 kernel=&#x27;polynomial&#x27;)),\n",
       "                                                                                    (&#x27;Lasso&#x27;,\n",
       "                                                                                     Lasso(alpha=0.01)),\n",
       "                                                                                    (&#x27;SVR&#x27;,\n",
       "                                                                                     SVR(C=10,\n",
       "                                                                                         epsilon=0.0001,\n",
       "                                                                                         gamma=0.001))],\n",
       "                                                                        final_estimator=ElasticNet(alpha=0.004,\n",
       "                                                                                                   l1_ratio=0.95),\n",
       "                                                                        passthrough=True),\n",
       "                                            transformer=PowerTransformer()))])</pre></div></div></div><div class=\"sk-serial\"><div class=\"sk-item\"><div class=\"sk-estimator sk-toggleable\"><input class=\"sk-toggleable__control sk-hidden--visually\" id=\"sk-estimator-id-112\" type=\"checkbox\" ><label for=\"sk-estimator-id-112\" class=\"sk-toggleable__label sk-toggleable__label-arrow\">FunctionTransformer</label><div class=\"sk-toggleable__content\"><pre>FunctionTransformer(feature_names_out=&lt;function add_boolean_feature_names at 0x00000214E1C03240&gt;,\n",
       "                    func=&lt;function add_boolean_features at 0x00000214E1C02DE0&gt;)</pre></div></div></div><div class=\"sk-item\"><div class=\"sk-estimator sk-toggleable\"><input class=\"sk-toggleable__control sk-hidden--visually\" id=\"sk-estimator-id-113\" type=\"checkbox\" ><label for=\"sk-estimator-id-113\" class=\"sk-toggleable__label sk-toggleable__label-arrow\">FunctionTransformer</label><div class=\"sk-toggleable__content\"><pre>FunctionTransformer(feature_names_out=&lt;function add_total_sf_feature_names at 0x00000214E1C66980&gt;,\n",
       "                    func=&lt;function add_total_sf_features at 0x00000214E1C656C0&gt;)</pre></div></div></div><div class=\"sk-item\"><div class=\"sk-estimator sk-toggleable\"><input class=\"sk-toggleable__control sk-hidden--visually\" id=\"sk-estimator-id-114\" type=\"checkbox\" ><label for=\"sk-estimator-id-114\" class=\"sk-toggleable__label sk-toggleable__label-arrow\">FunctionTransformer</label><div class=\"sk-toggleable__content\"><pre>FunctionTransformer(feature_names_out=&lt;function add_neighborhood_feature_names at 0x00000214E1C66C00&gt;,\n",
       "                    func=&lt;function add_neighborhood_features at 0x00000214E1C66D40&gt;)</pre></div></div></div><div class=\"sk-item sk-dashed-wrapped\"><div class=\"sk-label-container\"><div class=\"sk-label sk-toggleable\"><input class=\"sk-toggleable__control sk-hidden--visually\" id=\"sk-estimator-id-115\" type=\"checkbox\" ><label for=\"sk-estimator-id-115\" class=\"sk-toggleable__label sk-toggleable__label-arrow\">preprocess_features: ColumnTransformer</label><div class=\"sk-toggleable__content\"><pre>ColumnTransformer(transformers=[(&#x27;ordinal_categoricals_with_category_imputed&#x27;,\n",
       "                                 Pipeline(steps=[(&#x27;impute_missing_categoricals&#x27;,\n",
       "                                                  SimpleImputer(fill_value=&#x27;None&#x27;,\n",
       "                                                                strategy=&#x27;constant&#x27;)),\n",
       "                                                 (&#x27;encode_ordinal_values&#x27;,\n",
       "                                                  OrdinalEncoder(handle_unknown=&#x27;use_encoded_value&#x27;,\n",
       "                                                                 unknown_value=-1))]),\n",
       "                                 [&#x27;PoolQC&#x27;, &#x27;MiscFeature&#x27;, &#x27;Alley&#x27;, &#x27;Fence&#x27;,\n",
       "                                  &#x27;FireplaceQu&#x27;, &#x27;GarageType&#x27;, &#x27;GarageF...\n",
       "                                                  SimpleImputer(fill_value=0,\n",
       "                                                                strategy=&#x27;constant&#x27;)),\n",
       "                                                 (&#x27;power_transform&#x27;,\n",
       "                                                  PowerTransformer())]),\n",
       "                                 [&#x27;MiscVal&#x27;, &#x27;PoolArea&#x27;, &#x27;LotArea&#x27;,\n",
       "                                  &#x27;LowQualFinSF&#x27;, &#x27;3SsnPorch&#x27;, &#x27;BsmtFinSF1&#x27;,\n",
       "                                  &#x27;BsmtFinSF2&#x27;, &#x27;BsmtUnfSF&#x27;, &#x27;TotalBsmtSF&#x27;,\n",
       "                                  &#x27;EnclosedPorch&#x27;, &#x27;ScreenPorch&#x27;, &#x27;MasVnrArea&#x27;,\n",
       "                                  &#x27;1stFlrSF&#x27;, &#x27;2ndFlrSF&#x27;, &#x27;GrLivArea&#x27;,\n",
       "                                  &#x27;OpenPorchSF&#x27;, &#x27;WoodDeckSF&#x27;, &#x27;LotFrontage&#x27;,\n",
       "                                  &#x27;GarageArea&#x27;, &#x27;TotalSF&#x27;, &#x27;TotalPorchSF&#x27;])])</pre></div></div></div><div class=\"sk-parallel\"><div class=\"sk-parallel-item\"><div class=\"sk-item\"><div class=\"sk-label-container\"><div class=\"sk-label sk-toggleable\"><input class=\"sk-toggleable__control sk-hidden--visually\" id=\"sk-estimator-id-116\" type=\"checkbox\" ><label for=\"sk-estimator-id-116\" class=\"sk-toggleable__label sk-toggleable__label-arrow\">ordinal_categoricals_with_category_imputed</label><div class=\"sk-toggleable__content\"><pre>[&#x27;PoolQC&#x27;, &#x27;MiscFeature&#x27;, &#x27;Alley&#x27;, &#x27;Fence&#x27;, &#x27;FireplaceQu&#x27;, &#x27;GarageType&#x27;, &#x27;GarageFinish&#x27;, &#x27;GarageCond&#x27;, &#x27;BsmtCond&#x27;, &#x27;BsmtExposure&#x27;, &#x27;BsmtFinType1&#x27;, &#x27;BsmtFinType2&#x27;, &#x27;MasVnrType&#x27;, &#x27;MSSubClass&#x27;, &#x27;Functional&#x27;, &#x27;CentralAir&#x27;, &#x27;ExterCond&#x27;, &#x27;HeatingQC&#x27;, &#x27;LandSlope&#x27;, &#x27;LotShape&#x27;, &#x27;OverallCond&#x27;, &#x27;PavedDrive&#x27;, &#x27;Street&#x27;, &#x27;KitchenAbvGr&#x27;, &#x27;Foundation&#x27;, &#x27;SaleCondition&#x27;, &#x27;RoofStyle&#x27;, &#x27;HouseStyle&#x27;, &#x27;Neighborhood&#x27;, &#x27;RoofMatl&#x27;, &#x27;LotConfig&#x27;, &#x27;Condition1&#x27;, &#x27;Condition2&#x27;, &#x27;BldgType&#x27;, &#x27;LandContour&#x27;, &#x27;NeighborhoodQual&#x27;]</pre></div></div></div><div class=\"sk-serial\"><div class=\"sk-item\"><div class=\"sk-serial\"><div class=\"sk-item\"><div class=\"sk-estimator sk-toggleable\"><input class=\"sk-toggleable__control sk-hidden--visually\" id=\"sk-estimator-id-117\" type=\"checkbox\" ><label for=\"sk-estimator-id-117\" class=\"sk-toggleable__label sk-toggleable__label-arrow\">SimpleImputer</label><div class=\"sk-toggleable__content\"><pre>SimpleImputer(fill_value=&#x27;None&#x27;, strategy=&#x27;constant&#x27;)</pre></div></div></div><div class=\"sk-item\"><div class=\"sk-estimator sk-toggleable\"><input class=\"sk-toggleable__control sk-hidden--visually\" id=\"sk-estimator-id-118\" type=\"checkbox\" ><label for=\"sk-estimator-id-118\" class=\"sk-toggleable__label sk-toggleable__label-arrow\">OrdinalEncoder</label><div class=\"sk-toggleable__content\"><pre>OrdinalEncoder(handle_unknown=&#x27;use_encoded_value&#x27;, unknown_value=-1)</pre></div></div></div></div></div></div></div></div><div class=\"sk-parallel-item\"><div class=\"sk-item\"><div class=\"sk-label-container\"><div class=\"sk-label sk-toggleable\"><input class=\"sk-toggleable__control sk-hidden--visually\" id=\"sk-estimator-id-119\" type=\"checkbox\" ><label for=\"sk-estimator-id-119\" class=\"sk-toggleable__label sk-toggleable__label-arrow\">ordinal_categoricals_with_mode_imputed</label><div class=\"sk-toggleable__content\"><pre>[&#x27;MSZoning&#x27;, &#x27;Utilities&#x27;, &#x27;Electrical&#x27;, &#x27;Heating&#x27;, &#x27;KitchenQual&#x27;, &#x27;GarageQual&#x27;, &#x27;BsmtQual&#x27;, &#x27;ExterQual&#x27;, &#x27;Exterior1st&#x27;, &#x27;Exterior2nd&#x27;, &#x27;SaleType&#x27;]</pre></div></div></div><div class=\"sk-serial\"><div class=\"sk-item\"><div class=\"sk-serial\"><div class=\"sk-item\"><div class=\"sk-estimator sk-toggleable\"><input class=\"sk-toggleable__control sk-hidden--visually\" id=\"sk-estimator-id-120\" type=\"checkbox\" ><label for=\"sk-estimator-id-120\" class=\"sk-toggleable__label sk-toggleable__label-arrow\">SimpleImputer</label><div class=\"sk-toggleable__content\"><pre>SimpleImputer(strategy=&#x27;most_frequent&#x27;)</pre></div></div></div><div class=\"sk-item\"><div class=\"sk-estimator sk-toggleable\"><input class=\"sk-toggleable__control sk-hidden--visually\" id=\"sk-estimator-id-121\" type=\"checkbox\" ><label for=\"sk-estimator-id-121\" class=\"sk-toggleable__label sk-toggleable__label-arrow\">OrdinalEncoder</label><div class=\"sk-toggleable__content\"><pre>OrdinalEncoder(handle_unknown=&#x27;use_encoded_value&#x27;, unknown_value=-1)</pre></div></div></div></div></div></div></div></div><div class=\"sk-parallel-item\"><div class=\"sk-item\"><div class=\"sk-label-container\"><div class=\"sk-label sk-toggleable\"><input class=\"sk-toggleable__control sk-hidden--visually\" id=\"sk-estimator-id-122\" type=\"checkbox\" ><label for=\"sk-estimator-id-122\" class=\"sk-toggleable__label sk-toggleable__label-arrow\">numericals_as_ordinals</label><div class=\"sk-toggleable__content\"><pre>[&#x27;GarageCars&#x27;, &#x27;BsmtFullBath&#x27;, &#x27;BsmtHalfBath&#x27;, &#x27;BedroomAbvGr&#x27;, &#x27;Fireplaces&#x27;, &#x27;FullBath&#x27;, &#x27;HalfBath&#x27;, &#x27;OverallQual&#x27;, &#x27;TotRmsAbvGrd&#x27;, &#x27;TotalBathrooms&#x27;, &#x27;HasPool&#x27;, &#x27;Has2ndFloor&#x27;, &#x27;HasGarage&#x27;, &#x27;HasBasement&#x27;, &#x27;HasFireplace&#x27;, &#x27;HasBeenRemodelled&#x27;]</pre></div></div></div><div class=\"sk-serial\"><div class=\"sk-item\"><div class=\"sk-serial\"><div class=\"sk-item\"><div class=\"sk-estimator sk-toggleable\"><input class=\"sk-toggleable__control sk-hidden--visually\" id=\"sk-estimator-id-123\" type=\"checkbox\" ><label for=\"sk-estimator-id-123\" class=\"sk-toggleable__label sk-toggleable__label-arrow\">SimpleImputer</label><div class=\"sk-toggleable__content\"><pre>SimpleImputer(fill_value=0, strategy=&#x27;constant&#x27;)</pre></div></div></div><div class=\"sk-item\"><div class=\"sk-estimator sk-toggleable\"><input class=\"sk-toggleable__control sk-hidden--visually\" id=\"sk-estimator-id-124\" type=\"checkbox\" ><label for=\"sk-estimator-id-124\" class=\"sk-toggleable__label sk-toggleable__label-arrow\">OrdinalEncoder</label><div class=\"sk-toggleable__content\"><pre>OrdinalEncoder(handle_unknown=&#x27;use_encoded_value&#x27;, unknown_value=-1)</pre></div></div></div></div></div></div></div></div><div class=\"sk-parallel-item\"><div class=\"sk-item\"><div class=\"sk-label-container\"><div class=\"sk-label sk-toggleable\"><input class=\"sk-toggleable__control sk-hidden--visually\" id=\"sk-estimator-id-125\" type=\"checkbox\" ><label for=\"sk-estimator-id-125\" class=\"sk-toggleable__label sk-toggleable__label-arrow\">date_transformations</label><div class=\"sk-toggleable__content\"><pre>[&#x27;YrSold&#x27;, &#x27;MoSold&#x27;, &#x27;YearBuilt&#x27;, &#x27;YearRemodAdd&#x27;, &#x27;GarageYrBlt&#x27;, &#x27;BuildingAge&#x27;]</pre></div></div></div><div class=\"sk-serial\"><div class=\"sk-item\"><div class=\"sk-serial\"><div class=\"sk-item\"><div class=\"sk-estimator sk-toggleable\"><input class=\"sk-toggleable__control sk-hidden--visually\" id=\"sk-estimator-id-126\" type=\"checkbox\" ><label for=\"sk-estimator-id-126\" class=\"sk-toggleable__label sk-toggleable__label-arrow\">SimpleImputer</label><div class=\"sk-toggleable__content\"><pre>SimpleImputer(fill_value=-1, strategy=&#x27;constant&#x27;)</pre></div></div></div><div class=\"sk-item\"><div class=\"sk-estimator sk-toggleable\"><input class=\"sk-toggleable__control sk-hidden--visually\" id=\"sk-estimator-id-127\" type=\"checkbox\" ><label for=\"sk-estimator-id-127\" class=\"sk-toggleable__label sk-toggleable__label-arrow\">OrdinalEncoder</label><div class=\"sk-toggleable__content\"><pre>OrdinalEncoder(handle_unknown=&#x27;use_encoded_value&#x27;, unknown_value=-1)</pre></div></div></div></div></div></div></div></div><div class=\"sk-parallel-item\"><div class=\"sk-item\"><div class=\"sk-label-container\"><div class=\"sk-label sk-toggleable\"><input class=\"sk-toggleable__control sk-hidden--visually\" id=\"sk-estimator-id-128\" type=\"checkbox\" ><label for=\"sk-estimator-id-128\" class=\"sk-toggleable__label sk-toggleable__label-arrow\">non_normal_continuous_variables</label><div class=\"sk-toggleable__content\"><pre>[&#x27;MiscVal&#x27;, &#x27;PoolArea&#x27;, &#x27;LotArea&#x27;, &#x27;LowQualFinSF&#x27;, &#x27;3SsnPorch&#x27;, &#x27;BsmtFinSF1&#x27;, &#x27;BsmtFinSF2&#x27;, &#x27;BsmtUnfSF&#x27;, &#x27;TotalBsmtSF&#x27;, &#x27;EnclosedPorch&#x27;, &#x27;ScreenPorch&#x27;, &#x27;MasVnrArea&#x27;, &#x27;1stFlrSF&#x27;, &#x27;2ndFlrSF&#x27;, &#x27;GrLivArea&#x27;, &#x27;OpenPorchSF&#x27;, &#x27;WoodDeckSF&#x27;, &#x27;LotFrontage&#x27;, &#x27;GarageArea&#x27;, &#x27;TotalSF&#x27;, &#x27;TotalPorchSF&#x27;]</pre></div></div></div><div class=\"sk-serial\"><div class=\"sk-item\"><div class=\"sk-serial\"><div class=\"sk-item\"><div class=\"sk-estimator sk-toggleable\"><input class=\"sk-toggleable__control sk-hidden--visually\" id=\"sk-estimator-id-129\" type=\"checkbox\" ><label for=\"sk-estimator-id-129\" class=\"sk-toggleable__label sk-toggleable__label-arrow\">SimpleImputer</label><div class=\"sk-toggleable__content\"><pre>SimpleImputer(fill_value=0, strategy=&#x27;constant&#x27;)</pre></div></div></div><div class=\"sk-item\"><div class=\"sk-estimator sk-toggleable\"><input class=\"sk-toggleable__control sk-hidden--visually\" id=\"sk-estimator-id-130\" type=\"checkbox\" ><label for=\"sk-estimator-id-130\" class=\"sk-toggleable__label sk-toggleable__label-arrow\">PowerTransformer</label><div class=\"sk-toggleable__content\"><pre>PowerTransformer()</pre></div></div></div></div></div></div></div></div></div></div><div class=\"sk-item sk-dashed-wrapped\"><div class=\"sk-label-container\"><div class=\"sk-label sk-toggleable\"><input class=\"sk-toggleable__control sk-hidden--visually\" id=\"sk-estimator-id-131\" type=\"checkbox\" ><label for=\"sk-estimator-id-131\" class=\"sk-toggleable__label sk-toggleable__label-arrow\">regressor: TransformedTargetRegressor</label><div class=\"sk-toggleable__content\"><pre>TransformedTargetRegressor(regressor=StackingRegressor(cv=5,\n",
       "                                                       estimators=[(&#x27;GradientBoostingRegressor&#x27;,\n",
       "                                                                    GradientBoostingRegressor(learning_rate=0.05,\n",
       "                                                                                              loss=&#x27;huber&#x27;,\n",
       "                                                                                              max_depth=4,\n",
       "                                                                                              max_features=&#x27;sqrt&#x27;,\n",
       "                                                                                              min_samples_leaf=2,\n",
       "                                                                                              min_samples_split=32,\n",
       "                                                                                              n_estimators=2048)),\n",
       "                                                                   (&#x27;ElasticNet&#x27;,\n",
       "                                                                    ElasticNet(alpha=0.004,\n",
       "                                                                               l1_ratio=0.95)),\n",
       "                                                                   (&#x27;KernelRidge&#x27;,\n",
       "                                                                    KernelRidge(alpha=2.5,\n",
       "                                                                                coef0=0,\n",
       "                                                                                degree=2,\n",
       "                                                                                kernel=&#x27;polynomial&#x27;)),\n",
       "                                                                   (&#x27;Lasso&#x27;,\n",
       "                                                                    Lasso(alpha=0.01)),\n",
       "                                                                   (&#x27;SVR&#x27;,\n",
       "                                                                    SVR(C=10,\n",
       "                                                                        epsilon=0.0001,\n",
       "                                                                        gamma=0.001))],\n",
       "                                                       final_estimator=ElasticNet(alpha=0.004,\n",
       "                                                                                  l1_ratio=0.95),\n",
       "                                                       passthrough=True),\n",
       "                           transformer=PowerTransformer())</pre></div></div></div><div class=\"sk-parallel\"><div class=\"sk-parallel-item\"><div class=\"sk-item\"><div class=\"sk-label-container\"><div class=\"sk-label sk-toggleable\"><input class=\"sk-toggleable__control sk-hidden--visually\" id=\"sk-estimator-id-132\" type=\"checkbox\" ><label for=\"sk-estimator-id-132\" class=\"sk-toggleable__label sk-toggleable__label-arrow\">regressor: StackingRegressor</label><div class=\"sk-toggleable__content\"><pre>StackingRegressor(cv=5,\n",
       "                  estimators=[(&#x27;GradientBoostingRegressor&#x27;,\n",
       "                               GradientBoostingRegressor(learning_rate=0.05,\n",
       "                                                         loss=&#x27;huber&#x27;,\n",
       "                                                         max_depth=4,\n",
       "                                                         max_features=&#x27;sqrt&#x27;,\n",
       "                                                         min_samples_leaf=2,\n",
       "                                                         min_samples_split=32,\n",
       "                                                         n_estimators=2048)),\n",
       "                              (&#x27;ElasticNet&#x27;,\n",
       "                               ElasticNet(alpha=0.004, l1_ratio=0.95)),\n",
       "                              (&#x27;KernelRidge&#x27;,\n",
       "                               KernelRidge(alpha=2.5, coef0=0, degree=2,\n",
       "                                           kernel=&#x27;polynomial&#x27;)),\n",
       "                              (&#x27;Lasso&#x27;, Lasso(alpha=0.01)),\n",
       "                              (&#x27;SVR&#x27;, SVR(C=10, epsilon=0.0001, gamma=0.001))],\n",
       "                  final_estimator=ElasticNet(alpha=0.004, l1_ratio=0.95),\n",
       "                  passthrough=True)</pre></div></div></div><div class=\"sk-serial\"><div class=\"sk-item\"><div class=\"sk-serial\"><div class=\"sk-item\"><div class=\"sk-parallel\"><div class=\"sk-parallel-item\"><div class=\"sk-item\"><div class=\"sk-label-container\"><div class=\"sk-label sk-toggleable\"><label>GradientBoostingRegressor</label></div></div><div class=\"sk-serial\"><div class=\"sk-item\"><div class=\"sk-estimator sk-toggleable\"><input class=\"sk-toggleable__control sk-hidden--visually\" id=\"sk-estimator-id-133\" type=\"checkbox\" ><label for=\"sk-estimator-id-133\" class=\"sk-toggleable__label sk-toggleable__label-arrow\">GradientBoostingRegressor</label><div class=\"sk-toggleable__content\"><pre>GradientBoostingRegressor(learning_rate=0.05, loss=&#x27;huber&#x27;, max_depth=4,\n",
       "                          max_features=&#x27;sqrt&#x27;, min_samples_leaf=2,\n",
       "                          min_samples_split=32, n_estimators=2048)</pre></div></div></div></div></div></div><div class=\"sk-parallel-item\"><div class=\"sk-item\"><div class=\"sk-label-container\"><div class=\"sk-label sk-toggleable\"><label>ElasticNet</label></div></div><div class=\"sk-serial\"><div class=\"sk-item\"><div class=\"sk-estimator sk-toggleable\"><input class=\"sk-toggleable__control sk-hidden--visually\" id=\"sk-estimator-id-134\" type=\"checkbox\" ><label for=\"sk-estimator-id-134\" class=\"sk-toggleable__label sk-toggleable__label-arrow\">ElasticNet</label><div class=\"sk-toggleable__content\"><pre>ElasticNet(alpha=0.004, l1_ratio=0.95)</pre></div></div></div></div></div></div><div class=\"sk-parallel-item\"><div class=\"sk-item\"><div class=\"sk-label-container\"><div class=\"sk-label sk-toggleable\"><label>KernelRidge</label></div></div><div class=\"sk-serial\"><div class=\"sk-item\"><div class=\"sk-estimator sk-toggleable\"><input class=\"sk-toggleable__control sk-hidden--visually\" id=\"sk-estimator-id-135\" type=\"checkbox\" ><label for=\"sk-estimator-id-135\" class=\"sk-toggleable__label sk-toggleable__label-arrow\">KernelRidge</label><div class=\"sk-toggleable__content\"><pre>KernelRidge(alpha=2.5, coef0=0, degree=2, kernel=&#x27;polynomial&#x27;)</pre></div></div></div></div></div></div><div class=\"sk-parallel-item\"><div class=\"sk-item\"><div class=\"sk-label-container\"><div class=\"sk-label sk-toggleable\"><label>Lasso</label></div></div><div class=\"sk-serial\"><div class=\"sk-item\"><div class=\"sk-estimator sk-toggleable\"><input class=\"sk-toggleable__control sk-hidden--visually\" id=\"sk-estimator-id-136\" type=\"checkbox\" ><label for=\"sk-estimator-id-136\" class=\"sk-toggleable__label sk-toggleable__label-arrow\">Lasso</label><div class=\"sk-toggleable__content\"><pre>Lasso(alpha=0.01)</pre></div></div></div></div></div></div><div class=\"sk-parallel-item\"><div class=\"sk-item\"><div class=\"sk-label-container\"><div class=\"sk-label sk-toggleable\"><label>SVR</label></div></div><div class=\"sk-serial\"><div class=\"sk-item\"><div class=\"sk-estimator sk-toggleable\"><input class=\"sk-toggleable__control sk-hidden--visually\" id=\"sk-estimator-id-137\" type=\"checkbox\" ><label for=\"sk-estimator-id-137\" class=\"sk-toggleable__label sk-toggleable__label-arrow\">SVR</label><div class=\"sk-toggleable__content\"><pre>SVR(C=10, epsilon=0.0001, gamma=0.001)</pre></div></div></div></div></div></div></div></div><div class=\"sk-item\"><div class=\"sk-parallel\"><div class=\"sk-parallel-item\"><div class=\"sk-item\"><div class=\"sk-label-container\"><div class=\"sk-label sk-toggleable\"><label>final_estimator</label></div></div><div class=\"sk-serial\"><div class=\"sk-item\"><div class=\"sk-estimator sk-toggleable\"><input class=\"sk-toggleable__control sk-hidden--visually\" id=\"sk-estimator-id-138\" type=\"checkbox\" ><label for=\"sk-estimator-id-138\" class=\"sk-toggleable__label sk-toggleable__label-arrow\">ElasticNet</label><div class=\"sk-toggleable__content\"><pre>ElasticNet(alpha=0.004, l1_ratio=0.95)</pre></div></div></div></div></div></div></div></div></div></div></div></div></div><div class=\"sk-parallel-item\"><div class=\"sk-item\"><div class=\"sk-label-container\"><div class=\"sk-label sk-toggleable\"><input class=\"sk-toggleable__control sk-hidden--visually\" id=\"sk-estimator-id-139\" type=\"checkbox\" ><label for=\"sk-estimator-id-139\" class=\"sk-toggleable__label sk-toggleable__label-arrow\">transformer: PowerTransformer</label><div class=\"sk-toggleable__content\"><pre>PowerTransformer()</pre></div></div></div><div class=\"sk-serial\"><div class=\"sk-item\"><div class=\"sk-estimator sk-toggleable\"><input class=\"sk-toggleable__control sk-hidden--visually\" id=\"sk-estimator-id-140\" type=\"checkbox\" ><label for=\"sk-estimator-id-140\" class=\"sk-toggleable__label sk-toggleable__label-arrow\">PowerTransformer</label><div class=\"sk-toggleable__content\"><pre>PowerTransformer()</pre></div></div></div></div></div></div></div></div></div></div></div></div>"
      ],
      "text/plain": [
       "Pipeline(steps=[('add_boolean_features',\n",
       "                 FunctionTransformer(feature_names_out=<function add_boolean_feature_names at 0x00000214E1C03240>,\n",
       "                                     func=<function add_boolean_features at 0x00000214E1C02DE0>)),\n",
       "                ('add_total_features',\n",
       "                 FunctionTransformer(feature_names_out=<function add_total_sf_feature_names at 0x00000214E1C66980>,\n",
       "                                     func=<function add_total_sf_features at 0x00...\n",
       "                                                                                                               min_samples_split=32,\n",
       "                                                                                                               n_estimators=2048)),\n",
       "                                                                                    ('ElasticNet',\n",
       "                                                                                     ElasticNet(alpha=0.004,\n",
       "                                                                                                l1_ratio=0.95)),\n",
       "                                                                                    ('KernelRidge',\n",
       "                                                                                     KernelRidge(alpha=2.5,\n",
       "                                                                                                 coef0=0,\n",
       "                                                                                                 degree=2,\n",
       "                                                                                                 kernel='polynomial')),\n",
       "                                                                                    ('Lasso',\n",
       "                                                                                     Lasso(alpha=0.01)),\n",
       "                                                                                    ('SVR',\n",
       "                                                                                     SVR(C=10,\n",
       "                                                                                         epsilon=0.0001,\n",
       "                                                                                         gamma=0.001))],\n",
       "                                                                        final_estimator=ElasticNet(alpha=0.004,\n",
       "                                                                                                   l1_ratio=0.95),\n",
       "                                                                        passthrough=True),\n",
       "                                            transformer=PowerTransformer()))])"
      ]
     },
     "execution_count": 99,
     "metadata": {},
     "output_type": "execute_result"
    }
   ],
   "source": [
    "pipe"
   ]
  },
  {
   "cell_type": "code",
   "execution_count": 100,
   "id": "bc18d5cb-04c5-4cca-9ab1-03d32689f492",
   "metadata": {},
   "outputs": [],
   "source": [
    "scores = numpy.sqrt(-cross_val_score(pipe, X_train, y_train, cv=5, scoring=score_function))"
   ]
  },
  {
   "cell_type": "code",
   "execution_count": 101,
   "id": "f8e68a2a-b39b-4146-8328-d258cb3a0ce5",
   "metadata": {},
   "outputs": [
    {
     "data": {
      "text/plain": [
       "array([0.11256529, 0.10400343, 0.1763311 , 0.13467068, 0.09755219])"
      ]
     },
     "execution_count": 101,
     "metadata": {},
     "output_type": "execute_result"
    }
   ],
   "source": [
    "scores"
   ]
  },
  {
   "cell_type": "code",
   "execution_count": 103,
   "id": "d33bdfae-6230-4c9d-91a7-f24d6b4d9fed",
   "metadata": {},
   "outputs": [
    {
     "data": {
      "text/plain": [
       "(0.125024538570721, 0.028556122937579195)"
      ]
     },
     "execution_count": 103,
     "metadata": {},
     "output_type": "execute_result"
    }
   ],
   "source": [
    "numpy.mean(scores), numpy.std(scores)"
   ]
  },
  {
   "cell_type": "code",
   "execution_count": 104,
   "id": "29aba974-122f-4496-8128-19f841bafa40",
   "metadata": {},
   "outputs": [],
   "source": [
    "y_pred = pipe.fit(X_train, y_train).predict(X_test)"
   ]
  },
  {
   "cell_type": "code",
   "execution_count": 105,
   "id": "806eb68d-be94-4e0f-9034-45cffbbac305",
   "metadata": {},
   "outputs": [
    {
     "data": {
      "text/plain": [
       "0.13643327772604477"
      ]
     },
     "execution_count": 105,
     "metadata": {},
     "output_type": "execute_result"
    }
   ],
   "source": [
    "numpy.sqrt(mean_squared_log_error(y_test, y_pred))"
   ]
  },
  {
   "cell_type": "code",
   "execution_count": null,
   "id": "ee58e4b4-30b6-499f-b32c-3e264ce2be8a",
   "metadata": {},
   "outputs": [],
   "source": []
  },
  {
   "cell_type": "code",
   "execution_count": null,
   "id": "e3aa4963-a6c1-4971-b8d1-af1f8eef151b",
   "metadata": {},
   "outputs": [],
   "source": []
  }
 ],
 "metadata": {
  "kernelspec": {
   "display_name": "Python 3 (ipykernel)",
   "language": "python",
   "name": "python3"
  },
  "language_info": {
   "codemirror_mode": {
    "name": "ipython",
    "version": 3
   },
   "file_extension": ".py",
   "mimetype": "text/x-python",
   "name": "python",
   "nbconvert_exporter": "python",
   "pygments_lexer": "ipython3",
   "version": "3.11.5"
  }
 },
 "nbformat": 4,
 "nbformat_minor": 5
}

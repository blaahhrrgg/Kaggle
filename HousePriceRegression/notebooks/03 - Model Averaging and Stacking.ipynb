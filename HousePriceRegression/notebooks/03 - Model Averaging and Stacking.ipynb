{
 "cells": [
  {
   "cell_type": "code",
   "execution_count": 1,
   "id": "bb8c1708-7671-4bed-a10a-3de05319056c",
   "metadata": {},
   "outputs": [],
   "source": [
    "import itertools\n",
    "import pandas\n",
    "import numpy\n",
    "import os\n",
    "\n",
    "from sklearn.pipeline import Pipeline\n",
    "from sklearn.preprocessing import StandardScaler, PowerTransformer, OrdinalEncoder, FunctionTransformer\n",
    "from sklearn.impute import SimpleImputer\n",
    "from sklearn.compose import ColumnTransformer, TransformedTargetRegressor\n",
    "\n",
    "from sklearn.ensemble import RandomForestRegressor, GradientBoostingRegressor, StackingRegressor\n",
    "from sklearn.linear_model import LinearRegression, Lasso, Ridge, ElasticNet\n",
    "from sklearn.kernel_ridge import KernelRidge\n",
    "from sklearn.svm import SVR\n",
    "\n",
    "from sklearn.base import BaseEstimator, TransformerMixin, RegressorMixin, clone\n",
    "\n",
    "from sklearn.model_selection import train_test_split, cross_val_score, GridSearchCV, KFold\n",
    "from sklearn.inspection import permutation_importance\n",
    "from sklearn.metrics import mean_squared_log_error, mean_squared_error, make_scorer\n",
    "\n",
    "from joblib import dump, load\n",
    "\n",
    "import seaborn\n",
    "import matplotlib\n",
    "import matplotlib.pyplot as plt\n",
    "\n",
    "import warnings\n",
    "warnings.filterwarnings('ignore')"
   ]
  },
  {
   "cell_type": "markdown",
   "id": "92ea3e99-148f-46fe-a918-ceae6d8ff74f",
   "metadata": {},
   "source": [
    "### Context\n",
    "\n",
    "In this notebook we experiment with some model stacking / averaging techniques."
   ]
  },
  {
   "cell_type": "markdown",
   "id": "bdc64c5b-8cae-438f-987c-2d8acd96ed79",
   "metadata": {},
   "source": [
    "### Load data"
   ]
  },
  {
   "cell_type": "code",
   "execution_count": 2,
   "id": "976be0cb-76c3-4ca5-9dc0-e8c14550a5cc",
   "metadata": {},
   "outputs": [],
   "source": [
    "X_train = pandas.read_csv(\"../data/split/X_train.csv\", index_col=\"Id\")\n",
    "X_test = pandas.read_csv(\"../data/split/X_test.csv\", index_col=\"Id\")\n",
    "y_train = pandas.read_csv(\"../data/split/y_train.csv\", index_col=\"Id\")[\"SalePrice\"]\n",
    "y_test = pandas.read_csv(\"../data/split/y_test.csv\", index_col=\"Id\")[\"SalePrice\"]"
   ]
  },
  {
   "cell_type": "markdown",
   "id": "7d168568-db8a-4e27-a4be-cd70f1c19aa8",
   "metadata": {},
   "source": [
    "### Load models\n",
    "\n",
    "Re-instantiate locally defined methods"
   ]
  },
  {
   "cell_type": "code",
   "execution_count": 3,
   "id": "dd6b677f-6252-4465-b91f-25962d1c4609",
   "metadata": {},
   "outputs": [],
   "source": [
    "def add_boolean_features(df):\n",
    "    return (\n",
    "        df\n",
    "        .assign(\n",
    "            HasPool=lambda x: numpy.where(x[\"PoolArea\"] > 0, 1, 0),\n",
    "            Has2ndFloor=lambda x: numpy.where(x[\"2ndFlrSF\"] > 0, 1, 0),\n",
    "            HasGarage=lambda x: numpy.where(x[\"GarageArea\"] > 0, 1, 0),\n",
    "            HasBasement=lambda x: numpy.where(x[\"TotalBsmtSF\"] > 0, 1, 0),\n",
    "            HasFireplace=lambda x: numpy.where(x[\"Fireplaces\"] > 0, 1, 0),\n",
    "            HasBeenRemodelled=lambda x: numpy.where(x[\"YearBuilt\"] == x[\"YearRemodAdd\"], 1, 0),\n",
    "        )\n",
    "    )\n",
    "\n",
    "def add_boolean_feature_names(self, input_features):\n",
    "    return numpy.hstack([\n",
    "        input_features,\n",
    "        [\"HasPool\", \"Has2ndFloor\", \"HasGarage\", \"HasBasement\", \"HasFireplace\", \"HasBeenRemodelled\"]\n",
    "    ])\n",
    "\n",
    "def add_total_sf_features(df):\n",
    "    return (\n",
    "        df\n",
    "        .assign(\n",
    "            TotalSF=lambda x: x[\"TotalBsmtSF\"] + x[\"1stFlrSF\"] + x[\"2ndFlrSF\"],\n",
    "            TotalBathrooms=lambda x: x[\"FullBath\"] + 0.5 * x[\"HalfBath\"] + x[\"BsmtFullBath\"] + 0.5 * x[\"BsmtHalfBath\"],\n",
    "            TotalPorchSF=lambda x: x[\"OpenPorchSF\"] + x[\"3SsnPorch\"] + x[\"EnclosedPorch\"] + x[\"ScreenPorch\"] + x[\"WoodDeckSF\"],\n",
    "            BuildingAge=lambda x: x[\"YrSold\"] - x[\"YearRemodAdd\"],\n",
    "        )\n",
    "    )\n",
    "\n",
    "def add_total_sf_feature_names(self, input_features):\n",
    "    return numpy.hstack([\n",
    "        input_features,\n",
    "        [\"TotalSF\", \"TotalBathrooms\", \"TotalPorchSF\", \"BuildingAge\"]\n",
    "    ])\n",
    "\n",
    "def add_neighborhood_features(df):\n",
    "\n",
    "    nghd_scores = (\n",
    "        df\n",
    "        .groupby(by=[\"Neighborhood\"])\n",
    "        .agg({\"OverallQual\": \"mean\"})\n",
    "        .sort_values(by=[\"OverallQual\"], ascending=False)\n",
    "    )\n",
    "\n",
    "    return (\n",
    "        df\n",
    "        .assign(\n",
    "            NeighborhoodQual=lambda x: numpy.select(\n",
    "                [x[\"Neighborhood\"].isin(nghd_scores.head(3).index), x[\"Neighborhood\"].isin(nghd_scores.tail(3).index)],\n",
    "                [\"High\", \"Low\"],\n",
    "                default=\"Mid\"\n",
    "            )\n",
    "        )\n",
    "    )\n",
    "\n",
    "def add_neighborhood_feature_names(self, input_features):\n",
    "    return numpy.hstack([\n",
    "        input_features,\n",
    "        [\"NeighborhoodQual\"]\n",
    "    ])"
   ]
  },
  {
   "cell_type": "code",
   "execution_count": 4,
   "id": "c1d2df5c-ae99-44d1-8efb-320e88a109fc",
   "metadata": {},
   "outputs": [],
   "source": [
    "score_function = make_scorer(mean_squared_log_error, greater_is_better=False)"
   ]
  },
  {
   "cell_type": "code",
   "execution_count": 5,
   "id": "64cf13ae-6eba-4155-92fd-4096699d1c8b",
   "metadata": {},
   "outputs": [],
   "source": [
    "fnames = os.listdir(\"../models/\")\n",
    "\n",
    "models = {}\n",
    "\n",
    "for fname in fnames:\n",
    "    models[fname.split(\".\")[0]] = load(f\"../models/{fname}\")"
   ]
  },
  {
   "cell_type": "code",
   "execution_count": 6,
   "id": "82ba4a27-1855-4746-89a4-87a7a999e225",
   "metadata": {},
   "outputs": [
    {
     "data": {
      "text/plain": [
       "['ElasticNet', 'GradientBoostingRegressor', 'KernelRidge', 'Lasso', 'SVR']"
      ]
     },
     "execution_count": 6,
     "metadata": {},
     "output_type": "execute_result"
    }
   ],
   "source": [
    "list(models.keys())"
   ]
  },
  {
   "cell_type": "markdown",
   "id": "4b2d777a-8a96-430c-8bcf-c2f85636d10c",
   "metadata": {},
   "source": [
    "### Basic Model Averaging\n",
    "\n",
    "Examine combining predictions"
   ]
  },
  {
   "cell_type": "code",
   "execution_count": 7,
   "id": "dcf1e122-8668-43f2-888a-34f8effafcc0",
   "metadata": {},
   "outputs": [],
   "source": [
    "y_pred1 = models[\"SVR\"].fit(X_train, y_train).predict(X_test)\n",
    "y_pred2 = models[\"ElasticNet\"].fit(X_train, y_train).predict(X_test)"
   ]
  },
  {
   "cell_type": "code",
   "execution_count": 8,
   "id": "9157867a-30ed-42bb-98d6-d493b6ab8c94",
   "metadata": {},
   "outputs": [
    {
     "data": {
      "text/plain": [
       "(0.15612958859214993, 0.1497961813903102)"
      ]
     },
     "execution_count": 8,
     "metadata": {},
     "output_type": "execute_result"
    }
   ],
   "source": [
    "numpy.sqrt(mean_squared_log_error(y_test, y_pred1)), numpy.sqrt(mean_squared_log_error(y_test, y_pred2))"
   ]
  },
  {
   "cell_type": "code",
   "execution_count": 9,
   "id": "c4c6110d-aabf-4890-8b7e-e91ecdb0666a",
   "metadata": {},
   "outputs": [],
   "source": [
    "tmp = []\n",
    "\n",
    "for alpha in numpy.linspace(0, 1, 101):\n",
    "    tmp.append({\n",
    "        \"alpha\": alpha,\n",
    "        \"err\": numpy.sqrt(mean_squared_log_error(y_test, alpha * y_pred1 + (1 - alpha) * y_pred2))\n",
    "    })"
   ]
  },
  {
   "cell_type": "code",
   "execution_count": 10,
   "id": "0bb65895-a0cc-4046-a422-51ba724f3fb5",
   "metadata": {},
   "outputs": [
    {
     "data": {
      "text/plain": [
       "<matplotlib.lines.Line2D at 0x184db80f990>"
      ]
     },
     "execution_count": 10,
     "metadata": {},
     "output_type": "execute_result"
    },
    {
     "data": {
      "image/png": "[encoded data removed]",
      "text/plain": [
       "<Figure size 600x400 with 1 Axes>"
      ]
     },
     "metadata": {},
     "output_type": "display_data"
    }
   ],
   "source": [
    "f, ax = plt.subplots(1, 1, figsize=(6, 4))\n",
    "\n",
    "df_err = pandas.DataFrame(tmp).set_index(keys=[\"alpha\"])\n",
    "\n",
    "df_err.plot(ax=ax)\n",
    "ax.axvline(x=df_err.sort_values(by=[\"err\"]).index[0], ls='--', color='orange')"
   ]
  },
  {
   "cell_type": "code",
   "execution_count": 11,
   "id": "c28f8217-351a-450f-b1fc-e8453bb88c8d",
   "metadata": {},
   "outputs": [
    {
     "data": {
      "text/html": [
       "<div>\n",
       "<style scoped>\n",
       "    .dataframe tbody tr th:only-of-type {\n",
       "        vertical-align: middle;\n",
       "    }\n",
       "\n",
       "    .dataframe tbody tr th {\n",
       "        vertical-align: top;\n",
       "    }\n",
       "\n",
       "    .dataframe thead th {\n",
       "        text-align: right;\n",
       "    }\n",
       "</style>\n",
       "<table border=\"1\" class=\"dataframe\">\n",
       "  <thead>\n",
       "    <tr style=\"text-align: right;\">\n",
       "      <th></th>\n",
       "      <th>err</th>\n",
       "    </tr>\n",
       "    <tr>\n",
       "      <th>alpha</th>\n",
       "      <th></th>\n",
       "    </tr>\n",
       "  </thead>\n",
       "  <tbody>\n",
       "    <tr>\n",
       "      <th>0.35</th>\n",
       "      <td>0.146925</td>\n",
       "    </tr>\n",
       "    <tr>\n",
       "      <th>0.36</th>\n",
       "      <td>0.146927</td>\n",
       "    </tr>\n",
       "    <tr>\n",
       "      <th>0.34</th>\n",
       "      <td>0.146928</td>\n",
       "    </tr>\n",
       "    <tr>\n",
       "      <th>0.37</th>\n",
       "      <td>0.146933</td>\n",
       "    </tr>\n",
       "    <tr>\n",
       "      <th>0.33</th>\n",
       "      <td>0.146936</td>\n",
       "    </tr>\n",
       "    <tr>\n",
       "      <th>0.38</th>\n",
       "      <td>0.146944</td>\n",
       "    </tr>\n",
       "    <tr>\n",
       "      <th>0.32</th>\n",
       "      <td>0.146948</td>\n",
       "    </tr>\n",
       "    <tr>\n",
       "      <th>0.39</th>\n",
       "      <td>0.146960</td>\n",
       "    </tr>\n",
       "    <tr>\n",
       "      <th>0.31</th>\n",
       "      <td>0.146965</td>\n",
       "    </tr>\n",
       "    <tr>\n",
       "      <th>0.40</th>\n",
       "      <td>0.146980</td>\n",
       "    </tr>\n",
       "  </tbody>\n",
       "</table>\n",
       "</div>"
      ],
      "text/plain": [
       "            err\n",
       "alpha          \n",
       "0.35   0.146925\n",
       "0.36   0.146927\n",
       "0.34   0.146928\n",
       "0.37   0.146933\n",
       "0.33   0.146936\n",
       "0.38   0.146944\n",
       "0.32   0.146948\n",
       "0.39   0.146960\n",
       "0.31   0.146965\n",
       "0.40   0.146980"
      ]
     },
     "execution_count": 11,
     "metadata": {},
     "output_type": "execute_result"
    }
   ],
   "source": [
    "pandas.DataFrame(tmp).set_index(keys=[\"alpha\"]).sort_values(by=[\"err\"]).head(10)"
   ]
  },
  {
   "cell_type": "markdown",
   "id": "abbb2a79-3f39-4706-8dfd-df48d49db10b",
   "metadata": {},
   "source": [
    "So taking a weighted average across models could lead to a better prediction."
   ]
  },
  {
   "cell_type": "markdown",
   "id": "2eea8a48-cb35-41cf-907b-abdd0c7f7b34",
   "metadata": {},
   "source": [
    "### Stacking Regressor - No pass through of features\n",
    "\n",
    "Use `StackingRegressor` to combine outputs from different models, do not pass through features"
   ]
  },
  {
   "cell_type": "code",
   "execution_count": 12,
   "id": "dc7b5c01-d26f-432b-ab35-ccde90b50431",
   "metadata": {},
   "outputs": [],
   "source": [
    "stacked_regressor = StackingRegressor(\n",
    "    estimators=[(name, model) for name, model in models.items()],\n",
    "    final_estimator=Lasso(),\n",
    "    passthrough=False,\n",
    "    cv=5\n",
    ")"
   ]
  },
  {
   "cell_type": "code",
   "execution_count": 13,
   "id": "9b1ec952-7e7d-4202-a2c2-98c04533a557",
   "metadata": {},
   "outputs": [],
   "source": [
    "m = stacked_regressor.fit(X_train, y_train)"
   ]
  },
  {
   "cell_type": "code",
   "execution_count": 14,
   "id": "43c09885-4275-4349-9c48-ac139f1def0d",
   "metadata": {},
   "outputs": [
    {
     "data": {
      "text/plain": [
       "0.03969524436974401"
      ]
     },
     "execution_count": 14,
     "metadata": {},
     "output_type": "execute_result"
    }
   ],
   "source": [
    "numpy.sqrt(mean_squared_log_error(y_train, m.predict(X_train)))"
   ]
  },
  {
   "cell_type": "code",
   "execution_count": 15,
   "id": "cb127237-2360-4e37-80c5-2a9e989be7a7",
   "metadata": {},
   "outputs": [
    {
     "data": {
      "text/plain": [
       "0.143003531407995"
      ]
     },
     "execution_count": 15,
     "metadata": {},
     "output_type": "execute_result"
    }
   ],
   "source": [
    "numpy.sqrt(mean_squared_log_error(y_test, m.predict(X_test)))"
   ]
  },
  {
   "cell_type": "code",
   "execution_count": 16,
   "id": "5d6a44cd-9d1b-4d05-971a-4e81eb51abb6",
   "metadata": {},
   "outputs": [
    {
     "data": {
      "text/plain": [
       "array([ 0.43967252,  1.08340918, -0.34672734, -0.29120475,  0.15518536])"
      ]
     },
     "execution_count": 16,
     "metadata": {},
     "output_type": "execute_result"
    }
   ],
   "source": [
    "stacked_regressor.final_estimator_.coef_"
   ]
  },
  {
   "cell_type": "code",
   "execution_count": 17,
   "id": "f43be0e6-8049-4d0b-858c-eb58382ac72c",
   "metadata": {},
   "outputs": [
    {
     "data": {
      "text/plain": [
       "-5327.160146152193"
      ]
     },
     "execution_count": 17,
     "metadata": {},
     "output_type": "execute_result"
    }
   ],
   "source": [
    "stacked_regressor.final_estimator_.intercept_"
   ]
  },
  {
   "cell_type": "markdown",
   "id": "c25f1c2e-7d07-46ba-b987-548d1f63c964",
   "metadata": {},
   "source": [
    "### Stacking Regressor - Pass through features\n",
    "\n",
    "To pass through features, we need to define feature preprocessing. Creating a single pipeline is not straightforward (see [here](https://github.com/scikit-learn/scikit-learn/issues/16473)) - so we define the procedure manually"
   ]
  },
  {
   "cell_type": "code",
   "execution_count": 18,
   "id": "64d814dc-ddd5-40bb-8012-5643fdbc2a28",
   "metadata": {},
   "outputs": [],
   "source": [
    "class StackingRegressorCustom(BaseEstimator, RegressorMixin, TransformerMixin):\n",
    "    \n",
    "    def __init__(self, base_models, meta_model, n_folds=5):\n",
    "        self.base_models = base_models\n",
    "        self.meta_model = meta_model\n",
    "        self.n_folds = n_folds\n",
    "\n",
    "    def fit(self, X, y):\n",
    "        \n",
    "        self.base_models_ = [list() for x in self.base_models.keys()]\n",
    "        self.meta_model_ = clone(self.meta_model)\n",
    "        \n",
    "        kfold = KFold(n_splits=self.n_folds, shuffle=True, random_state=12345)\n",
    "\n",
    "        # Train cloned base models to create out-of-fold predictions\n",
    "        out_of_fold_predictions = numpy.zeros((X.shape[0], len(self.base_models)))       \n",
    "        \n",
    "        for i, model in enumerate(self.base_models.values()):\n",
    "            for train_idx, holdout_idx in kfold.split(X, y):\n",
    "\n",
    "                m = clone(model)\n",
    "                self.base_models_[i].append(m)\n",
    "                m.fit(X.iloc[train_idx], y.iloc[train_idx])\n",
    "                y_pred = m.predict(X.iloc[holdout_idx])\n",
    "                out_of_fold_predictions[holdout_idx, i] = y_pred\n",
    "\n",
    "        # Transform to DataFrame\n",
    "        df_oos_pred = pandas.DataFrame(\n",
    "            out_of_fold_predictions,\n",
    "            columns=list(self.base_models.keys()),\n",
    "            index=X.index\n",
    "        )\n",
    "\n",
    "        # Join onto original training dataset\n",
    "        X_train_new = X.join(df_oos_pred)\n",
    "\n",
    "        # Now train the cloned meta-model using the out-of-fold\n",
    "        # predictions as new features in the training dataset\n",
    "        self.meta_model_.fit(X_train_new, y)\n",
    "        \n",
    "        return self\n",
    "   \n",
    "    def predict(self, X):\n",
    "\n",
    "        # Calculate predictions for all base models\n",
    "        preds = numpy.column_stack([\n",
    "            numpy.column_stack([model.predict(X) for model in base_models]).mean(axis=1)\n",
    "            for base_models in self.base_models_\n",
    "        ])\n",
    "\n",
    "        df_preds = pandas.DataFrame(\n",
    "            preds,\n",
    "            columns=list(self.base_models.keys()),\n",
    "            index=X.index\n",
    "        )\n",
    "\n",
    "        # Append onto features X\n",
    "        X_meta = X.join(df_preds)\n",
    "        \n",
    "        # Predict using meta model\n",
    "        return self.meta_model_.predict(X_meta)"
   ]
  },
  {
   "cell_type": "code",
   "execution_count": 19,
   "id": "5a7467cc-1a72-46ac-b38d-cd4c1351ceb1",
   "metadata": {},
   "outputs": [],
   "source": [
    "stacked_regressor = StackingRegressorCustom(\n",
    "    base_models=models,\n",
    "    meta_model=clone(models[\"GradientBoostingRegressor\"]),\n",
    "    n_folds=5\n",
    ")"
   ]
  },
  {
   "cell_type": "code",
   "execution_count": 20,
   "id": "90a9cd8b-65a5-4fc0-b717-58faa36e59ae",
   "metadata": {},
   "outputs": [],
   "source": [
    "stacked_regressor = stacked_regressor.fit(X_train, y_train)"
   ]
  },
  {
   "cell_type": "code",
   "execution_count": 21,
   "id": "3ade7be4-0ec9-459e-bce3-7d7ba2f74fda",
   "metadata": {},
   "outputs": [
    {
     "data": {
      "text/plain": [
       "0.04298946737777465"
      ]
     },
     "execution_count": 21,
     "metadata": {},
     "output_type": "execute_result"
    }
   ],
   "source": [
    "numpy.sqrt(mean_squared_log_error(y_train, stacked_regressor.predict(X_train)))"
   ]
  },
  {
   "cell_type": "code",
   "execution_count": 22,
   "id": "b5926848-803c-454a-9a53-b6cc9c53d740",
   "metadata": {},
   "outputs": [
    {
     "data": {
      "text/plain": [
       "0.13512204744239695"
      ]
     },
     "execution_count": 22,
     "metadata": {},
     "output_type": "execute_result"
    }
   ],
   "source": [
    "numpy.sqrt(mean_squared_log_error(y_test, stacked_regressor.predict(X_test)))"
   ]
  },
  {
   "cell_type": "markdown",
   "id": "f5758093-1f69-4a73-adab-d01e7f135de1",
   "metadata": {},
   "source": [
    "### Train on entire dataset"
   ]
  },
  {
   "cell_type": "code",
   "execution_count": 23,
   "id": "3fbed028-6db6-481e-b42c-daf532317396",
   "metadata": {},
   "outputs": [],
   "source": [
    "X_full = pandas.concat([X_train, X_test])\n",
    "y_full = pandas.concat([y_train, y_test])"
   ]
  },
  {
   "cell_type": "code",
   "execution_count": 24,
   "id": "12eef978-2896-4a1a-85e3-c3f789048f22",
   "metadata": {},
   "outputs": [
    {
     "data": {
      "text/plain": [
       "(1460, 79)"
      ]
     },
     "execution_count": 24,
     "metadata": {},
     "output_type": "execute_result"
    }
   ],
   "source": [
    "X_full.shape"
   ]
  },
  {
   "cell_type": "code",
   "execution_count": 25,
   "id": "6f9ce40f-d5c4-4da3-8e4b-01a7925c09da",
   "metadata": {},
   "outputs": [
    {
     "data": {
      "text/plain": [
       "(1460,)"
      ]
     },
     "execution_count": 25,
     "metadata": {},
     "output_type": "execute_result"
    }
   ],
   "source": [
    "y_full.shape"
   ]
  },
  {
   "cell_type": "code",
   "execution_count": 26,
   "id": "4c9df6f0-a437-4bdc-9bad-fe25f127e36d",
   "metadata": {},
   "outputs": [],
   "source": [
    "model_full = stacked_regressor.fit(X_full, y_full)"
   ]
  },
  {
   "cell_type": "code",
   "execution_count": 27,
   "id": "a5dc4bee-cbd7-4c26-b698-b47cd0954981",
   "metadata": {},
   "outputs": [
    {
     "data": {
      "text/plain": [
       "0.043948347697895504"
      ]
     },
     "execution_count": 27,
     "metadata": {},
     "output_type": "execute_result"
    }
   ],
   "source": [
    "# In sample\n",
    "numpy.sqrt(mean_squared_log_error(y_full, model_full.predict(X_full)))"
   ]
  },
  {
   "cell_type": "code",
   "execution_count": null,
   "id": "f81aeeef-b9ca-455c-96b3-4ebed703f3b0",
   "metadata": {},
   "outputs": [],
   "source": []
  },
  {
   "cell_type": "code",
   "execution_count": null,
   "id": "de443837-34a5-4296-a2f9-8bca16aec189",
   "metadata": {},
   "outputs": [],
   "source": []
  },
  {
   "cell_type": "code",
   "execution_count": null,
   "id": "287d571b-eba5-4107-8f43-1ca26b8745f6",
   "metadata": {},
   "outputs": [],
   "source": []
  }
 ],
 "metadata": {
  "kernelspec": {
   "display_name": "Python 3 (ipykernel)",
   "language": "python",
   "name": "python3"
  },
  "language_info": {
   "codemirror_mode": {
    "name": "ipython",
    "version": 3
   },
   "file_extension": ".py",
   "mimetype": "text/x-python",
   "name": "python",
   "nbconvert_exporter": "python",
   "pygments_lexer": "ipython3",
   "version": "3.11.5"
  }
 },
 "nbformat": 4,
 "nbformat_minor": 5
}
